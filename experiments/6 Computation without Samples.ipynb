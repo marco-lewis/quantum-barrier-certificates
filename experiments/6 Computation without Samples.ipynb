{
 "cells": [
  {
   "cell_type": "code",
   "execution_count": 1,
   "id": "fbb6d61c-294c-476d-825b-59571a8209de",
   "metadata": {},
   "outputs": [],
   "source": [
    "import cmath\n",
    "from copy import copy, deepcopy\n",
    "import itertools\n",
    "import warnings\n",
    "\n",
    "from complex import *\n",
    "from ComplexVector import *\n",
    "from FuncClasses import *\n",
    "from RegionClasses import *\n",
    "from regions import *\n",
    "from utils import *\n",
    "\n",
    "# import cvxpy as cp\n",
    "import numpy as np\n",
    "import sympy as sym\n",
    "from z3 import *\n",
    "import scipy as sp\n",
    "from scipy.optimize import NonlinearConstraint, Bounds, minimize, linprog, OptimizeWarning"
   ]
  },
  {
   "cell_type": "markdown",
   "id": "0b6b865f-5749-48b9-a024-3de90bc0ce60",
   "metadata": {
    "tags": []
   },
   "source": [
    "# Functions"
   ]
  },
  {
   "cell_type": "markdown",
   "id": "84f05203-c19b-4db1-ba7a-04783f9276ba",
   "metadata": {
    "jp-MarkdownHeadingCollapsed": true,
    "tags": []
   },
   "source": [
    "## Z3"
   ]
  },
  {
   "cell_type": "code",
   "execution_count": 2,
   "id": "77932a8c-bf65-489b-8bd4-cfb817335c93",
   "metadata": {},
   "outputs": [],
   "source": [
    "def z3_find_b(barrier, states, f_vec, term_powers, coeffs, prec=2):\n",
    "    dbdz = FuncVec([diff(barrier, i) for i in range(states)])\n",
    "    dbdzconj = FuncVec([diff(barrier, i) for i in range(states, 2*states)])\n",
    "    dbdt = (dbdz * f_vec) + (dbdzconj * f_vec.conj())\n",
    "    print(\"Differential of barrier made...\")\n",
    "    \n",
    "    barr_minus_conj = barrier - barrier.conj()\n",
    "    \n",
    "    s = Solver()\n",
    "    # Basic conditions\n",
    "    s.add([simplify(coeff == 0) for coeff in dbdt.get_coeffs()])\n",
    "    s.add([simplify(coeff == 0) for coeff in barr_minus_conj.get_coeffs()])\n",
    "    # s.add(Not(And([coeff == 0 for coeff in barrier.get_coeffs()])))\n",
    "\n",
    "    idx = []\n",
    "    for i in range(states):\n",
    "        temp = [0]*states\n",
    "        temp[i] = 1\n",
    "        idx.append(term_powers.index(temp*2))\n",
    "    prob_coeffs = [coeffs[i] for i in idx]\n",
    "    s.add(sum(prob_coeffs) == 1)\n",
    "    # Make coeffs of probability sum distinct (a_i from sum(a_i z_i*conj(z_i)))\n",
    "    d = And([prob_coeffs[i] == prob_coeffs[i+1] for i in range(len(prob_coeffs) - 1)])\n",
    "    s.add(Or(Not(d), And([And(p.r == 0,p.i==0) for p in prob_coeffs])))\n",
    "\n",
    "    print(\"Solver ready...\")\n",
    "    ms = print_all_models(s)\n",
    "    return barrier.get_sym_sum(ms[0], prec)\n"
   ]
  },
  {
   "cell_type": "code",
   "execution_count": 3,
   "id": "d2931a2b-51b6-4263-9eef-2daa1d519cd4",
   "metadata": {},
   "outputs": [],
   "source": [
    "def z3_find_constant(barrier, init_conditions=[]):\n",
    "    zs = barrier.free_symbols\n",
    "    z3_vars, z3_barrier = sympy_to_z3(zs, barrier)\n",
    "    z0 = Complex('z0')\n",
    "    z1 = Complex('z1')\n",
    "    o = Optimize()\n",
    "    o.add(z0.len_sqr() >= 0.9, z0.len_sqr() <= 1)\n",
    "    o.add(z1.len_sqr() <= 0.1, z1.len_sqr() >= 0)\n",
    "    o.add(z1.len_sqr() + z0.len_sqr() == 1)\n",
    "    o.maximize(z3_barrier.r)\n",
    "    o.set(timeout=5000)\n",
    "    # c = Real('c')\n",
    "    # s = Solver()\n",
    "    # init = And(z0.len_sqr() >= 0.9, z0.len_sqr() <= 1, z1.len_sqr() <= 0.1, z1.len_sqr() >= 0, z0.len_sqr() + z1.len_sqr() == 1)\n",
    "    # s.add(ForAll([z0.r,z0.i,z1.r,z1.i], Implies(init, c + z3_barrier.r >= 0)))\n",
    "    print(\"Optimizing\")\n",
    "    print(o.check())\n",
    "    model = o.model()\n",
    "    \n",
    "    print(\"Getting value...\")\n",
    "    vs = [(v, get_real_from_model(model, v.r) + 1j*get_real_from_model(model, v.i)) for v in z3_vars]\n",
    "    value = barrier\n",
    "    # Pair symbols with values from Z3\n",
    "    for sym in barrier.free_symbols:\n",
    "        for v in vs:\n",
    "            if str(sym) == str(v[0]): value = value.subs({sym: v[1]})\n",
    "    return -value"
   ]
  },
  {
   "cell_type": "markdown",
   "id": "a5cb1d17-d94d-4964-a6b0-f0c4c5dfd35c",
   "metadata": {
    "tags": []
   },
   "source": [
    "## Scipy"
   ]
  },
  {
   "cell_type": "code",
   "execution_count": 4,
   "id": "1a2fa864-5b4e-4552-b5bd-99ffe1699550",
   "metadata": {},
   "outputs": [],
   "source": [
    "def diff_fsum(fsum, i):\n",
    "    new_fsum = []\n",
    "    for fterm in fsum.fterms:\n",
    "        t = deepcopy(fterm.var)\n",
    "        if t[i] != 0:\n",
    "            c = fterm.coeff * t[i]\n",
    "            t[i] -= 1\n",
    "            new_fsum.append(FuncTerm(c, t))\n",
    "    return FuncSum(new_fsum)\n",
    "\n",
    "def scipy_find_b(barrier, states, f_vec, term_powers, prec=2, linprog_obj=[]):\n",
    "    # Make appropriate conditions using representation\n",
    "    dbdz = FuncVec([diff_fsum(barrier, i) for i in range(states)])\n",
    "    dbdzconj = FuncVec([diff(barrier, i) for i in range(states, 2*states)])\n",
    "    dbdt = (dbdz * f_vec) + (dbdzconj * f_vec.conj())\n",
    "    barr_minus_conj = barrier - barrier.conj()\n",
    "    \n",
    "    # Create linprog matrices and vectors\n",
    "    A_dbdt = [list(term.coeff.imag) for term in dbdt.fterms]\n",
    "    b_dbdt = [0]*len(A_dbdt)\n",
    "    \n",
    "    A_conj = [list(term.coeff) for term in barr_minus_conj.fterms]\n",
    "    b_conj = [0]*len(A_conj)\n",
    "    \n",
    "    A = np.array(A_dbdt + A_conj)\n",
    "    b = np.array(b_dbdt + b_conj)\n",
    "    # Minimize vector (min c^T x subject to ...)\n",
    "    c = np.array([0]*len(term_powers))\n",
    "    for i in linprog_obj:\n",
    "        c[i] = 1\n",
    "    \n",
    "    # Negate A doesn't matter unless used for A_ub\n",
    "    res = linprog(c,\n",
    "                  A_eq=A,\n",
    "                  b_eq=b,\n",
    "                  bounds=(-1,1),\n",
    "                 )\n",
    "    return barrier.get_sym_sum(res.x, prec)"
   ]
  },
  {
   "cell_type": "code",
   "execution_count": 5,
   "id": "f3daed9c-e329-4322-b5dc-f90ad592345c",
   "metadata": {},
   "outputs": [],
   "source": [
    "def scipy_find_constant(barrier_sym, states, init=[], prec=2):\n",
    "    # Create objective function from Sympy barrier\n",
    "    def obj(x):\n",
    "        z = [x[2*i] + 1j*x[2*i + 1] for i in range(states)]\n",
    "        b = barrier_sym\n",
    "        for var_sym in barrier_sym.free_symbols:\n",
    "            sym_num = int(str(var_sym)[1:])\n",
    "            b = b.subs({var_sym: z[sym_num]})\n",
    "        return -float(sym.re(b))\n",
    "\n",
    "    # Bounds and guesses\n",
    "    bounds = Bounds([-1]*2*states, [1]*2*states)\n",
    "    guess = [0]*2*states\n",
    "    guess[0] = 1\n",
    "    \n",
    "    res = minimize(obj,\n",
    "                   guess,\n",
    "                   method='trust-constr',\n",
    "                   constraints=init,\n",
    "                   options={'verbose': 0},\n",
    "                   bounds=bounds,\n",
    "                   hess=lambda x: np.zeros((2*states,))\n",
    "                  )\n",
    "    minimum = round(res.fun, prec)\n",
    "    return minimum"
   ]
  },
  {
   "cell_type": "code",
   "execution_count": 6,
   "id": "9ac74d61-5277-4f90-b6d9-6a8f6bd642c5",
   "metadata": {},
   "outputs": [],
   "source": [
    "def scipy_check_constant(c, barrier_sym, states, unsafe=[], prec=2):\n",
    "    def obj(x):\n",
    "        z = [x[2*i] + 1j*x[2*i + 1] for i in range(states)]\n",
    "        b = barrier_sym\n",
    "        for var_sym in barrier_sym.free_symbols:\n",
    "            sym_num = int(str(var_sym)[1:])\n",
    "            b = b.subs({var_sym: z[sym_num]})\n",
    "        return float(sym.re(b))\n",
    "\n",
    "    # Bounds and guesses\n",
    "    bounds = Bounds([-1]*2*states, [1]*2*states)\n",
    "    guess = [0]*2*states\n",
    "    \n",
    "    res = minimize(obj,\n",
    "                   guess,\n",
    "                   method='trust-constr',\n",
    "                   constraints=unsafe,\n",
    "                   options={'verbose': 0},\n",
    "                   bounds=bounds,\n",
    "                   hess=lambda x: np.zeros((2*states,))\n",
    "                  )\n",
    "    minimum = round(res.fun, prec)\n",
    "    if -minimum >= c : raise Exception(\"Error: barrier has part of unsafe in same contour as initial region\")"
   ]
  },
  {
   "cell_type": "code",
   "execution_count": 7,
   "id": "6382f993-0045-4395-a833-0543a48b00b6",
   "metadata": {},
   "outputs": [],
   "source": [
    "# Setup coefficients as ndarray\n",
    "def scipy_find_k_barrier(k, H, init=[], unsafe=[], linprog_obj = [], prec=2, verbose=False):\n",
    "    z = -1j\n",
    "    n = round(len(H))\n",
    "    term_powers = generate_term_powers(k, n)\n",
    "    coeff_num = len(term_powers)\n",
    "    \n",
    "\n",
    "    if verbose: print(\"Converting dynamical system...\")\n",
    "    sums = []\n",
    "    for i in range(n):\n",
    "        terms = []\n",
    "        for j in range(n):\n",
    "            t = [0]*(2*n)\n",
    "            t[j] = 1\n",
    "            t = tuple(t)\n",
    "            terms.append(FuncTerm(z * H[i][j], t))\n",
    "        sums.append(FuncSum(terms))\n",
    "    f_vec = FuncVec(sums)\n",
    "    if verbose: print(\"Dynamical system converted.\")\n",
    "    \n",
    "    id_coeff = np.identity(coeff_num)\n",
    "    barrier = FuncSum(list([FuncTerm(i, t) for i, t in zip(id_coeff, term_powers)]))\n",
    "    if verbose: print(\"Finding polynomial...\")\n",
    "    warnings.simplefilter(\"ignore\", OptimizeWarning)\n",
    "    b = scipy_find_b(barrier, n, f_vec, term_powers, prec, linprog_obj)\n",
    "    if verbose: print(\"Polynomial found: \", b)\n",
    "    \n",
    "    if verbose: print(\"Finding constant...\")\n",
    "    c = scipy_find_constant(b, n, init=init)\n",
    "    if verbose: print(\"Checking...\")\n",
    "    scipy_check_constant(c, b, n, unsafe=unsafe)\n",
    "    if verbose: print(\"Constant found: \", c)\n",
    "    \n",
    "    return round_sympy_expr(c + b)"
   ]
  },
  {
   "cell_type": "markdown",
   "id": "8e5bf391-9a1d-4cd3-b518-311499639c77",
   "metadata": {
    "jp-MarkdownHeadingCollapsed": true,
    "tags": []
   },
   "source": [
    "## General Method"
   ]
  },
  {
   "cell_type": "code",
   "execution_count": 8,
   "id": "e6a04cdf-5515-4076-bb0b-290388bf9f9c",
   "metadata": {},
   "outputs": [],
   "source": [
    "def find_b(barrier, states, f_vec, term_powers, coeffs, prec=2, package=\"scipy\"):\n",
    "    if package == \"z3\": return z3_find_b(barrier, states, f_vec, term_powers, coeffs, prec)\n",
    "    if package == \"scipy\": return scipy_find_b(barrier, states, f_vec, term_powers, coeffs, prec)\n",
    "\n",
    "def find_k_barrier(k, H, constraints=[], prec=2, package=\"scipy\"):\n",
    "    z = 0-I\n",
    "    n = round(len(H))\n",
    "    print(\"Converting dynamical system...\")\n",
    "    sums = []\n",
    "    for i in range(n):\n",
    "        terms = []\n",
    "        for j in range(n):\n",
    "            t = [0]*(2*n)\n",
    "            t[j] = 1\n",
    "            t = tuple(t)\n",
    "            terms.append(FuncTerm(z * H[i][j], t))\n",
    "        sums.append(FuncSum(terms))\n",
    "    f_vec = FuncVec(sums)\n",
    "    print(\"Dynamical system converted.\")\n",
    "    \n",
    "    term_powers = generate_term_powers(k, n)\n",
    "    c0 = Complex('c')\n",
    "    coeffs = [c0] + ComplexVector('a', len(term_powers) - 1)\n",
    "    barrier = FuncSum(list([FuncTerm(c, t) for c, t in zip(coeffs[1:], term_powers[1:])]))\n",
    "    print(\"Finding polynomial...\")\n",
    "    b = find_b(barrier, n, f_vec, term_powers, coeffs, prec, package=package)\n",
    "    print(\"Finding constant...\")\n",
    "    c = scipy_find_constant(b, n, constraints=constraints)\n",
    "    return c + b"
   ]
  },
  {
   "cell_type": "markdown",
   "id": "56ee3d7b-0ae4-429c-b096-91823488d2ea",
   "metadata": {
    "jp-MarkdownHeadingCollapsed": true,
    "tags": []
   },
   "source": [
    "# Using Z3"
   ]
  },
  {
   "cell_type": "code",
   "execution_count": 9,
   "id": "af88d6de-20b0-4f9d-9d98-42b9ad443fe5",
   "metadata": {},
   "outputs": [],
   "source": [
    "# Hadamard as a Hamiltonian\n",
    "H = [[1/np.sqrt(2), 1/np.sqrt(2)],[1/np.sqrt(2), -1/np.sqrt(2)]]\n",
    "# H = [[1,1],[1,-1]]\n",
    "def f(x): return [x[0]**2 + x[1]**2, x[2]**2 + x[3]**2, x[0]**2 + x[1]**2 + x[2]**2 + x[3]**2]\n",
    "constraints = [NonlinearConstraint(f, [0.9, 0, 1], [1,0.1, 1])]\n",
    "# b = find_k_barrier(2, H, constraints=constraints, package=\"z3\")\n",
    "# b"
   ]
  },
  {
   "cell_type": "code",
   "execution_count": 10,
   "id": "d22945e3-f514-41c5-af8d-c968bbcec253",
   "metadata": {},
   "outputs": [],
   "source": [
    "# TODO: Try out new Hamiltonians and regions\n",
    "H = [[0,0,0,0],[0,0,0,0],[0,0,np.pi/np.sqrt(2),-np.pi/np.sqrt(2)],[0,0,-np.pi/np.sqrt(2),np.pi/np.sqrt(2)]]\n",
    "# init = InitRegion(near_00)\n",
    "# unsafe = UnsafeRegion(near_11)\n",
    "def f(x): return [x[0]**2 + x[1]**2, x[2]**2 + x[3]**2, x[4]**2 + x[5]**2, x[6]**2 + x[7]**2, x[0]**2 + x[1]**2 + x[2]**2 + x[3]**2 + x[4]**2 + x[5]**2 + x[6]**2 + x[7]**2]\n",
    "constraints = [NonlinearConstraint(f, [0.81, 0, 0, 0, 1], [1, 0.09, 0.09, 0.1, 1])]\n",
    "\n",
    "# init = near_10\n",
    "# unsafe = in_0region\n",
    "def f(x): return [x[0]**2 + x[1]**2, x[2]**2 + x[3]**2, x[4]**2 + x[5]**2, x[6]**2 + x[7]**2, x[0]**2 + x[1]**2 + x[2]**2 + x[3]**2 + x[4]**2 + x[5]**2 + x[6]**2 + x[7]**2]\n",
    "constraints = [NonlinearConstraint(f, [0, 0, 0.81, 0, 1], [0.09, 0.01, 1, 0.09, 1])]\n",
    "\n",
    "# find_k_barrier(2, H, constraints=constraints, package=\"z3\")"
   ]
  },
  {
   "cell_type": "markdown",
   "id": "6668dee2-7486-45ae-b0d2-0ae2381811b9",
   "metadata": {},
   "source": [
    "# Using Scipy"
   ]
  },
  {
   "cell_type": "code",
   "execution_count": 11,
   "id": "1680068b-973e-421d-923c-7f0aab4bdada",
   "metadata": {},
   "outputs": [
    {
     "name": "stdout",
     "output_type": "stream",
     "text": [
      "Converting dynamical system...\n",
      "Dynamical system converted.\n",
      "Finding polynomial...\n",
      "Polynomial found:  -1.0*z0*conjugate(z0) - 0.33*z0*conjugate(z1) - 0.33*z1*conjugate(z0) - 0.33*z1*conjugate(z1) - 1.0\n",
      "Finding constant...\n",
      "Checking...\n",
      "Constant found:  1.74\n"
     ]
    },
    {
     "data": {
      "text/latex": [
       "$\\displaystyle - 1.0 z_{0} \\overline{z_{0}} - 0.33 z_{0} \\overline{z_{1}} - 0.33 z_{1} \\overline{z_{0}} - 0.33 z_{1} \\overline{z_{1}} + 0.74$"
      ],
      "text/plain": [
       "-1.0*z0*conjugate(z0) - 0.33*z0*conjugate(z1) - 0.33*z1*conjugate(z0) - 0.33*z1*conjugate(z1) + 0.74"
      ]
     },
     "execution_count": 11,
     "metadata": {},
     "output_type": "execute_result"
    }
   ],
   "source": [
    "# Hadamard as a Hamiltonian\n",
    "# H = [[1/np.sqrt(2), 1/np.sqrt(2)],[1/np.sqrt(2), -1/np.sqrt(2)]]\n",
    "H = [[1,1],[1,-1]]\n",
    "# For Had-like Hadamard\n",
    "# c[12] = 1\n",
    "\n",
    "def init(x): return [x[0]**2 + x[1]**2,\n",
    "                     x[2]**2 + x[3]**2,\n",
    "                     x[0]**2 + x[1]**2 + x[2]**2 + x[3]**2]\n",
    "init_constraints = [NonlinearConstraint(init, [0.9, 0, 1], [1, 0.1, 1])]\n",
    "\n",
    "def unsafe(x): return [x[0]**2 + x[1]**2,\n",
    "                       x[2]**2 + x[3]**2,\n",
    "                       x[0]**2 + x[1]**2 + x[2]**2 + x[3]**2]\n",
    "unsafe_constraints = [NonlinearConstraint(init, [0, 0.9, 1], [0.1, 1, 1])]\n",
    "\n",
    "\n",
    "barrier = scipy_find_k_barrier(2, H,\n",
    "                               init=init_constraints,\n",
    "                               unsafe=unsafe_constraints,\n",
    "                               linprog_obj=[0,12],\n",
    "                               verbose=1)\n",
    "barrier"
   ]
  },
  {
   "cell_type": "markdown",
   "id": "0a5ddf6d-db83-4bc2-a413-aac330e31cdb",
   "metadata": {},
   "source": [
    "3 * Barrier = $ \\displaystyle - 3.0 z_{0} \\overline{z_{0}} - 1.0 z_{0} \\overline{z_{1}} - 1.0 z_{1} \\overline{z_{0}} - 1.0 z_{1} \\overline{z_{1}} + 2.2$\n",
    "\n",
    "\n",
    "In Bra-ket notation: $ \\displaystyle -3\\langle 0| \\phi \\rangle \\langle \\phi| 0\\rangle - 1 \\langle 0| \\phi\\rangle \\langle \\phi|1 \\rangle -1 \\langle 1|\\phi \\rangle \\langle \\phi|0 \\rangle - 1 \\langle 1|\\phi \\rangle \\langle \\phi| 1\\rangle + 2.2$"
   ]
  },
  {
   "cell_type": "code",
   "execution_count": 12,
   "id": "5415e8fc-f6b3-48aa-8dbf-50876efc3d0f",
   "metadata": {},
   "outputs": [],
   "source": [
    "# init = InitRegion(near_00)\n",
    "# unsafe = UnsafeRegion(near_11)\n",
    "# def f(x): return [x[0]**2 + x[1]**2, x[2]**2 + x[3]**2, x[4]**2 + x[5]**2, x[6]**2 + x[7]**2, x[0]**2 + x[1]**2 + x[2]**2 + x[3]**2 + x[4]**2 + x[5]**2 + x[6]**2 + x[7]**2]\n",
    "# constraints = [NonlinearConstraint(f, [0.81, 0, 0, 0, 1], [1, 0.09, 0.09, 0.01, 1])]"
   ]
  },
  {
   "cell_type": "code",
   "execution_count": 13,
   "id": "6fc32aed-7db2-4259-ba35-b40d614d4ae8",
   "metadata": {},
   "outputs": [
    {
     "name": "stdout",
     "output_type": "stream",
     "text": [
      "Converting dynamical system...\n",
      "Dynamical system converted.\n",
      "Finding polynomial...\n",
      "Polynomial found:  -1.0*z2*conjugate(z2) - 1.0*z3*conjugate(z3) - 1.0\n",
      "Finding constant...\n",
      "Checking...\n",
      "Constant found:  1.9\n"
     ]
    },
    {
     "data": {
      "text/latex": [
       "$\\displaystyle - 1.0 z_{2} \\overline{z_{2}} - 1.0 z_{3} \\overline{z_{3}} + 0.9$"
      ],
      "text/plain": [
       "-1.0*z2*conjugate(z2) - 1.0*z3*conjugate(z3) + 0.9"
      ]
     },
     "execution_count": 13,
     "metadata": {},
     "output_type": "execute_result"
    }
   ],
   "source": [
    "H = [[0,0,0,0],[0,0,0,0],[0,0,np.pi/np.sqrt(2),-np.pi/np.sqrt(2)],[0,0,-np.pi/np.sqrt(2),np.pi/np.sqrt(2)]]\n",
    "# H = [[0,0,0,0],[0,0,0,0],[0,0,1,-1],[0,0,-1,1]]\n",
    "# For CNOT\n",
    "# c[16] = 1\n",
    "# c[23] = 1\n",
    "# c[-14] = 1\n",
    "# c[-5] = 1\n",
    "\n",
    "# init = near_10\n",
    "# unsafe = in_0region\n",
    "def init(x): return [x[0]**2 + x[1]**2,\n",
    "                     x[2]**2 + x[3]**2,\n",
    "                     x[4]**2 + x[5]**2,\n",
    "                     x[6]**2 + x[7]**2,\n",
    "                     x[0]**2 + x[1]**2 + x[2]**2 + x[3]**2 + x[4]**2 + x[5]**2 + x[6]**2 + x[7]**2]\n",
    "init_constraints = [NonlinearConstraint(init, [0, 0, 0.81, 0, 1], [0.09, 0.01, 1, 0.09, 1])]\n",
    "\n",
    "def unsafe(x): return [x[0]**2 + x[1]**2 + x[2]**2 + x[3]**2,\n",
    "                     x[4]**2 + x[5]**2 + x[6]**2 + x[7]**2,\n",
    "                     x[0]**2 + x[1]**2 + x[2]**2 + x[3]**2 + x[4]**2 + x[5]**2 + x[6]**2 + x[7]**2]\n",
    "unsafe_constraints= [NonlinearConstraint(unsafe, [.5,0,1], [1,.5,1])]\n",
    "\n",
    "b_cnot = scipy_find_k_barrier(2, H,\n",
    "                              init=init_constraints,\n",
    "                              unsafe=unsafe_constraints,\n",
    "                              linprog_obj=[0,16,23],\n",
    "                              verbose=1)\n",
    "b_cnot"
   ]
  },
  {
   "cell_type": "markdown",
   "id": "56f9a578-adcc-449e-837c-931c3464e236",
   "metadata": {},
   "source": [
    "Barrier found:\n",
    "$\n",
    "\\displaystyle - 1.0 z_{2} \\overline{z_{2}} - 1.0 z_{3} \\overline{z_{3}} + 0.9\n",
    "$"
   ]
  },
  {
   "cell_type": "code",
   "execution_count": 14,
   "id": "97180511-0fa4-4502-8380-600c072343e8",
   "metadata": {},
   "outputs": [],
   "source": [
    "d = 0\n",
    "H = [[0,0,d,-d],\n",
    "     [0,0,d,-d],\n",
    "     [d,d,1,-1],\n",
    "     [-d,-d,-1,1]]\n",
    "\n",
    "\n",
    "# init = near_10\n",
    "# unsafe = in_0region\n",
    "def init(x): return [x[0]**2 + x[1]**2,\n",
    "                     x[2]**2 + x[3]**2,\n",
    "                     x[4]**2 + x[5]**2,\n",
    "                     x[6]**2 + x[7]**2,\n",
    "                     x[0]**2 + x[1]**2 + x[2]**2 + x[3]**2 + x[4]**2 + x[5]**2 + x[6]**2 + x[7]**2]\n",
    "init_constraints = [NonlinearConstraint(init, [0, 0, 0.81, 0, 1], [0.09, 0.01, 1, 0.09, 1])]\n",
    "\n",
    "def unsafe(x): return [x[0]**2 + x[1]**2 + x[2]**2 + x[3]**2,\n",
    "                     x[4]**2 + x[5]**2 + x[6]**2 + x[7]**2,\n",
    "                     x[0]**2 + x[1]**2 + x[2]**2 + x[3]**2 + x[4]**2 + x[5]**2 + x[6]**2 + x[7]**2]\n",
    "unsafe_constraints= [NonlinearConstraint(unsafe, [.5,0,1], [1,.5,1])]\n",
    "\n",
    "# b_ctop = scipy_find_k_barrier(2, H,\n",
    "#                               init=init_constraints,\n",
    "#                               unsafe=unsafe_constraints,\n",
    "#                               linprog_obj=[0,16,23],\n",
    "#                               verbose=1)\n",
    "# b_ctop"
   ]
  }
 ],
 "metadata": {
  "kernelspec": {
   "display_name": "Python 3 (ipykernel)",
   "language": "python",
   "name": "python3"
  },
  "language_info": {
   "codemirror_mode": {
    "name": "ipython",
    "version": 3
   },
   "file_extension": ".py",
   "mimetype": "text/x-python",
   "name": "python",
   "nbconvert_exporter": "python",
   "pygments_lexer": "ipython3",
   "version": "3.10.4"
  }
 },
 "nbformat": 4,
 "nbformat_minor": 5
}
