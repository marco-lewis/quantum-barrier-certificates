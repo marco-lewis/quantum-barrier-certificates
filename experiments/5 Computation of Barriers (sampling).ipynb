{
 "cells": [
  {
   "cell_type": "code",
   "execution_count": 1,
   "id": "868ecbcb-2ae0-4df7-bc27-7b02d7012203",
   "metadata": {},
   "outputs": [],
   "source": [
    "import cmath\n",
    "from copy import copy, deepcopy\n",
    "import itertools\n",
    "\n",
    "from complex import *\n",
    "from ComplexVector import *\n",
    "from FuncClasses import *\n",
    "from RegionClasses import *\n",
    "from regions import *\n",
    "from utils import *\n",
    "\n",
    "# import cvxpy as cp\n",
    "import numpy as np\n",
    "import sympy as sym\n",
    "from z3 import *\n",
    "# import scipy as sp"
   ]
  },
  {
   "cell_type": "markdown",
   "id": "76cfb623-8e36-49a4-92a2-8f1fec96661e",
   "metadata": {},
   "source": [
    "# z3"
   ]
  },
  {
   "cell_type": "code",
   "execution_count": 2,
   "id": "474bd6e7-b75a-490a-bfae-150dc68496c5",
   "metadata": {},
   "outputs": [
    {
     "name": "stdout",
     "output_type": "stream",
     "text": [
      "sat\n",
      "Model 1\n",
      "[a__6.i = 0,\n",
      " a__1.i = 0,\n",
      " a__9.r = 0,\n",
      " a__5.i = 0,\n",
      " a__0.i = 0,\n",
      " a__1.r = 0,\n",
      " c.i = 0,\n",
      " a__9.i = 0,\n",
      " a__2.i = 0,\n",
      " a__2.r = 0,\n",
      " a__4.r = 0,\n",
      " a__0.r = 0,\n",
      " a__8.i = 0,\n",
      " a__4.i = 0,\n",
      " a__7.i = 0,\n",
      " a__3.i = 0,\n",
      " a__3.r = 0,\n",
      " a__7.r = -2500000000000000/1999999999999999,\n",
      " c.r = 5999999999999999/3999999999999998,\n",
      " a__8.r = 0,\n",
      " a__6.r = -2500000000000000/1999999999999999,\n",
      " a__5.r = -5000000000000000/1999999999999999]\n",
      "unsat\n"
     ]
    }
   ],
   "source": [
    "# No difference if both Complex or both Real\n",
    "a = ComplexVector('a', 10)\n",
    "c = Complex('c')\n",
    "\n",
    "coeffs = [c]\n",
    "for i in range(10):\n",
    "    coeffs.append(a[i])\n",
    "    \n",
    "def barrier(z):\n",
    "    B_vec = [\n",
    "        1,\n",
    "        z[0]**2,\n",
    "        z[1]**2,\n",
    "        np.conj(z[0])**2,\n",
    "        np.conj(z[1])**2,\n",
    "        z[0]*z[1],\n",
    "        z[0]*np.conj(z[0]),\n",
    "        z[0]*np.conj(z[1]),\n",
    "        z[1]*np.conj(z[0]),\n",
    "        z[1]*np.conj(z[1]),\n",
    "        np.conj(z[0])*np.conj(z[1])\n",
    "    ]\n",
    "    B = 0\n",
    "    for cf, term in zip(coeffs, B_vec):\n",
    "        B += to_complex(cf)*ComplexExpr(term.real, term.imag)\n",
    "    return B\n",
    "\n",
    "def barrier_z3(z):\n",
    "    B_vec = [\n",
    "        1,\n",
    "        z[0]**2,\n",
    "        z[1]**2,\n",
    "        z[0].conj()**2,\n",
    "        z[1].conj()**2,\n",
    "        z[0]*z[1],\n",
    "        z[0]*z[0].conj(),\n",
    "        z[0]*z[1].conj(),\n",
    "        z[1]*z[0].conj(),\n",
    "        z[1]*z[1].conj(),\n",
    "        z[0].conj()*z[1].conj()\n",
    "    ]\n",
    "    B = 0\n",
    "    for cf, term in zip(coeffs, B_vec):\n",
    "        B += to_complex(cf)*term\n",
    "    return B\n",
    "\n",
    "A = np.matrix(\n",
    "    [[2,0,0,0,1,0,0,0,0,0],\n",
    "     [0,0,-2,0,0,0,0,0,0,-1],\n",
    "     [0,2,0,0,-1,0,0,0,0,0],\n",
    "     [0,0,0,0,0,1,-1,-1,-1,0],\n",
    "     [0,0,0,0,0,0,1,-1,0,0],\n",
    "     [0,0,0,-2,0,0,0,0,0,1],\n",
    "    ])\n",
    "\n",
    "conj_a = [\n",
    "    a[2].conj(),\n",
    "    a[3].conj(),\n",
    "    a[0].conj(),\n",
    "    a[1].conj(),\n",
    "    a[9].conj(),\n",
    "    a[5].conj(),\n",
    "    a[7].conj(),\n",
    "    a[6].conj(),\n",
    "    a[8].conj(),\n",
    "    a[4].conj(),\n",
    "]\n",
    "\n",
    "\n",
    "\n",
    "conj_exps = []\n",
    "# conj_exps = [c == c.conj()]\n",
    "for l, r in zip(a, conj_a):\n",
    "    conj_exps.append(simplify(l == r))\n",
    "\n",
    "exps = []\n",
    "lhs_vec = np.dot(A, a)\n",
    "for i in range(6):\n",
    "    exps.append(simplify(lhs_vec.item((0,i)) == 0))\n",
    "    \n",
    "s = z3.Solver()\n",
    "# Numerical matrix from differential\n",
    "s.add(exps)\n",
    "\n",
    "# Coefficients equal up to complex conjugate\n",
    "s.add(conj_exps)\n",
    "\n",
    "# Not all coefficients are 0 - makes coefficients very complicated\n",
    "# s.add(Not(And([e == 0 for e in a] + [c == 0])))\n",
    "\n",
    "# Barrier Function at initial and unsafe points\n",
    "# Select sampels\n",
    "s.add(barrier([1,0]).r <= 0, barrier([1,0]).i == 0)\n",
    "s.add(barrier([0,1]).r > 0, barrier([0,1]).i == 0)\n",
    "for k in range(4):\n",
    "    s.add(barrier([np.sqrt(0.9), np.exp(1j*k*np.pi/2)*np.sqrt(0.1)]).r <= 0, barrier([np.sqrt(0.9), np.exp(1j*k*np.pi/2)*np.sqrt(0.1)]).i == 0)\n",
    "    s.add(barrier([np.sqrt(0.1), np.exp(1j*k*np.pi/2)*np.sqrt(0.9)]).r > 0, barrier([np.sqrt(0.1), np.exp(1j*k*np.pi/2)*np.sqrt(0.9)]).i == 0)\n",
    "\n",
    "# Random samples\n",
    "# for k in range(10):\n",
    "#     # Init sample\n",
    "#     r = np.random.uniform(np.sqrt(0.9), 1)\n",
    "#     ang0 = np.random.uniform(0, 2*np.pi)\n",
    "#     ang1 = np.random.uniform(0, 2*np.pi)\n",
    "#     z0 = r * np.exp(1j*ang0)\n",
    "#     z1 = np.sqrt(1 - r**2) * np.exp(1j*ang1)\n",
    "#     Z = [z0, z1]\n",
    "#     s.add(barrier(Z).r <= 0, barrier(Z).i == 0)\n",
    "#     # Unsafe sample\n",
    "#     r = np.random.uniform(0, np.sqrt(0.1))\n",
    "#     ang0 = np.random.uniform(0, 2*np.pi)\n",
    "#     ang1 = np.random.uniform(0, 2*np.pi)\n",
    "#     z0 = r * np.exp(1j*ang0)\n",
    "#     z1 = np.sqrt(1 - r**2) * np.exp(1j*ang1)\n",
    "#     Z = [z0, z1]\n",
    "#     s.add(barrier(Z).r > 0, barrier(Z).i == 0)\n",
    "\n",
    "# ForAll Expressions\n",
    "# def ComplexForAll(ls, phi):\n",
    "#     return ForAll([qv for v in ls for qv in [v.r, v.i]], phi)\n",
    "# z = ComplexVector('z', 2)\n",
    "# init = Implies(And(z[0].len_sqr() + z[1].len_sqr() == 1, z[0].len_sqr() >= 0.9), And(barrier_z3(z).r <= 0, barrier_z3(z).i == 0))\n",
    "# unsafe = Implies(And(z[0].len_sqr() + z[1].len_sqr() == 1, z[0].len_sqr() < 0.1), And(barrier_z3(z).r > 0, barrier_z3(z).i == 0))\n",
    "# s.add(ComplexForAll(z, init))\n",
    "# s.add(ComplexForAll(z, unsafe))\n",
    "\n",
    "models = print_all_models(s)"
   ]
  },
  {
   "cell_type": "code",
   "execution_count": 3,
   "id": "fe36fc72-a109-4873-9c91-e2bd341c2259",
   "metadata": {},
   "outputs": [],
   "source": [
    "z_sym = [sym.Symbol('z0', complex=True), sym.Symbol('z1', complex=True)]\n",
    "B = sym.Function('B')\n",
    "B_vars = [\n",
    "        1,\n",
    "        z_sym[0]**2,\n",
    "        z_sym[1]**2,\n",
    "        np.conj(z_sym[0])**2,\n",
    "        np.conj(z_sym[1])**2,\n",
    "        z_sym[0]*z_sym[1],\n",
    "        z_sym[0]*np.conj(z_sym[0]),\n",
    "        z_sym[0]*np.conj(z_sym[1]),\n",
    "        z_sym[1]*np.conj(z_sym[0]),\n",
    "        z_sym[1]*np.conj(z_sym[1]),\n",
    "        np.conj(z_sym[0])*np.conj(z_sym[1])\n",
    "    ]\n",
    "\n",
    "def get_barrier(model):\n",
    "    b = 0\n",
    "    for c, v in zip(coeffs, B_vars):\n",
    "        r = round(float(model[c.r].numerator_as_long())/float(model[c.r].denominator_as_long()), 2)\n",
    "        i = round(float(model[c.i].numerator_as_long())/float(model[c.i].denominator_as_long()), 2)\n",
    "        co = r + 1j*i\n",
    "        b += co * v\n",
    "    return b"
   ]
  },
  {
   "cell_type": "code",
   "execution_count": 4,
   "id": "93b95f7c-347d-4c22-a968-36aa433b2dd2",
   "metadata": {},
   "outputs": [
    {
     "data": {
      "text/latex": [
       "$\\displaystyle B{\\left(z_{0},z_{1} \\right)} = - 2.0 z_{0} \\overline{z_{0}} - 1.0 z_{0} \\overline{z_{1}} - 1.0 z_{1} \\overline{z_{0}} + 1.2$"
      ],
      "text/plain": [
       "Eq(B(z0, z1), -2.0*z0*conjugate(z0) - 1.0*z0*conjugate(z1) - 1.0*z1*conjugate(z0) + 1.2)"
      ]
     },
     "execution_count": 4,
     "metadata": {},
     "output_type": "execute_result"
    }
   ],
   "source": [
    "b = get_barrier(models[0])*4/5\n",
    "eq = sym.Eq(B(z_sym[0], z_sym[1]), b)\n",
    "eq"
   ]
  },
  {
   "cell_type": "markdown",
   "id": "f334a3a3-cade-49f3-bfcb-3d8bd57adb2c",
   "metadata": {},
   "source": [
    "$c = 3/2,\n",
    " a__0 = 0,\n",
    " a__1 = 0,\n",
    " a__2 = 0,\n",
    " a__3 = 0,\n",
    " a__4 = 0,\n",
    " a__5 = -5/2,\n",
    " a__6 = -5/4,\n",
    " a__7 = -5/4,\n",
    " a__8 = 0,\n",
    " a__9 = 0$"
   ]
  },
  {
   "cell_type": "markdown",
   "id": "51ca7d64-3cde-4ac2-99c4-951aee9b0943",
   "metadata": {},
   "source": [
    "Given a function ($\\dot{x} = f(x)$) and a the complex system of size $n$\n",
    "\n",
    "Want to compute a $k$-degree barrier function: $B^{(k)}(z) = b^{(k)}(z, \\overline{z})$ such that $b(z,u) = \\sum_{R_{sum} + S_{sum} \\leq k} z^{R} u^{S}$\n",
    "\n",
    "Guess that $k \\leq 2^n$ should be good for most cases\n",
    "\n",
    "1. Put coefficients and terms into an array Barr = list((coeffs, terms))\n",
    "2. Calculate dBdz from Barr, modifying terms and coeffs as needed\n",
    "3. Calculate dBdzconj from Barr, \"\n",
    "4. Calculate dBdt from dBdz, dBdzconj, f and fbar (also needs to be a list of coefficients and terms)\n",
    "5. Generate A from individual coeff in dBdt, then create constraints (sum(row(A)) == 0)\n",
    "6. Calculate Barrconj from Barr to get other constraints\n",
    "7. Sample data from $Z_\\text{init}$, $Z_\\text{unsafe}$ into Barr to calculate constant a_0"
   ]
  },
  {
   "cell_type": "code",
   "execution_count": 5,
   "id": "1315a66c-a226-46f6-b434-45fdb5a17e53",
   "metadata": {},
   "outputs": [
    {
     "data": {
      "text/plain": [
       "FuncVec([FuncSum([FuncTerm([0 - 0 + (0 - 1)*I, (1, 0, 0, 0)]), FuncTerm([0 - 0 + (0 - 1)*I, (0, 1, 0, 0)])]), FuncSum([FuncTerm([0 - 0 + (0 - 1)*I, (1, 0, 0, 0)]), FuncTerm([0 - (0 - 0) + (0 - (0 - 1))*I, (0, 1, 0, 0)])])])"
      ]
     },
     "execution_count": 5,
     "metadata": {},
     "output_type": "execute_result"
    }
   ],
   "source": [
    "# f = lambda a,b: np.array([0 - I * (a + b)/Sqrt(2), 0 - I * (a - b)/Sqrt(2)])\n",
    "# fbar = lambda a,b: np.array([I * (a.conj() + b.conj())/Sqrt(2), I * (a.conj() - b.conj())/Sqrt(2)])\n",
    "\n",
    "k = 2\n",
    "n = 2\n",
    "\n",
    "terms = generate_term_powers(k, n)\n",
    "c0 = Complex('c')\n",
    "coeffs = [c] + ComplexVector('a', len(terms) - 1)\n",
    "\n",
    "z = 0-I/np.sqrt(2)\n",
    "z = 0-I\n",
    "f = FuncVec([FuncSum([FuncTerm(z, (1,0,0,0)),FuncTerm(z, (0,1,0,0))]),\n",
    "             FuncSum([FuncTerm(z, (1,0,0,0)),FuncTerm(0-z, (0,1,0,0))])\n",
    "            ])\n",
    "f"
   ]
  },
  {
   "cell_type": "code",
   "execution_count": 6,
   "id": "afc19cb6-cce3-4d6d-a522-9f5fd949bc99",
   "metadata": {},
   "outputs": [
    {
     "data": {
      "text/plain": [
       "FuncSum([FuncTerm([c.r + (c.i)*I, [0, 0, 0, 0]]), FuncTerm([a__0.r + (a__0.i)*I, [0, 0, 0, 1]]), FuncTerm([a__1.r + (a__1.i)*I, [0, 0, 0, 2]]), FuncTerm([a__2.r + (a__2.i)*I, [0, 0, 1, 0]]), FuncTerm([a__3.r + (a__3.i)*I, [0, 0, 1, 1]]), FuncTerm([a__4.r + (a__4.i)*I, [0, 0, 2, 0]]), FuncTerm([a__5.r + (a__5.i)*I, [0, 1, 0, 0]]), FuncTerm([a__6.r + (a__6.i)*I, [0, 1, 0, 1]]), FuncTerm([a__7.r + (a__7.i)*I, [0, 1, 1, 0]]), FuncTerm([a__8.r + (a__8.i)*I, [0, 2, 0, 0]]), FuncTerm([a__9.r + (a__9.i)*I, [1, 0, 0, 0]]), FuncTerm([a__10.r + (a__10.i)*I, [1, 0, 0, 1]]), FuncTerm([a__11.r + (a__11.i)*I, [1, 0, 1, 0]]), FuncTerm([a__12.r + (a__12.i)*I, [1, 1, 0, 0]]), FuncTerm([a__13.r + (a__13.i)*I, [2, 0, 0, 0]])])"
      ]
     },
     "execution_count": 6,
     "metadata": {},
     "output_type": "execute_result"
    }
   ],
   "source": [
    "barrier = FuncSum(list([FuncTerm(c, t) for c, t in zip(coeffs, terms)]))\n",
    "dbdz = FuncVec([diff(barrier, i) for i in range(n)])\n",
    "dbdzconj = FuncVec([diff(barrier, i) for i in range(n, 2*n)])\n",
    "dbdt = (dbdz * f) + (dbdzconj * f.conj())\n",
    "barr_minus_conj = barrier - barrier.conj()\n",
    "barrier"
   ]
  },
  {
   "cell_type": "markdown",
   "id": "3e9c3efc-35c3-4956-a2b8-d51210531045",
   "metadata": {},
   "source": [
    "Want a__11, a__10 and a__7 (possibly a__6)"
   ]
  },
  {
   "cell_type": "code",
   "execution_count": 7,
   "id": "395ff075-1e52-4f7f-b809-c274a6971389",
   "metadata": {},
   "outputs": [
    {
     "name": "stdout",
     "output_type": "stream",
     "text": [
      "sat\n",
      "Model 1\n",
      "[a__6.i = 0,\n",
      " a__0.i = 0,\n",
      " c.i = 0,\n",
      " a__2.r = 0,\n",
      " a__4.i = 0,\n",
      " a__7.i = 0,\n",
      " a__10.i = 0,\n",
      " a__3.r = 0,\n",
      " a__13.r = 0,\n",
      " a__5.r = 0,\n",
      " a__6.r = 749999999999999992727286219571085000000000000000000000000000000000000000000000000000000000000000000/499999999999999960788456797856571089012777484922496724882775317387071664898870725753599284127762469,\n",
      " a__8.r = 0,\n",
      " a__1.i = 0,\n",
      " a__9.r = 0,\n",
      " a__5.i = 0,\n",
      " a__1.r = 0,\n",
      " a__9.i = 0,\n",
      " a__12.r = 0,\n",
      " a__2.i = 0,\n",
      " a__11.i = 0,\n",
      " a__4.r = 0,\n",
      " a__0.r = 0,\n",
      " a__12.i = 0,\n",
      " a__8.i = 0,\n",
      " a__10.r = -625000000000000003162715025133678187349864163661040005223927125080625000000000000000000000000000000/499999999999999960788456797856571089012777484922496724882775317387071664898870725753599284127762469,\n",
      " a__3.i = 0,\n",
      " a__11.r = -500000000000000013598143830696271374699728327322080010447854250161250000000000000000000000000000000/499999999999999960788456797856571089012777484922496724882775317387071664898870725753599284127762469,\n",
      " a__13.i = 0,\n",
      " a__7.r = -625000000000000003162715025133678187349864163661040005223927125080625000000000000000000000000000000/499999999999999960788456797856571089012777484922496724882775317387071664898870725753599284127762469,\n",
      " c.r = 0]\n",
      "unsat\n"
     ]
    }
   ],
   "source": [
    "s = Solver()\n",
    "s.add([simplify(c == 0) for c in dbdt.get_coeffs()])\n",
    "s.add([simplify(c == 0) for c in barr_minus_conj.get_coeffs()])\n",
    "# s.add(Or([Not(a == 0) for a in coeffs]))\n",
    "init = lambda x: s.add(simplify(barrier.apply(x).r <= 0), simplify(barrier.apply(x).i == 0))\n",
    "unsafe = lambda x: s.add(simplify(barrier.apply(x).r > 0), simplify(barrier.apply(x).i == 0))\n",
    "init([1,0])\n",
    "unsafe([0,1])\n",
    "for k in range(4):\n",
    "    init([np.sqrt(0.9), np.exp(1j*k*np.pi/2)*np.sqrt(0.1)])\n",
    "    unsafe([np.sqrt(0.1), np.exp(1j*k*np.pi/2)*np.sqrt(0.9)])\n",
    "\n",
    "# s.add(c.r < 10, -10 < c.r)\n",
    "# Restricts to our normal barrier function\n",
    "s.add(c == 0)\n",
    "\n",
    "ms = print_all_models(s)"
   ]
  },
  {
   "cell_type": "code",
   "execution_count": 8,
   "id": "e0576cec-e7aa-4400-a8cd-7b3b9c9965a2",
   "metadata": {},
   "outputs": [
    {
     "data": {
      "text/latex": [
       "$\\displaystyle - 1.0 z_{0} \\overline{z_{0}} - 1.25 z_{0} \\overline{z_{1}} - 1.25 z_{1} \\overline{z_{0}} + 1.5 z_{1} \\overline{z_{1}}$"
      ],
      "text/plain": [
       "-1.0*z0*conjugate(z0) - 1.25*z0*conjugate(z1) - 1.25*z1*conjugate(z0) + 1.5*z1*conjugate(z1)"
      ]
     },
     "execution_count": 8,
     "metadata": {},
     "output_type": "execute_result"
    }
   ],
   "source": [
    "barrier.get_sym_sum(ms[0])"
   ]
  },
  {
   "cell_type": "code",
   "execution_count": 9,
   "id": "836eb261-39ab-4286-89f1-d0b7cf3dacfa",
   "metadata": {},
   "outputs": [
    {
     "data": {
      "text/latex": [
       "$\\displaystyle - z_{0}^{2} + 2 z_{0} z_{1} - 2 z_{0} \\overline{z_{1}} + z_{1}^{2} - 2 z_{1} \\overline{z_{0}} - \\overline{z_{0}}^{2} + 2 \\overline{z_{0}} \\overline{z_{1}} + \\overline{z_{1}}^{2}$"
      ],
      "text/plain": [
       "-z0**2 + 2*z0*z1 - 2*z0*conjugate(z1) + z1**2 - 2*z1*conjugate(z0) - conjugate(z0)**2 + 2*conjugate(z0)*conjugate(z1) + conjugate(z1)**2"
      ]
     },
     "execution_count": 9,
     "metadata": {},
     "output_type": "execute_result"
    }
   ],
   "source": [
    "simp_b = - z_sym[0]**2 + 2 * z_sym[0] * z_sym[1] - 2 * z_sym[0] * np.conj(z_sym[1]) + z_sym[1] ** 2 - 2 * np.conj(z_sym[0]) * z_sym[1] - np.conj(z_sym[0]) ** 2 + 2 * np.conj(z_sym[0]) * np.conj(z_sym[1]) + np.conj(z_sym[1])**2\n",
    "sym.sympify(simp_b)"
   ]
  },
  {
   "cell_type": "markdown",
   "id": "10580189-33a2-42d4-912a-f36681d5dc3d",
   "metadata": {},
   "source": [
    "## Other Hamiltonians"
   ]
  },
  {
   "cell_type": "code",
   "execution_count": 10,
   "id": "39fce422-8fa7-4cd4-9fc0-7739d9a4fa7b",
   "metadata": {},
   "outputs": [],
   "source": [
    "def find_k_barrier_sample(k, H, init, unsafe, restrict_c = False, prec=2, samples=50):\n",
    "    z = 0-I\n",
    "    n = round(len(H))\n",
    "    sums = []\n",
    "    for i in range(n):\n",
    "        terms = []\n",
    "        for j in range(n):\n",
    "            t = [0]*(2*n)\n",
    "            t[j] = 1\n",
    "            t = tuple(t)\n",
    "            terms.append(FuncTerm(z * H[i][j], t))\n",
    "        sums.append(FuncSum(terms))\n",
    "    f_vec = FuncVec(sums)\n",
    "    print(\"Dynamical system converted...\")\n",
    "    \n",
    "    term_powers = generate_term_powers(k, n)\n",
    "    c0 = Complex('c')\n",
    "    coeffs = [c0] + ComplexVector('a', len(term_powers) - 1)\n",
    "    barrier = FuncSum(list([FuncTerm(c, t) for c, t in zip(coeffs, term_powers)]))\n",
    "    print(\"Barrier made...\")\n",
    "    dbdz = FuncVec([diff(barrier, i) for i in range(n)])\n",
    "    dbdzconj = FuncVec([diff(barrier, i) for i in range(n, 2*n)])\n",
    "    dbdt = (dbdz * f_vec) + (dbdzconj * f_vec.conj())\n",
    "    print(\"Differential of barrier made...\")\n",
    "    \n",
    "    barr_minus_conj = barrier - barrier.conj()\n",
    "    \n",
    "    s = Solver()\n",
    "    s.add([simplify(coeff == 0) for coeff in dbdt.get_coeffs()])\n",
    "    s.add([simplify(coeff == 0) for coeff in barr_minus_conj.get_coeffs()])\n",
    "    # s.add(Or([Not(a == 0) for a in coeffs]))\n",
    "    \n",
    "    # Samples\n",
    "    init.add_conditions(s, barrier, n=samples)\n",
    "    unsafe.add_conditions(s, barrier, n=samples)\n",
    "\n",
    "    idx = []\n",
    "    for i in range(n):\n",
    "        temp = [0]*n\n",
    "        temp[i] = 1\n",
    "        idx.append(term_powers.index(temp*2))\n",
    "    prob_coeffs = [coeffs[i] for i in idx]\n",
    "    s.add(sum(prob_coeffs) == 1)\n",
    "    \n",
    "    # s.add(c.r < 10, -10 < c.r)\n",
    "    # Restricts to our normal barrier function\n",
    "    if restrict_c: s.add(c == 0)\n",
    "    print(\"Solver ready...\")\n",
    "    ms = print_all_models(s)\n",
    "    return barrier.get_sym_sum(ms[0], prec)"
   ]
  },
  {
   "cell_type": "code",
   "execution_count": 11,
   "id": "06094d54-f56a-423c-a1bf-efe79717d4f6",
   "metadata": {},
   "outputs": [
    {
     "name": "stdout",
     "output_type": "stream",
     "text": [
      "Dynamical system converted...\n",
      "Barrier made...\n",
      "Differential of barrier made...\n",
      "Solver ready...\n",
      "sat\n",
      "Model 1\n",
      "[a__6.i = 0,\n",
      " a__0.i = 0,\n",
      " c.i = 0,\n",
      " a__2.r = 0,\n",
      " a__4.i = -82627578260632756899755259256208767026801641140795926299062378690956290169241145765787705604162020279/197105481961735871600205117549431531094949830969468967637992434238473219855151190568812008066211366180,\n",
      " a__7.i = 0,\n",
      " a__10.i = 0,\n",
      " a__3.r = 24532872275508009234100408875781172815205432793597728037653105883851815366821544774685558188195686508/49276370490433967900051279387357882773737457742367241909498108559618304963787797642203002016552841545,\n",
      " a__13.r = -12266436137754004617050204437890586407602716396798864018826552941925907683410772387342779094097843254/49276370490433967900051279387357882773737457742367241909498108559618304963787797642203002016552841545,\n",
      " a__5.r = 0,\n",
      " a__6.r = 31984145648155162084542677954873198690055480026953898520271959224858670705360931456642845379814012820/9855274098086793580010255877471576554747491548473448381899621711923660992757559528440600403310568309,\n",
      " a__8.r = 12266436137754004617050204437890586407602716396798864018826552941925907683410772387342779094097843254/49276370490433967900051279387357882773737457742367241909498108559618304963787797642203002016552841545,\n",
      " a__1.i = 82627578260632756899755259256208767026801641140795926299062378690956290169241145765787705604162020279/197105481961735871600205117549431531094949830969468967637992434238473219855151190568812008066211366180,\n",
      " a__9.r = 0,\n",
      " a__5.i = 0,\n",
      " a__1.r = 12266436137754004617050204437890586407602716396798864018826552941925907683410772387342779094097843254/49276370490433967900051279387357882773737457742367241909498108559618304963787797642203002016552841545,\n",
      " a__9.i = 0,\n",
      " a__12.r = 24532872275508009234100408875781172815205432793597728037653105883851815366821544774685558188195686508/49276370490433967900051279387357882773737457742367241909498108559618304963787797642203002016552841545,\n",
      " a__2.i = 0,\n",
      " a__11.i = 0,\n",
      " a__4.r = -12266436137754004617050204437890586407602716396798864018826552941925907683410772387342779094097843254/49276370490433967900051279387357882773737457742367241909498108559618304963787797642203002016552841545,\n",
      " a__0.r = 0,\n",
      " a__12.i = -82627578260632756899755259256208767026801641140795926299062378690956290169241145765787705604162020279/98552740980867935800102558774715765547474915484734483818996217119236609927575595284406004033105683090,\n",
      " a__8.i = -82627578260632756899755259256208767026801641140795926299062378690956290169241145765787705604162020279/197105481961735871600205117549431531094949830969468967637992434238473219855151190568812008066211366180,\n",
      " a__10.r = -54113017198223530589075100032274820825363468505434348658644296737793680417964303384845090356317457331/19710548196173587160020511754943153109494983096946896763799243423847321985515119056881200806621136618,\n",
      " a__3.i = 82627578260632756899755259256208767026801641140795926299062378690956290169241145765787705604162020279/98552740980867935800102558774715765547474915484734483818996217119236609927575595284406004033105683090,\n",
      " a__11.r = -22128871550068368504532422077401622135307988478480450138372337512935009712603371928202244976503444511/9855274098086793580010255877471576554747491548473448381899621711923660992757559528440600403310568309,\n",
      " a__13.i = 82627578260632756899755259256208767026801641140795926299062378690956290169241145765787705604162020279/197105481961735871600205117549431531094949830969468967637992434238473219855151190568812008066211366180,\n",
      " a__7.r = -54113017198223530589075100032274820825363468505434348658644296737793680417964303384845090356317457331/19710548196173587160020511754943153109494983096946896763799243423847321985515119056881200806621136618,\n",
      " c.r = 0]\n",
      "unsat\n"
     ]
    },
    {
     "data": {
      "text/latex": [
       "$\\displaystyle z_{0}^{2} \\left(-0.25 + 0.42 i\\right) + z_{0} z_{1} \\cdot \\left(0.5 - 0.84 i\\right) - 2.25 z_{0} \\overline{z_{0}} - 2.75 z_{0} \\overline{z_{1}} + z_{1}^{2} \\cdot \\left(0.25 - 0.42 i\\right) - 2.75 z_{1} \\overline{z_{0}} + 3.25 z_{1} \\overline{z_{1}} + \\left(-0.25 - 0.42 i\\right) \\overline{z_{0}}^{2} + \\left(0.5 + 0.84 i\\right) \\overline{z_{0}} \\overline{z_{1}} + \\left(0.25 + 0.42 i\\right) \\overline{z_{1}}^{2}$"
      ],
      "text/plain": [
       "z0**2*(-0.25 + 0.42*I) + z0*z1*(0.5 - 0.84*I) - 2.25*z0*conjugate(z0) - 2.75*z0*conjugate(z1) + z1**2*(0.25 - 0.42*I) - 2.75*z1*conjugate(z0) + 3.25*z1*conjugate(z1) + (-0.25 - 0.42*I)*conjugate(z0)**2 + (0.5 + 0.84*I)*conjugate(z0)*conjugate(z1) + (0.25 + 0.42*I)*conjugate(z1)**2"
      ]
     },
     "execution_count": 11,
     "metadata": {},
     "output_type": "execute_result"
    }
   ],
   "source": [
    "H = [[1/np.sqrt(2), 1/np.sqrt(2)],[1/np.sqrt(2), -1/np.sqrt(2)]]\n",
    "# H = [[1,1],[1,-1]]\n",
    "init = InitRegion(near_0)\n",
    "unsafe = UnsafeRegion(near_1)\n",
    "b = find_k_barrier_sample(2, H, init, unsafe, restrict_c = True)\n",
    "b"
   ]
  },
  {
   "cell_type": "code",
   "execution_count": 12,
   "id": "1d5e29d8-6d37-42b1-8159-9dbfa3889e75",
   "metadata": {},
   "outputs": [],
   "source": [
    "# Setup for an X-gate - should fail\n",
    "H = [[.5,-.5],[-.5,.5]]\n",
    "init = InitRegion(near_0)\n",
    "unsafe = UnsafeRegion(near_1)\n",
    "# old_find_k_barrier(2, H, init, unsafe, restrict_c = False)"
   ]
  },
  {
   "cell_type": "code",
   "execution_count": 13,
   "id": "2547e099-f3f9-4924-be9d-95ddbd818e55",
   "metadata": {},
   "outputs": [
    {
     "name": "stdout",
     "output_type": "stream",
     "text": [
      "Dynamical system converted...\n",
      "Barrier made...\n",
      "Differential of barrier made...\n",
      "Solver ready...\n",
      "sat\n",
      "Model 1\n",
      "[a__6.i = 0,\n",
      " a__0.i = -5408437740078702515621667662855418173644193542713983178864416675990305149634567594076759/299529243789137243027689327820677992291661303360327794324835891616529708000000000000000000,\n",
      " c.i = 0,\n",
      " a__2.r = 90696098514467821888628582918745018209092372796546457935310933014765936293956699456493939/99843081263045747675896442606892664097220434453442598108278630538843236000000000000000000,\n",
      " a__4.i = 0,\n",
      " a__7.i = 0,\n",
      " a__10.i = 0,\n",
      " a__3.r = 0,\n",
      " a__13.r = 0,\n",
      " a__5.r = 90696098514467821888628582918745018209092372796546457935310933014765936293956699456493939/99843081263045747675896442606892664097220434453442598108278630538843236000000000000000000,\n",
      " a__6.r = 1/2,\n",
      " a__8.r = 0,\n",
      " a__1.i = 0,\n",
      " a__9.r = 90696098514467821888628582918745018209092372796546457935310933014765936293956699456493939/99843081263045747675896442606892664097220434453442598108278630538843236000000000000000000,\n",
      " a__5.i = 5408437740078702515621667662855418173644193542713983178864416675990305149634567594076759/299529243789137243027689327820677992291661303360327794324835891616529708000000000000000000,\n",
      " a__1.r = 0,\n",
      " a__9.i = 5408437740078702515621667662855418173644193542713983178864416675990305149634567594076759/299529243789137243027689327820677992291661303360327794324835891616529708000000000000000000,\n",
      " a__12.r = 0,\n",
      " a__2.i = -5408437740078702515621667662855418173644193542713983178864416675990305149634567594076759/299529243789137243027689327820677992291661303360327794324835891616529708000000000000000000,\n",
      " a__11.i = 0,\n",
      " a__4.r = 0,\n",
      " a__0.r = 90696098514467821888628582918745018209092372796546457935310933014765936293956699456493939/99843081263045747675896442606892664097220434453442598108278630538843236000000000000000000,\n",
      " a__12.i = 0,\n",
      " a__8.i = 0,\n",
      " a__10.r = -6633104481797935673982418237699702786410610506548709530517870276808046303/374411554736421553784611659775847490364576629200409742906044864520662135,\n",
      " a__3.i = 0,\n",
      " a__11.r = 1/2,\n",
      " a__13.i = 0,\n",
      " a__7.r = -6633104481797935673982418237699702786410610506548709530517870276808046303/374411554736421553784611659775847490364576629200409742906044864520662135,\n",
      " c.r = -919185315399849442171049966135617128986660257463169650085545332352271990929188039344293822116666382188709/1069747299246918725098890456502421401041647512001170694017271041487606100000000000000000000000000000000000]\n",
      "unsat\n"
     ]
    },
    {
     "data": {
      "text/latex": [
       "$\\displaystyle 0.5 z_{0} \\overline{z_{0}} - 17.72 z_{0} \\overline{z_{1}} + z_{0} \\cdot \\left(0.91 + 0.02 i\\right) - 17.72 z_{1} \\overline{z_{0}} + 0.5 z_{1} \\overline{z_{1}} + z_{1} \\cdot \\left(0.91 + 0.02 i\\right) + \\left(0.91 - 0.02 i\\right) \\overline{z_{0}} + \\left(0.91 - 0.02 i\\right) \\overline{z_{1}} - 0.86$"
      ],
      "text/plain": [
       "0.5*z0*conjugate(z0) - 17.72*z0*conjugate(z1) + z0*(0.91 + 0.02*I) - 17.72*z1*conjugate(z0) + 0.5*z1*conjugate(z1) + z1*(0.91 + 0.02*I) + (0.91 - 0.02*I)*conjugate(z0) + (0.91 - 0.02*I)*conjugate(z1) - 0.86"
      ]
     },
     "execution_count": 13,
     "metadata": {},
     "output_type": "execute_result"
    }
   ],
   "source": [
    "H = [[.5,-.5],[-.5,.5]]\n",
    "init = InitRegion(near_unphased)\n",
    "unsafe = UnsafeRegion(very_phased)\n",
    "find_k_barrier_sample(2, H, init, unsafe, restrict_c = False)"
   ]
  },
  {
   "cell_type": "code",
   "execution_count": 14,
   "id": "a46bf531-b74f-404d-9e79-a8d36d44ae44",
   "metadata": {},
   "outputs": [
    {
     "name": "stdout",
     "output_type": "stream",
     "text": [
      "Dynamical system converted...\n",
      "Barrier made...\n",
      "Differential of barrier made...\n",
      "Solver ready...\n",
      "sat\n",
      "Model 1\n",
      "[a__6.i = 0,\n",
      " a__31.i = 0,\n",
      " a__23.i = 0,\n",
      " a__20.i = 0,\n",
      " a__28.i = 0,\n",
      " a__37.i = 0,\n",
      " a__15.r = 0,\n",
      " a__32.i = 0,\n",
      " a__0.i = 0,\n",
      " a__2.r = 0,\n",
      " a__43.i = 0,\n",
      " a__30.i = 0,\n",
      " a__38.r = 0,\n",
      " a__30.r = 511188991993845807071276621070955265051648417775135042301736725057608/412174788782400283827437589505623458226509175576544588533543234764281,\n",
      " a__31.r = 0,\n",
      " a__37.r = 0,\n",
      " a__17.r = 0,\n",
      " a__25.r = 0,\n",
      " a__7.i = 0,\n",
      " a__10.i = 0,\n",
      " a__3.r = 0,\n",
      " a__39.r = -99014203211445523243839031565331806825139242198590453768193490293327/412174788782400283827437589505623458226509175576544588533543234764281,\n",
      " a__13.r = 0,\n",
      " a__8.r = 0,\n",
      " a__33.r = 0,\n",
      " a__19.i = 0,\n",
      " a__6.r = 0,\n",
      " a__34.i = 0,\n",
      " a__38.i = 0,\n",
      " a__1.r = 0,\n",
      " a__36.i = 0,\n",
      " a__26.i = 0,\n",
      " a__16.i = 0,\n",
      " a__2.i = 0,\n",
      " a__16.r = 0,\n",
      " a__11.i = 0,\n",
      " a__19.r = 0,\n",
      " a__0.r = 0,\n",
      " a__29.i = 0,\n",
      " a__10.r = 0,\n",
      " a__8.i = 0,\n",
      " a__12.i = 0,\n",
      " a__11.r = 0,\n",
      " a__22.i = 0,\n",
      " a__14.r = 0,\n",
      " a__24.r = 0,\n",
      " a__20.r = 0,\n",
      " a__7.r = 0,\n",
      " a__21.r = 0,\n",
      " a__23.r = 0,\n",
      " a__41.r = 0,\n",
      " a__14.i = 0,\n",
      " a__42.i = 0,\n",
      " a__18.r = 0,\n",
      " c.i = 0,\n",
      " a__15.i = 0,\n",
      " a__33.i = 0,\n",
      " a__4.i = 0,\n",
      " a__35.r = 0,\n",
      " a__32.r = 0,\n",
      " a__40.i = 0,\n",
      " a__40.r = 0,\n",
      " a__26.r = 0,\n",
      " a__5.r = 0,\n",
      " a__1.i = 0,\n",
      " a__24.i = 0,\n",
      " a__27.r = 0,\n",
      " a__36.r = 0,\n",
      " a__25.i = 0,\n",
      " a__27.i = 0,\n",
      " a__5.i = 0,\n",
      " a__9.r = 0,\n",
      " a__21.i = 0,\n",
      " a__18.i = 0,\n",
      " a__17.i = 0,\n",
      " a__41.i = 0,\n",
      " a__4.r = 0,\n",
      " a__35.i = 0,\n",
      " a__9.i = 0,\n",
      " a__22.r = 0,\n",
      " a__3.i = 0,\n",
      " a__42.r = 0,\n",
      " a__12.r = 0,\n",
      " a__43.r = 0,\n",
      " a__13.i = 0,\n",
      " c.r = 89756015591173548798701198783601735839174264530874487171150018740780736922038871469386497983513480347/1030436971956000709568593973764058645566272938941361471333858086910702500000000000000000000000000000000,\n",
      " a__28.r = 0,\n",
      " a__34.r = 0,\n",
      " a__39.i = 0,\n",
      " a__29.r = 0]\n",
      "unsat\n"
     ]
    },
    {
     "data": {
      "text/latex": [
       "$\\displaystyle - 0.24 z_{0} \\overline{z_{0}} + 1.24 z_{1} \\overline{z_{1}} + 0.09$"
      ],
      "text/plain": [
       "-0.24*z0*conjugate(z0) + 1.24*z1*conjugate(z1) + 0.09"
      ]
     },
     "execution_count": 14,
     "metadata": {},
     "output_type": "execute_result"
    }
   ],
   "source": [
    "# TODO: Try out new Hamiltonians and regions\n",
    "H = [[0,0,0,0],[0,0,0,0],[0,0,np.pi/np.sqrt(2),-np.pi/np.sqrt(2)],[0,0,-np.pi/np.sqrt(2),np.pi/np.sqrt(2)]]\n",
    "# init = InitRegion(ctrl_near_0)\n",
    "# init = InitRegion(tgt_near_0)\n",
    "init = InitRegion(near_00)\n",
    "unsafe = UnsafeRegion(near_11)\n",
    "find_k_barrier_sample(2, H, init, unsafe, restrict_c = False)\n",
    "\n",
    "# Try get working\n",
    "# init = InitRegion(near_10)\n",
    "# unsafe = UnsafeRegion(away_from_11_10)"
   ]
  },
  {
   "cell_type": "markdown",
   "id": "db4737a4-dcbc-4bb3-81f4-568c4b2d5fbd",
   "metadata": {},
   "source": [
    "# Notes\n",
    "\n",
    "So far have developed a function that is able to generate a $k$-barrier given a system and some integer $k$.\n",
    "\n",
    "The barriers generated need to be checked using the solver constraints generated previously (akin to 4.5).\n",
    "\n",
    "The generation of barriers using eigenvalues needs to be checked.\n",
    "\n",
    "After that, begin investigating perturbed systems (Chapter 7 of Intro to Quantum Mechanics)."
   ]
  }
 ],
 "metadata": {
  "kernelspec": {
   "display_name": "Python 3 (ipykernel)",
   "language": "python",
   "name": "python3"
  },
  "language_info": {
   "codemirror_mode": {
    "name": "ipython",
    "version": 3
   },
   "file_extension": ".py",
   "mimetype": "text/x-python",
   "name": "python",
   "nbconvert_exporter": "python",
   "pygments_lexer": "ipython3",
   "version": "3.10.4"
  }
 },
 "nbformat": 4,
 "nbformat_minor": 5
}
