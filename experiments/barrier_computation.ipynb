{
 "cells": [
  {
   "cell_type": "code",
   "execution_count": 1,
   "id": "fbb6d61c-294c-476d-825b-59571a8209de",
   "metadata": {},
   "outputs": [],
   "source": [
    "import cmath\n",
    "from copy import copy, deepcopy\n",
    "import itertools\n",
    "import warnings\n",
    "\n",
    "from FuncClasses import *\n",
    "from utils import *\n",
    "\n",
    "import numpy as np\n",
    "import sympy as sym\n",
    "import scipy as sp\n",
    "from scipy.optimize import NonlinearConstraint, Bounds, minimize, linprog, OptimizeWarning"
   ]
  },
  {
   "cell_type": "markdown",
   "id": "0b6b865f-5749-48b9-a024-3de90bc0ce60",
   "metadata": {
    "tags": []
   },
   "source": [
    "# Functions"
   ]
  },
  {
   "cell_type": "markdown",
   "id": "a5cb1d17-d94d-4964-a6b0-f0c4c5dfd35c",
   "metadata": {
    "tags": []
   },
   "source": [
    "## Scipy"
   ]
  },
  {
   "cell_type": "code",
   "execution_count": 2,
   "id": "1a2fa864-5b4e-4552-b5bd-99ffe1699550",
   "metadata": {},
   "outputs": [],
   "source": [
    "def diff_fsum(fsum, i):\n",
    "    new_fsum = []\n",
    "    for fterm in fsum.fterms:\n",
    "        t = deepcopy(fterm.var)\n",
    "        if t[i] != 0:\n",
    "            c = fterm.coeff * t[i]\n",
    "            t[i] -= 1\n",
    "            new_fsum.append(FuncTerm(c, t))\n",
    "    return FuncSum(new_fsum)\n",
    "\n",
    "def scipy_find_b(barrier, states, f_vec, term_powers, prec=2, linprog_obj=[]):\n",
    "    # Make appropriate conditions using representation\n",
    "    dbdz = FuncVec([diff_fsum(barrier, i) for i in range(states)])\n",
    "    dbdzconj = FuncVec([diff(barrier, i) for i in range(states, 2*states)])\n",
    "    dbdt = (dbdz * f_vec) + (dbdzconj * f_vec.conj())\n",
    "    barr_minus_conj = barrier - barrier.conj()\n",
    "    \n",
    "    # Create linprog matrices and vectors\n",
    "    A_dbdt = [list(term.coeff.imag) for term in dbdt.fterms]\n",
    "    b_dbdt = [0]*len(A_dbdt)\n",
    "    \n",
    "    A_conj = [list(term.coeff) for term in barr_minus_conj.fterms]\n",
    "    b_conj = [0]*len(A_conj)\n",
    "    \n",
    "    A = np.array(A_dbdt + A_conj)\n",
    "    b = np.array(b_dbdt + b_conj)\n",
    "    # Minimize vector (min c^T x subject to ...)\n",
    "    c = np.array([0]*len(term_powers))\n",
    "    for i in linprog_obj:\n",
    "        c[i] = 1\n",
    "    \n",
    "    # Negate A doesn't matter unless used for A_ub\n",
    "    res = linprog(c,\n",
    "                  A_eq=A,\n",
    "                  b_eq=b,\n",
    "                  bounds=(-1,1),\n",
    "                 )\n",
    "    return barrier.get_sym_sum(res.x, prec)"
   ]
  },
  {
   "cell_type": "code",
   "execution_count": 3,
   "id": "f3daed9c-e329-4322-b5dc-f90ad592345c",
   "metadata": {},
   "outputs": [],
   "source": [
    "def scipy_find_constant(barrier_sym, states, init=[], prec=2):\n",
    "    # Create objective function from Sympy barrier\n",
    "    def obj(x):\n",
    "        z = [x[2*i] + 1j*x[2*i + 1] for i in range(states)]\n",
    "        b = barrier_sym\n",
    "        for var_sym in barrier_sym.free_symbols:\n",
    "            sym_num = int(str(var_sym)[1:])\n",
    "            b = b.subs({var_sym: z[sym_num]})\n",
    "        return -float(sym.re(b))\n",
    "\n",
    "    # Bounds and guesses\n",
    "    bounds = Bounds([-1]*2*states, [1]*2*states)\n",
    "    guess = [0]*2*states\n",
    "    guess[0] = 1\n",
    "    \n",
    "    res = minimize(obj,\n",
    "                   guess,\n",
    "                   method='trust-constr',\n",
    "                   constraints=init,\n",
    "                   options={'verbose': 0},\n",
    "                   bounds=bounds,\n",
    "                   hess=lambda x: np.zeros((2*states,))\n",
    "                  )\n",
    "    minimum = round(res.fun, prec)\n",
    "    return minimum"
   ]
  },
  {
   "cell_type": "code",
   "execution_count": 4,
   "id": "9ac74d61-5277-4f90-b6d9-6a8f6bd642c5",
   "metadata": {},
   "outputs": [],
   "source": [
    "def scipy_check_constant(c, barrier_sym, states, unsafe=[], prec=2):\n",
    "    def obj(x):\n",
    "        z = [x[2*i] + 1j*x[2*i + 1] for i in range(states)]\n",
    "        b = barrier_sym\n",
    "        for var_sym in barrier_sym.free_symbols:\n",
    "            sym_num = int(str(var_sym)[1:])\n",
    "            b = b.subs({var_sym: z[sym_num]})\n",
    "        return float(sym.re(b))\n",
    "\n",
    "    # Bounds and guesses\n",
    "    bounds = Bounds([-1]*2*states, [1]*2*states)\n",
    "    guess = [0]*2*states\n",
    "    \n",
    "    res = minimize(obj,\n",
    "                   guess,\n",
    "                   method='trust-constr',\n",
    "                   constraints=unsafe,\n",
    "                   options={'verbose': 0},\n",
    "                   bounds=bounds,\n",
    "                   hess=lambda x: np.zeros((2*states,))\n",
    "                  )\n",
    "    minimum = round(res.fun, prec)\n",
    "    if -minimum >= c : raise Exception(\"Error: barrier has part of unsafe in same contour as initial region\")"
   ]
  },
  {
   "cell_type": "code",
   "execution_count": 5,
   "id": "6382f993-0045-4395-a833-0543a48b00b6",
   "metadata": {},
   "outputs": [],
   "source": [
    "# Setup coefficients as ndarray\n",
    "def scipy_find_k_barrier(k, H, init=[], unsafe=[], linprog_obj = [], prec=2, verbose=False):\n",
    "    z = -1j\n",
    "    n = round(len(H))\n",
    "    term_powers = generate_term_powers(k, n)\n",
    "    coeff_num = len(term_powers)\n",
    "    \n",
    "\n",
    "    if verbose: print(\"Converting dynamical system...\")\n",
    "    sums = []\n",
    "    for i in range(n):\n",
    "        terms = []\n",
    "        for j in range(n):\n",
    "            t = [0]*(2*n)\n",
    "            t[j] = 1\n",
    "            t = tuple(t)\n",
    "            terms.append(FuncTerm(z * H[i][j], t))\n",
    "        sums.append(FuncSum(terms))\n",
    "    f_vec = FuncVec(sums)\n",
    "    if verbose: print(\"Dynamical system converted.\")\n",
    "    \n",
    "    id_coeff = np.identity(coeff_num)\n",
    "    barrier = FuncSum(list([FuncTerm(i, t) for i, t in zip(id_coeff, term_powers)]))\n",
    "    if verbose: print(\"Finding polynomial...\")\n",
    "    warnings.simplefilter(\"ignore\", OptimizeWarning)\n",
    "    b = scipy_find_b(barrier, n, f_vec, term_powers, prec, linprog_obj)\n",
    "    if verbose: print(\"Polynomial found: \", b)\n",
    "    \n",
    "    if verbose: print(\"Finding constant...\")\n",
    "    c = scipy_find_constant(b, n, init=init)\n",
    "    if verbose: print(\"Checking...\")\n",
    "    scipy_check_constant(c, b, n, unsafe=unsafe)\n",
    "    if verbose: print(\"Constant found: \", c)\n",
    "    \n",
    "    return round_sympy_expr(c + b)"
   ]
  },
  {
   "cell_type": "markdown",
   "id": "6668dee2-7486-45ae-b0d2-0ae2381811b9",
   "metadata": {},
   "source": [
    "# Using Scipy"
   ]
  },
  {
   "cell_type": "code",
   "execution_count": 6,
   "id": "518e10d2-7b1a-4064-bd01-ef7f5847d45d",
   "metadata": {},
   "outputs": [],
   "source": [
    "def qubit_simple_constraints(zero_bounds, one_bounds):\n",
    "    def f(x): return [x[0]**2 + x[1]**2,\n",
    "                      x[2]**2 + x[3]**2,\n",
    "                      x[0]**2 + x[1]**2 + x[2]**2 + x[3]**2]\n",
    "    return [NonlinearConstraint(f, [zero_bounds[0], one_bounds[0], 1], [zero_bounds[1], one_bounds[1], 1])]\n",
    "\n",
    "close_to_zero = qubit_simple_constraints((0.9,1),(0,0.1))\n",
    "close_to_one = qubit_simple_constraints((0,.1),(0.9,1))"
   ]
  },
  {
   "cell_type": "markdown",
   "id": "aab45e99-69ec-4717-911c-058c929456d8",
   "metadata": {
    "tags": []
   },
   "source": [
    "## $e^{-i\\hat{H}t} = H$\n",
    "\n",
    "See https://doi.org/10.1088/1361-6455/aa987c"
   ]
  },
  {
   "cell_type": "code",
   "execution_count": 7,
   "id": "1680068b-973e-421d-923c-7f0aab4bdada",
   "metadata": {},
   "outputs": [
    {
     "name": "stdout",
     "output_type": "stream",
     "text": [
      "Converting dynamical system...\n",
      "Dynamical system converted.\n",
      "Finding polynomial...\n",
      "Polynomial found:  -1.0*z0*conjugate(z0) - 0.33*z0*conjugate(z1) - 0.33*z1*conjugate(z0) - 0.33*z1*conjugate(z1) - 1.0\n",
      "Finding constant...\n",
      "Checking...\n",
      "Constant found:  1.74\n"
     ]
    },
    {
     "data": {
      "text/latex": [
       "$\\displaystyle - 1.0 z_{0} \\overline{z_{0}} - 0.33 z_{0} \\overline{z_{1}} - 0.33 z_{1} \\overline{z_{0}} - 0.33 z_{1} \\overline{z_{1}} + 0.74$"
      ],
      "text/plain": [
       "-1.0*z0*conjugate(z0) - 0.33*z0*conjugate(z1) - 0.33*z1*conjugate(z0) - 0.33*z1*conjugate(z1) + 0.74"
      ]
     },
     "execution_count": 7,
     "metadata": {},
     "output_type": "execute_result"
    }
   ],
   "source": [
    "# Hadamard as a Hamiltonian\n",
    "# H = [[1/2*np.sqrt(2), 1/2*np.sqrt(2)],[1/2*np.sqrt(2), -1/2*np.sqrt(2)]]\n",
    "H = [[1,1],[1,-1]]\n",
    "# For Had-like Hadamard\n",
    "# c[12] = 1\n",
    "\n",
    "init_constraints = close_to_zero\n",
    "unsafe_constraints = qubit_simple_constraints((0,0.1),(0.9,1))\n",
    "\n",
    "\n",
    "barrier = scipy_find_k_barrier(2, H,\n",
    "                               init=init_constraints,\n",
    "                               unsafe=unsafe_constraints,\n",
    "                               linprog_obj=[0,12],\n",
    "                               verbose=1)\n",
    "barrier"
   ]
  },
  {
   "cell_type": "markdown",
   "id": "0a5ddf6d-db83-4bc2-a413-aac330e31cdb",
   "metadata": {},
   "source": [
    "3 * Barrier $\\approx \\displaystyle - 3.0 z_{0} \\overline{z_{0}} - 1.0 z_{0} \\overline{z_{1}} - 1.0 z_{1} \\overline{z_{0}} - 1.0 z_{1} \\overline{z_{1}} + 2.2$\n",
    "\n",
    "\n",
    "In Bra-ket notation: $ \\displaystyle 2.2 -3\\langle 0| \\phi \\rangle \\langle \\phi| 0\\rangle - \\langle 0| \\phi\\rangle \\langle \\phi|1 \\rangle - \\langle 1|\\phi \\rangle \\langle \\phi|0 \\rangle - \\langle 1|\\phi \\rangle \\langle \\phi| 1\\rangle$"
   ]
  },
  {
   "cell_type": "markdown",
   "id": "647c814c-4f86-487b-a709-887514b251eb",
   "metadata": {},
   "source": [
    "## $e^{-iHt} = S$\n",
    "\n",
    "$S = \\begin{bmatrix} 1 & 0 \\\\ 0 & i \\end{bmatrix} $"
   ]
  },
  {
   "cell_type": "code",
   "execution_count": 8,
   "id": "30792109-863d-4741-b238-c9f131e30ffb",
   "metadata": {},
   "outputs": [
    {
     "name": "stdout",
     "output_type": "stream",
     "text": [
      "Converting dynamical system...\n",
      "Dynamical system converted.\n",
      "Finding polynomial...\n",
      "Polynomial found:  -1.0*z0*conjugate(z0) - 1.0\n",
      "Finding constant...\n",
      "Checking...\n",
      "Constant found:  2.0\n"
     ]
    },
    {
     "data": {
      "text/latex": [
       "$\\displaystyle - 1.0 z_{0} \\overline{z_{0}} + 1.0$"
      ],
      "text/plain": [
       "-1.0*z0*conjugate(z0) + 1.0"
      ]
     },
     "execution_count": 8,
     "metadata": {},
     "output_type": "execute_result"
    }
   ],
   "source": [
    "H = [[np.pi/4,0], [0,-np.pi/4]]\n",
    "init_constraints = close_to_zero\n",
    "unsafe_constraints = qubit_simple_constraints((0,0.89),(0.11,1))\n",
    "\n",
    "barrier = scipy_find_k_barrier(2, H,\n",
    "                               init=init_constraints,\n",
    "                               unsafe=unsafe_constraints,\n",
    "                               linprog_obj=[0,12],\n",
    "                               verbose=1)\n",
    "barrier"
   ]
  },
  {
   "cell_type": "code",
   "execution_count": 9,
   "id": "78fb5dc7-f868-43a1-bfb2-8cff76abbaca",
   "metadata": {},
   "outputs": [
    {
     "name": "stdout",
     "output_type": "stream",
     "text": [
      "Converting dynamical system...\n",
      "Dynamical system converted.\n",
      "Finding polynomial...\n",
      "Polynomial found:  -1.0*z1*conjugate(z1) - 1.0\n",
      "Finding constant...\n",
      "Checking...\n",
      "Constant found:  1.9\n"
     ]
    },
    {
     "data": {
      "text/latex": [
       "$\\displaystyle - 1.0 z_{1} \\overline{z_{1}} + 0.9$"
      ],
      "text/plain": [
       "-1.0*z1*conjugate(z1) + 0.9"
      ]
     },
     "execution_count": 9,
     "metadata": {},
     "output_type": "execute_result"
    }
   ],
   "source": [
    "init_constraints = close_to_one\n",
    "unsafe_constraints = qubit_simple_constraints((0.11,1),(0,0.89))\n",
    "\n",
    "barrier = scipy_find_k_barrier(2, H,\n",
    "                               init=init_constraints,\n",
    "                               unsafe=unsafe_constraints,\n",
    "                               linprog_obj=[0,7],\n",
    "                               verbose=1)\n",
    "barrier"
   ]
  },
  {
   "cell_type": "markdown",
   "id": "a987a079-049a-40c4-bfe3-915a7f43c705",
   "metadata": {
    "tags": []
   },
   "source": [
    "## $e^{-iHt} = CNOT$"
   ]
  },
  {
   "cell_type": "code",
   "execution_count": 46,
   "id": "5734b970-20ab-4f85-962a-709f92d3a858",
   "metadata": {},
   "outputs": [
    {
     "name": "stdout",
     "output_type": "stream",
     "text": [
      "0 [0, 0, 0, 0, 0, 0, 0, 0]\n",
      "1 [0, 0, 0, 0, 0, 0, 0, 1]\n",
      "2 [0, 0, 0, 0, 0, 0, 0, 2]\n",
      "3 [0, 0, 0, 0, 0, 0, 1, 0]\n",
      "4 [0, 0, 0, 0, 0, 0, 1, 1]\n",
      "5 [0, 0, 0, 0, 0, 0, 2, 0]\n",
      "6 [0, 0, 0, 0, 0, 1, 0, 0]\n",
      "7 [0, 0, 0, 0, 0, 1, 0, 1]\n",
      "8 [0, 0, 0, 0, 0, 1, 1, 0]\n",
      "9 [0, 0, 0, 0, 0, 2, 0, 0]\n",
      "10 [0, 0, 0, 0, 1, 0, 0, 0]\n",
      "11 [0, 0, 0, 0, 1, 0, 0, 1]\n",
      "12 [0, 0, 0, 0, 1, 0, 1, 0]\n",
      "13 [0, 0, 0, 0, 1, 1, 0, 0]\n",
      "14 [0, 0, 0, 0, 2, 0, 0, 0]\n",
      "15 [0, 0, 0, 1, 0, 0, 0, 0]\n",
      "16 [0, 0, 0, 1, 0, 0, 0, 1]\n",
      "17 [0, 0, 0, 1, 0, 0, 1, 0]\n",
      "18 [0, 0, 0, 1, 0, 1, 0, 0]\n",
      "19 [0, 0, 0, 1, 1, 0, 0, 0]\n",
      "20 [0, 0, 0, 2, 0, 0, 0, 0]\n",
      "21 [0, 0, 1, 0, 0, 0, 0, 0]\n",
      "22 [0, 0, 1, 0, 0, 0, 0, 1]\n",
      "23 [0, 0, 1, 0, 0, 0, 1, 0]\n",
      "24 [0, 0, 1, 0, 0, 1, 0, 0]\n",
      "25 [0, 0, 1, 0, 1, 0, 0, 0]\n",
      "26 [0, 0, 1, 1, 0, 0, 0, 0]\n",
      "27 [0, 0, 2, 0, 0, 0, 0, 0]\n",
      "28 [0, 1, 0, 0, 0, 0, 0, 0]\n",
      "29 [0, 1, 0, 0, 0, 0, 0, 1]\n",
      "30 [0, 1, 0, 0, 0, 0, 1, 0]\n",
      "31 [0, 1, 0, 0, 0, 1, 0, 0]\n",
      "32 [0, 1, 0, 0, 1, 0, 0, 0]\n",
      "33 [0, 1, 0, 1, 0, 0, 0, 0]\n",
      "34 [0, 1, 1, 0, 0, 0, 0, 0]\n",
      "35 [0, 2, 0, 0, 0, 0, 0, 0]\n",
      "36 [1, 0, 0, 0, 0, 0, 0, 0]\n",
      "37 [1, 0, 0, 0, 0, 0, 0, 1]\n",
      "38 [1, 0, 0, 0, 0, 0, 1, 0]\n",
      "39 [1, 0, 0, 0, 0, 1, 0, 0]\n",
      "40 [1, 0, 0, 0, 1, 0, 0, 0]\n",
      "41 [1, 0, 0, 1, 0, 0, 0, 0]\n",
      "42 [1, 0, 1, 0, 0, 0, 0, 0]\n",
      "43 [1, 1, 0, 0, 0, 0, 0, 0]\n",
      "44 [2, 0, 0, 0, 0, 0, 0, 0]\n"
     ]
    }
   ],
   "source": [
    "z = -1j\n",
    "n = 4\n",
    "k = 2\n",
    "term_powers = generate_term_powers(k, n)\n",
    "for i in range(len(term_powers)):\n",
    "    print(i, term_powers[i])"
   ]
  },
  {
   "cell_type": "code",
   "execution_count": 49,
   "id": "6fc9d4e9-196f-4e52-9f65-177b7f5303fa",
   "metadata": {},
   "outputs": [
    {
     "name": "stdout",
     "output_type": "stream",
     "text": [
      "Converting dynamical system...\n",
      "Dynamical system converted.\n",
      "Finding polynomial...\n",
      "Polynomial found:  -1.0*z0*conjugate(z0) - 1.0*z1*conjugate(z1) - 1.0\n",
      "Finding constant...\n",
      "Checking...\n",
      "Constant found:  2.0\n"
     ]
    },
    {
     "data": {
      "text/latex": [
       "$\\displaystyle - 1.0 z_{0} \\overline{z_{0}} - 1.0 z_{1} \\overline{z_{1}} + 1.0$"
      ],
      "text/plain": [
       "-1.0*z0*conjugate(z0) - 1.0*z1*conjugate(z1) + 1.0"
      ]
     },
     "execution_count": 49,
     "metadata": {},
     "output_type": "execute_result"
    }
   ],
   "source": [
    "H = [[0,0,0,0],[0,0,0,0],[0,0,np.pi/np.sqrt(2),-np.pi/np.sqrt(2)],[0,0,-np.pi/np.sqrt(2),np.pi/np.sqrt(2)]]\n",
    "# H = [[0,0,0,0],[0,0,0,0],[0,0,1,-1],[0,0,-1,1]]\n",
    "# init = near_00_or_01\n",
    "# unsafe = in_1xregion\n",
    "def init(x): return [x[0]**2 + x[1]**2 + x[2]**2 + x[3]**2,\n",
    "                     x[0]**2 + x[1]**2 + x[2]**2 + x[3]**2 + x[4]**2 + x[5]**2 + x[6]**2 + x[7]**2]\n",
    "init_constraints = [NonlinearConstraint(init, [0.9, 1], [1, 1])]\n",
    "\n",
    "def unsafe(x): return [x[4]**2 + x[5]**2 + x[6]**2 + x[7]**2,\n",
    "                     x[0]**2 + x[1]**2 + x[2]**2 + x[3]**2 + x[4]**2 + x[5]**2 + x[6]**2 + x[7]**2]\n",
    "unsafe_constraints= [NonlinearConstraint(unsafe, [.5,1], [1,1])]\n",
    "\n",
    "b_cnot = scipy_find_k_barrier(2, H,\n",
    "                              init=init_constraints,\n",
    "                              unsafe=unsafe_constraints,\n",
    "                              linprog_obj=[0,40,31],\n",
    "                              verbose=1)\n",
    "b_cnot"
   ]
  },
  {
   "cell_type": "code",
   "execution_count": 11,
   "id": "6fc32aed-7db2-4259-ba35-b40d614d4ae8",
   "metadata": {},
   "outputs": [
    {
     "name": "stdout",
     "output_type": "stream",
     "text": [
      "Converting dynamical system...\n",
      "Dynamical system converted.\n",
      "Finding polynomial...\n",
      "Polynomial found:  -1.0*z2*conjugate(z2) - 1.0*z3*conjugate(z3) - 1.0\n",
      "Finding constant...\n",
      "Checking...\n",
      "Constant found:  1.9\n"
     ]
    },
    {
     "data": {
      "text/latex": [
       "$\\displaystyle - 1.0 z_{2} \\overline{z_{2}} - 1.0 z_{3} \\overline{z_{3}} + 0.9$"
      ],
      "text/plain": [
       "-1.0*z2*conjugate(z2) - 1.0*z3*conjugate(z3) + 0.9"
      ]
     },
     "execution_count": 11,
     "metadata": {},
     "output_type": "execute_result"
    }
   ],
   "source": [
    "H = [[0,0,0,0],[0,0,0,0],[0,0,np.pi/np.sqrt(2),-np.pi/np.sqrt(2)],[0,0,-np.pi/np.sqrt(2),np.pi/np.sqrt(2)]]\n",
    "# H = [[0,0,0,0],[0,0,0,0],[0,0,1,-1],[0,0,-1,1]]\n",
    "# For CNOT\n",
    "# c[16] = 1\n",
    "# c[23] = 1\n",
    "# c[-14] = 1\n",
    "# c[-5] = 1\n",
    "\n",
    "# init = near_10\n",
    "# unsafe = in_0region\n",
    "def init(x): return [x[0]**2 + x[1]**2,\n",
    "                     x[2]**2 + x[3]**2,\n",
    "                     x[4]**2 + x[5]**2,\n",
    "                     x[6]**2 + x[7]**2,\n",
    "                     x[0]**2 + x[1]**2 + x[2]**2 + x[3]**2 + x[4]**2 + x[5]**2 + x[6]**2 + x[7]**2]\n",
    "init_constraints = [NonlinearConstraint(init, [0, 0, 0.81, 0, 1], [0.09, 0.01, 1, 0.09, 1])]\n",
    "\n",
    "def unsafe(x): return [x[0]**2 + x[1]**2 + x[2]**2 + x[3]**2,\n",
    "                     x[4]**2 + x[5]**2 + x[6]**2 + x[7]**2,\n",
    "                     x[0]**2 + x[1]**2 + x[2]**2 + x[3]**2 + x[4]**2 + x[5]**2 + x[6]**2 + x[7]**2]\n",
    "unsafe_constraints= [NonlinearConstraint(unsafe, [.5,0,1], [1,.5,1])]\n",
    "\n",
    "b_cnot = scipy_find_k_barrier(2, H,\n",
    "                              init=init_constraints,\n",
    "                              unsafe=unsafe_constraints,\n",
    "                              linprog_obj=[0,16,23],\n",
    "                              verbose=1)\n",
    "b_cnot"
   ]
  },
  {
   "cell_type": "markdown",
   "id": "56f9a578-adcc-449e-837c-931c3464e236",
   "metadata": {},
   "source": [
    "Barrier found:\n",
    "$\n",
    "\\displaystyle - 1.0 z_{2} \\overline{z_{2}} - 1.0 z_{3} \\overline{z_{3}} + 0.9\n",
    "$"
   ]
  },
  {
   "cell_type": "markdown",
   "id": "02615b2d-3d8e-44bb-a5e7-74aa69c12ca6",
   "metadata": {},
   "source": [
    "## Never make a barrier"
   ]
  },
  {
   "cell_type": "code",
   "execution_count": 22,
   "id": "0818d45b-8a97-4c75-8f6b-d096fefe9e84",
   "metadata": {},
   "outputs": [
    {
     "name": "stdout",
     "output_type": "stream",
     "text": [
      "Converting dynamical system...\n",
      "Dynamical system converted.\n",
      "Finding polynomial...\n",
      "Polynomial found:  -1.0*z2*conjugate(z2) - 1.0*z3*conjugate(z3) - 1.0\n",
      "Finding constant...\n",
      "Checking...\n",
      "Cannot find barrier\n"
     ]
    }
   ],
   "source": [
    "H = [[0,0,0,0],[0,0,0,0],[0,0,np.pi/np.sqrt(2),-np.pi/np.sqrt(2)],[0,0,-np.pi/np.sqrt(2),np.pi/np.sqrt(2)]]\n",
    "\n",
    "# init = near_10\n",
    "# unsafe = in_0region\n",
    "def init(x): return [x[0]**2 + x[1]**2,\n",
    "                     x[2]**2 + x[3]**2,\n",
    "                     x[4]**2 + x[5]**2,\n",
    "                     x[6]**2 + x[7]**2,\n",
    "                     x[0]**2 + x[1]**2 + x[2]**2 + x[3]**2 + x[4]**2 + x[5]**2 + x[6]**2 + x[7]**2]\n",
    "init_constraints = [NonlinearConstraint(init, [0, 0, 0.81, 0, 1], [0.09, 0.01, 1, 0.09, 1])]\n",
    "\n",
    "def unsafe(x): return [x[6]**2 + x[7]**2,\n",
    "                     x[0]**2 + x[1]**2 + x[2]**2 + x[3]**2 + x[4]**2 + x[5]**2 + x[6]**2 + x[7]**2]\n",
    "unsafe_constraints= [NonlinearConstraint(unsafe, [0.5,1], [1,1])]\n",
    "\n",
    "try:\n",
    "    b_cnot = scipy_find_k_barrier(2, H,\n",
    "                                  init=init_constraints,\n",
    "                                  unsafe=unsafe_constraints,\n",
    "                                  linprog_obj=[0,16,23],\n",
    "                                  verbose=1)\n",
    "    print(b_cnot)\n",
    "except:\n",
    "    print(\"Cannot find barrier\")"
   ]
  },
  {
   "cell_type": "markdown",
   "id": "c262a46f-9464-42a1-9983-cafad6682696",
   "metadata": {},
   "source": [
    "## Slightly Disturbed System"
   ]
  },
  {
   "cell_type": "code",
   "execution_count": 23,
   "id": "97180511-0fa4-4502-8380-600c072343e8",
   "metadata": {},
   "outputs": [
    {
     "name": "stdout",
     "output_type": "stream",
     "text": [
      "Converting dynamical system...\n",
      "Dynamical system converted.\n",
      "Finding polynomial...\n",
      "Polynomial found:  -0.01*z0*conjugate(z0) - 0.01*z0*conjugate(z1) - 0.05*z0*conjugate(z2) + 0.05*z0*conjugate(z3) - 0.01*z1*conjugate(z0) - 0.01*z1*conjugate(z1) - 0.05*z1*conjugate(z2) + 0.05*z1*conjugate(z3) - 0.05*z2*conjugate(z0) - 0.05*z2*conjugate(z1) - 1.0*z2*conjugate(z2) - 0.01*z2*conjugate(z3) + 0.05*z3*conjugate(z0) + 0.05*z3*conjugate(z1) - 0.01*z3*conjugate(z2) - 1.0*z3*conjugate(z3) - 1.0\n",
      "Finding constant...\n",
      "Checking...\n",
      "Constant found:  1.85\n"
     ]
    },
    {
     "data": {
      "text/latex": [
       "$\\displaystyle - 0.01 z_{0} \\overline{z_{0}} - 0.01 z_{0} \\overline{z_{1}} - 0.05 z_{0} \\overline{z_{2}} + 0.05 z_{0} \\overline{z_{3}} - 0.01 z_{1} \\overline{z_{0}} - 0.01 z_{1} \\overline{z_{1}} - 0.05 z_{1} \\overline{z_{2}} + 0.05 z_{1} \\overline{z_{3}} - 0.05 z_{2} \\overline{z_{0}} - 0.05 z_{2} \\overline{z_{1}} - 1.0 z_{2} \\overline{z_{2}} - 0.01 z_{2} \\overline{z_{3}} + 0.05 z_{3} \\overline{z_{0}} + 0.05 z_{3} \\overline{z_{1}} - 0.01 z_{3} \\overline{z_{2}} - 1.0 z_{3} \\overline{z_{3}} + 0.85$"
      ],
      "text/plain": [
       "-0.01*z0*conjugate(z0) - 0.01*z0*conjugate(z1) - 0.05*z0*conjugate(z2) + 0.05*z0*conjugate(z3) - 0.01*z1*conjugate(z0) - 0.01*z1*conjugate(z1) - 0.05*z1*conjugate(z2) + 0.05*z1*conjugate(z3) - 0.05*z2*conjugate(z0) - 0.05*z2*conjugate(z1) - 1.0*z2*conjugate(z2) - 0.01*z2*conjugate(z3) + 0.05*z3*conjugate(z0) + 0.05*z3*conjugate(z1) - 0.01*z3*conjugate(z2) - 1.0*z3*conjugate(z3) + 0.85"
      ]
     },
     "execution_count": 23,
     "metadata": {},
     "output_type": "execute_result"
    }
   ],
   "source": [
    "d = 0.1\n",
    "H = [[0,0,d,-d],\n",
    "     [0,0,d,-d],\n",
    "     [d,d,1,-1],\n",
    "     [-d,-d,-1,1]]\n",
    "\n",
    "\n",
    "# init = near_10\n",
    "# unsafe = in_0region\n",
    "def init(x): return [x[0]**2 + x[1]**2,\n",
    "                     x[2]**2 + x[3]**2,\n",
    "                     x[4]**2 + x[5]**2,\n",
    "                     x[6]**2 + x[7]**2,\n",
    "                     x[0]**2 + x[1]**2 + x[2]**2 + x[3]**2 + x[4]**2 + x[5]**2 + x[6]**2 + x[7]**2]\n",
    "init_constraints = [NonlinearConstraint(init, [0, 0, 0.81, 0, 1], [0.09, 0.01, 1, 0.09, 1])]\n",
    "\n",
    "def unsafe(x): return [x[0]**2 + x[1]**2 + x[2]**2 + x[3]**2,\n",
    "                     x[4]**2 + x[5]**2 + x[6]**2 + x[7]**2,\n",
    "                     x[0]**2 + x[1]**2 + x[2]**2 + x[3]**2 + x[4]**2 + x[5]**2 + x[6]**2 + x[7]**2]\n",
    "unsafe_constraints= [NonlinearConstraint(unsafe, [.5,0,1], [1,.5,1])]\n",
    "\n",
    "b_ctop = scipy_find_k_barrier(2, H,\n",
    "                              init=init_constraints,\n",
    "                              unsafe=unsafe_constraints,\n",
    "                              linprog_obj=[0,16,23],\n",
    "                              verbose=1)\n",
    "b_ctop"
   ]
  },
  {
   "cell_type": "markdown",
   "id": "bc3c28ca-d91d-4820-9be5-9e3b3bc174a6",
   "metadata": {
    "jp-MarkdownHeadingCollapsed": true,
    "tags": []
   },
   "source": [
    "## $e^{-iHt} = X$\n",
    "\n",
    "See https://doi.org/10.1142/S0217979297001143"
   ]
  },
  {
   "cell_type": "code",
   "execution_count": 13,
   "id": "793357c2-11f6-4ced-b91a-283669179cb3",
   "metadata": {},
   "outputs": [
    {
     "name": "stdout",
     "output_type": "stream",
     "text": [
      "Converting dynamical system...\n",
      "Dynamical system converted.\n",
      "Finding polynomial...\n",
      "Polynomial found:  -1.0*z0 - 1.0*z1 - 1.0*conjugate(z0) - 1.0*conjugate(z1) - 1.0\n",
      "Finding constant...\n",
      "Checking...\n"
     ]
    },
    {
     "name": "stderr",
     "output_type": "stream",
     "text": [
      "/home/campus.ncl.ac.uk/c0077946/anaconda3/envs/barrier_certs_quantum/lib/python3.10/site-packages/scipy/optimize/_hessian_update_strategy.py:182: UserWarning: delta_grad == 0.0. Check if the approximated function is linear. If the function is linear better results can be obtained by defining the Hessian as zero instead of using quasi-Newton approximations.\n",
      "  warn('delta_grad == 0.0. Check if the approximated '\n"
     ]
    },
    {
     "name": "stdout",
     "output_type": "stream",
     "text": [
      "Barrier was in unsafe region\n"
     ]
    }
   ],
   "source": [
    "H = [[.5,-.5],[-.5,.5]]\n",
    "# Need suitable init and unsafe regions\n",
    "def init(x): return [x[0]**2,\n",
    "                     x[1]**2,\n",
    "                     x[0]**2 + x[1]**2 + x[2]**2 + x[3]**2]\n",
    "init_constraints = [NonlinearConstraint(init, [.9, 0, 1], [1, 0, 1])]\n",
    "\n",
    "def unsafe(x): return [x[1],\n",
    "                       x[0]**2 + x[1]**2 + x[2]**2 + x[3]**2]\n",
    "unsafe_constraints = [NonlinearConstraint(unsafe, [.6, 1], [1, 1])]\n",
    "\n",
    "try:\n",
    "    barrier = scipy_find_k_barrier(2, H,\n",
    "                                   init=init_constraints,\n",
    "                                   unsafe=unsafe_constraints,\n",
    "                                   linprog_obj=[0,1],\n",
    "                                   # linprog_obj=list(range(14)),\n",
    "                                   verbose=1)\n",
    "    print(barrier)\n",
    "except:\n",
    "    print(\"Barrier was in unsafe region\")"
   ]
  },
  {
   "cell_type": "code",
   "execution_count": null,
   "id": "402ff619-0717-424a-855b-172da63fc874",
   "metadata": {},
   "outputs": [],
   "source": []
  },
  {
   "cell_type": "markdown",
   "id": "d63f8b20-c463-46ec-adad-3c55b541e2d1",
   "metadata": {
    "jp-MarkdownHeadingCollapsed": true,
    "tags": []
   },
   "source": [
    "## $e^{-iHt} = Y$"
   ]
  },
  {
   "cell_type": "code",
   "execution_count": 14,
   "id": "be837e6e-cf3d-4f80-8a4e-641832c65949",
   "metadata": {},
   "outputs": [],
   "source": [
    "H = [[.5, .5j],[-.5j,.5]]\n",
    "init_constraints = close_to_zero\n",
    "unsafe_constraints = qubit_simple_constraints((_,_),(_,_))"
   ]
  },
  {
   "cell_type": "code",
   "execution_count": null,
   "id": "297d214b-470d-4171-8306-c856afb032de",
   "metadata": {},
   "outputs": [],
   "source": []
  },
  {
   "cell_type": "markdown",
   "id": "520eff85-0190-458a-a80a-608e4f3969a8",
   "metadata": {
    "tags": []
   },
   "source": [
    "## $e^{-iHt} = Z$"
   ]
  },
  {
   "cell_type": "code",
   "execution_count": 15,
   "id": "68f3d83c-54bd-423a-92fc-b69e3619b546",
   "metadata": {},
   "outputs": [
    {
     "name": "stdout",
     "output_type": "stream",
     "text": [
      "Converting dynamical system...\n",
      "Dynamical system converted.\n",
      "Finding polynomial...\n",
      "Polynomial found:  -1.0*z0*conjugate(z0) - 1.0\n",
      "Finding constant...\n",
      "Checking...\n",
      "Constant found:  2.0\n"
     ]
    },
    {
     "data": {
      "text/latex": [
       "$\\displaystyle - 1.0 z_{0} \\overline{z_{0}} + 1.0$"
      ],
      "text/plain": [
       "-1.0*z0*conjugate(z0) + 1.0"
      ]
     },
     "execution_count": 15,
     "metadata": {},
     "output_type": "execute_result"
    }
   ],
   "source": [
    "H = [[2,0],[0,1]]\n",
    "init_constraints = close_to_zero\n",
    "unsafe_constraints = qubit_simple_constraints((0,0.89),(0.11,1))\n",
    "\n",
    "barrier = scipy_find_k_barrier(2, H,\n",
    "                               init=init_constraints,\n",
    "                               unsafe=unsafe_constraints,\n",
    "                               linprog_obj=[0,12],\n",
    "                               verbose=1)\n",
    "barrier"
   ]
  },
  {
   "cell_type": "code",
   "execution_count": null,
   "id": "71cdb2d2-5edb-48f6-9fab-a80a977804f3",
   "metadata": {},
   "outputs": [],
   "source": []
  },
  {
   "cell_type": "code",
   "execution_count": 16,
   "id": "93a92529-bf71-49e8-b375-c8517a948565",
   "metadata": {},
   "outputs": [
    {
     "name": "stdout",
     "output_type": "stream",
     "text": [
      "Converting dynamical system...\n",
      "Dynamical system converted.\n",
      "Finding polynomial...\n",
      "Polynomial found:  -1.0*z1*conjugate(z1) - 1.0\n",
      "Finding constant...\n",
      "Checking...\n",
      "Constant found:  1.9\n"
     ]
    },
    {
     "data": {
      "text/latex": [
       "$\\displaystyle - 1.0 z_{1} \\overline{z_{1}} + 0.9$"
      ],
      "text/plain": [
       "-1.0*z1*conjugate(z1) + 0.9"
      ]
     },
     "execution_count": 16,
     "metadata": {},
     "output_type": "execute_result"
    }
   ],
   "source": [
    "H = [[2,0],[0,1]]\n",
    "init_constraints = close_to_one\n",
    "unsafe_constraints = qubit_simple_constraints((0.11,1),(0,0.89))\n",
    "\n",
    "barrier = scipy_find_k_barrier(2, H,\n",
    "                               init=init_constraints,\n",
    "                               unsafe=unsafe_constraints,\n",
    "                               linprog_obj=[0,7],\n",
    "                               verbose=1)\n",
    "barrier"
   ]
  },
  {
   "cell_type": "code",
   "execution_count": null,
   "id": "c456f900-750b-4dcc-9b30-902ad584fdf3",
   "metadata": {},
   "outputs": [],
   "source": []
  }
 ],
 "metadata": {
  "kernelspec": {
   "display_name": "Python 3 (ipykernel)",
   "language": "python",
   "name": "python3"
  },
  "language_info": {
   "codemirror_mode": {
    "name": "ipython",
    "version": 3
   },
   "file_extension": ".py",
   "mimetype": "text/x-python",
   "name": "python",
   "nbconvert_exporter": "python",
   "pygments_lexer": "ipython3",
   "version": "3.10.4"
  }
 },
 "nbformat": 4,
 "nbformat_minor": 5
}
