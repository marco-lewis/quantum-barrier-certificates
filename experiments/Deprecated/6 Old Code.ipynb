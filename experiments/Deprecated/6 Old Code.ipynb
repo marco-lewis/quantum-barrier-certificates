{
 "cells": [
  {
   "cell_type": "code",
   "execution_count": 1,
   "id": "ebe86843-b55d-40cc-9494-1a5c69ae195a",
   "metadata": {},
   "outputs": [
    {
     "ename": "ModuleNotFoundError",
     "evalue": "No module named 'complex'",
     "output_type": "error",
     "traceback": [
      "\u001b[0;31m---------------------------------------------------------------------------\u001b[0m",
      "\u001b[0;31mModuleNotFoundError\u001b[0m                       Traceback (most recent call last)",
      "Input \u001b[0;32mIn [1]\u001b[0m, in \u001b[0;36m<cell line: 6>\u001b[0;34m()\u001b[0m\n\u001b[1;32m      3\u001b[0m \u001b[38;5;28;01mimport\u001b[39;00m \u001b[38;5;21;01mitertools\u001b[39;00m\n\u001b[1;32m      4\u001b[0m \u001b[38;5;28;01mimport\u001b[39;00m \u001b[38;5;21;01mwarnings\u001b[39;00m\n\u001b[0;32m----> 6\u001b[0m \u001b[38;5;28;01mfrom\u001b[39;00m \u001b[38;5;21;01mcomplex\u001b[39;00m \u001b[38;5;28;01mimport\u001b[39;00m \u001b[38;5;241m*\u001b[39m\n\u001b[1;32m      7\u001b[0m \u001b[38;5;28;01mfrom\u001b[39;00m \u001b[38;5;21;01mComplexVector\u001b[39;00m \u001b[38;5;28;01mimport\u001b[39;00m \u001b[38;5;241m*\u001b[39m\n\u001b[1;32m      8\u001b[0m \u001b[38;5;28;01mfrom\u001b[39;00m \u001b[38;5;21;01mFuncClasses\u001b[39;00m \u001b[38;5;28;01mimport\u001b[39;00m \u001b[38;5;241m*\u001b[39m\n",
      "\u001b[0;31mModuleNotFoundError\u001b[0m: No module named 'complex'"
     ]
    }
   ],
   "source": [
    "import cmath\n",
    "from copy import copy, deepcopy\n",
    "import itertools\n",
    "import warnings\n",
    "\n",
    "from complex import *\n",
    "from ComplexVector import *\n",
    "from FuncClasses import *\n",
    "from RegionClasses import *\n",
    "from regions import *\n",
    "from utils import *\n",
    "\n",
    "# import cvxpy as cp\n",
    "import numpy as np\n",
    "import sympy as sym\n",
    "from z3 import *\n",
    "import scipy as sp\n",
    "from scipy.optimize import NonlinearConstraint, Bounds, minimize, linprog, OptimizeWarning\n",
    "\n",
    "from IPython.display import clear_output"
   ]
  },
  {
   "cell_type": "markdown",
   "id": "ee349d46-c6fe-4131-b67f-e29426ff8b50",
   "metadata": {},
   "source": [
    "## Z3"
   ]
  },
  {
   "cell_type": "code",
   "execution_count": null,
   "id": "fd84eccc-57a4-4c5a-ad4e-9f27e4bb8d33",
   "metadata": {},
   "outputs": [],
   "source": [
    "def z3_find_b(barrier, states, f_vec, term_powers, coeffs, prec=2):\n",
    "    dbdz = FuncVec([diff(barrier, i) for i in range(states)])\n",
    "    dbdzconj = FuncVec([diff(barrier, i) for i in range(states, 2*states)])\n",
    "    dbdt = (dbdz * f_vec) + (dbdzconj * f_vec.conj())\n",
    "    print(\"Differential of barrier made...\")\n",
    "    \n",
    "    barr_minus_conj = barrier - barrier.conj()\n",
    "    \n",
    "    s = Solver()\n",
    "    # Basic conditions\n",
    "    s.add([simplify(coeff == 0) for coeff in dbdt.get_coeffs()])\n",
    "    s.add([simplify(coeff == 0) for coeff in barr_minus_conj.get_coeffs()])\n",
    "    # s.add(Not(And([coeff == 0 for coeff in barrier.get_coeffs()])))\n",
    "\n",
    "    idx = []\n",
    "    for i in range(states):\n",
    "        temp = [0]*states\n",
    "        temp[i] = 1\n",
    "        idx.append(term_powers.index(temp*2))\n",
    "    prob_coeffs = [coeffs[i] for i in idx]\n",
    "    s.add(sum(prob_coeffs) == 1)\n",
    "    # Make coeffs of probability sum distinct (a_i from sum(a_i z_i*conj(z_i)))\n",
    "    d = And([prob_coeffs[i] == prob_coeffs[i+1] for i in range(len(prob_coeffs) - 1)])\n",
    "    s.add(Or(Not(d), And([And(p.r == 0,p.i==0) for p in prob_coeffs])))\n",
    "\n",
    "    print(\"Solver ready...\")\n",
    "    ms = print_all_models(s)\n",
    "    return barrier.get_sym_sum(ms[0], prec)\n"
   ]
  },
  {
   "cell_type": "code",
   "execution_count": null,
   "id": "b4ccd9c6-d8ab-48cb-965b-a5de71ad0767",
   "metadata": {},
   "outputs": [],
   "source": [
    "def z3_find_constant(barrier, init_conditions=[]):\n",
    "    zs = barrier.free_symbols\n",
    "    z3_vars, z3_barrier = sympy_to_z3(zs, barrier)\n",
    "    z0 = Complex('z0')\n",
    "    z1 = Complex('z1')\n",
    "    o = Optimize()\n",
    "    o.add(z0.len_sqr() >= 0.9, z0.len_sqr() <= 1)\n",
    "    o.add(z1.len_sqr() <= 0.1, z1.len_sqr() >= 0)\n",
    "    o.add(z1.len_sqr() + z0.len_sqr() == 1)\n",
    "    o.maximize(z3_barrier.r)\n",
    "    o.set(timeout=5000)\n",
    "    # c = Real('c')\n",
    "    # s = Solver()\n",
    "    # init = And(z0.len_sqr() >= 0.9, z0.len_sqr() <= 1, z1.len_sqr() <= 0.1, z1.len_sqr() >= 0, z0.len_sqr() + z1.len_sqr() == 1)\n",
    "    # s.add(ForAll([z0.r,z0.i,z1.r,z1.i], Implies(init, c + z3_barrier.r >= 0)))\n",
    "    print(\"Optimizing\")\n",
    "    print(o.check())\n",
    "    model = o.model()\n",
    "    \n",
    "    print(\"Getting value...\")\n",
    "    vs = [(v, get_real_from_model(model, v.r) + 1j*get_real_from_model(model, v.i)) for v in z3_vars]\n",
    "    value = barrier\n",
    "    # Pair symbols with values from Z3\n",
    "    for sym in barrier.free_symbols:\n",
    "        for v in vs:\n",
    "            if str(sym) == str(v[0]): value = value.subs({sym: v[1]})\n",
    "    return -value"
   ]
  },
  {
   "cell_type": "markdown",
   "id": "e2451829-d710-4803-b629-1f0887826e63",
   "metadata": {},
   "source": [
    "## General Method"
   ]
  },
  {
   "cell_type": "code",
   "execution_count": null,
   "id": "e21cee72-abc4-4c93-9d9f-23e5882aaf76",
   "metadata": {},
   "outputs": [],
   "source": [
    "def find_b(barrier, states, f_vec, term_powers, coeffs, prec=2, package=\"scipy\"):\n",
    "    if package == \"z3\": return z3_find_b(barrier, states, f_vec, term_powers, coeffs, prec)\n",
    "    if package == \"scipy\": return scipy_find_b(barrier, states, f_vec, term_powers, coeffs, prec)\n",
    "\n",
    "def find_k_barrier(k, H, constraints=[], prec=2, package=\"scipy\"):\n",
    "    z = 0-I\n",
    "    n = round(len(H))\n",
    "    print(\"Converting dynamical system...\")\n",
    "    sums = []\n",
    "    for i in range(n):\n",
    "        terms = []\n",
    "        for j in range(n):\n",
    "            t = [0]*(2*n)\n",
    "            t[j] = 1\n",
    "            t = tuple(t)\n",
    "            terms.append(FuncTerm(z * H[i][j], t))\n",
    "        sums.append(FuncSum(terms))\n",
    "    f_vec = FuncVec(sums)\n",
    "    print(\"Dynamical system converted.\")\n",
    "    \n",
    "    term_powers = generate_term_powers(k, n)\n",
    "    c0 = Complex('c')\n",
    "    coeffs = [c0] + ComplexVector('a', len(term_powers) - 1)\n",
    "    barrier = FuncSum(list([FuncTerm(c, t) for c, t in zip(coeffs[1:], term_powers[1:])]))\n",
    "    print(\"Finding polynomial...\")\n",
    "    b = find_b(barrier, n, f_vec, term_powers, coeffs, prec, package=package)\n",
    "    print(\"Finding constant...\")\n",
    "    c = scipy_find_constant(b, n, constraints=constraints)\n",
    "    return c + b"
   ]
  },
  {
   "cell_type": "markdown",
   "id": "a2ea44d9-18d2-4415-9215-c22721469e01",
   "metadata": {},
   "source": [
    "## Using Z3"
   ]
  },
  {
   "cell_type": "code",
   "execution_count": null,
   "id": "74a2017f-8fba-4ae3-8969-b5f6176620e9",
   "metadata": {},
   "outputs": [],
   "source": [
    "# Hadamard as a Hamiltonian\n",
    "H = [[1/np.sqrt(2), 1/np.sqrt(2)],[1/np.sqrt(2), -1/np.sqrt(2)]]\n",
    "# H = [[1,1],[1,-1]]\n",
    "def f(x): return [x[0]**2 + x[1]**2, x[2]**2 + x[3]**2, x[0]**2 + x[1]**2 + x[2]**2 + x[3]**2]\n",
    "constraints = [NonlinearConstraint(f, [0.9, 0, 1], [1,0.1, 1])]\n",
    "# b = find_k_barrier(2, H, constraints=constraints, package=\"z3\")\n",
    "# b"
   ]
  },
  {
   "cell_type": "code",
   "execution_count": null,
   "id": "c8cfa3fe-9ad8-4da9-8679-8c0d6caa7db0",
   "metadata": {},
   "outputs": [],
   "source": [
    "# TODO: Try out new Hamiltonians and regions\n",
    "H = [[0,0,0,0],[0,0,0,0],[0,0,np.pi/np.sqrt(2),-np.pi/np.sqrt(2)],[0,0,-np.pi/np.sqrt(2),np.pi/np.sqrt(2)]]\n",
    "# init = InitRegion(near_00)\n",
    "# unsafe = UnsafeRegion(near_11)\n",
    "def f(x): return [x[0]**2 + x[1]**2, x[2]**2 + x[3]**2, x[4]**2 + x[5]**2, x[6]**2 + x[7]**2, x[0]**2 + x[1]**2 + x[2]**2 + x[3]**2 + x[4]**2 + x[5]**2 + x[6]**2 + x[7]**2]\n",
    "constraints = [NonlinearConstraint(f, [0.81, 0, 0, 0, 1], [1, 0.09, 0.09, 0.1, 1])]\n",
    "\n",
    "# init = near_10\n",
    "# unsafe = in_0region\n",
    "def f(x): return [x[0]**2 + x[1]**2, x[2]**2 + x[3]**2, x[4]**2 + x[5]**2, x[6]**2 + x[7]**2, x[0]**2 + x[1]**2 + x[2]**2 + x[3]**2 + x[4]**2 + x[5]**2 + x[6]**2 + x[7]**2]\n",
    "constraints = [NonlinearConstraint(f, [0, 0, 0.81, 0, 1], [0.09, 0.01, 1, 0.09, 1])]\n",
    "\n",
    "# find_k_barrier(2, H, constraints=constraints, package=\"z3\")"
   ]
  }
 ],
 "metadata": {
  "kernelspec": {
   "display_name": "Python 3 (ipykernel)",
   "language": "python",
   "name": "python3"
  },
  "language_info": {
   "codemirror_mode": {
    "name": "ipython",
    "version": 3
   },
   "file_extension": ".py",
   "mimetype": "text/x-python",
   "name": "python",
   "nbconvert_exporter": "python",
   "pygments_lexer": "ipython3",
   "version": "3.10.4"
  }
 },
 "nbformat": 4,
 "nbformat_minor": 5
}
