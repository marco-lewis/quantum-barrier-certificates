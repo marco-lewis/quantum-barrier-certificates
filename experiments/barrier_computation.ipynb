{
 "cells": [
  {
   "cell_type": "code",
   "execution_count": 1,
   "id": "fbb6d61c-294c-476d-825b-59571a8209de",
   "metadata": {},
   "outputs": [],
   "source": [
    "import cmath\n",
    "from copy import copy, deepcopy\n",
    "import itertools\n",
    "import warnings\n",
    "\n",
    "from FuncClasses import *\n",
    "from utils import *\n",
    "\n",
    "import numpy as np\n",
    "import sympy as sym\n",
    "import scipy as sp\n",
    "from scipy.optimize import NonlinearConstraint, Bounds, minimize, linprog, OptimizeWarning"
   ]
  },
  {
   "cell_type": "markdown",
   "id": "0b6b865f-5749-48b9-a024-3de90bc0ce60",
   "metadata": {
    "tags": []
   },
   "source": [
    "# Functions"
   ]
  },
  {
   "cell_type": "markdown",
   "id": "a5cb1d17-d94d-4964-a6b0-f0c4c5dfd35c",
   "metadata": {
    "tags": []
   },
   "source": [
    "## Scipy"
   ]
  },
  {
   "cell_type": "code",
   "execution_count": 2,
   "id": "1a2fa864-5b4e-4552-b5bd-99ffe1699550",
   "metadata": {},
   "outputs": [],
   "source": [
    "def diff_fsum(fsum, i):\n",
    "    new_fsum = []\n",
    "    for fterm in fsum.fterms:\n",
    "        t = deepcopy(fterm.var)\n",
    "        if t[i] != 0:\n",
    "            c = fterm.coeff * t[i]\n",
    "            t[i] -= 1\n",
    "            new_fsum.append(FuncTerm(c, t))\n",
    "    return FuncSum(new_fsum)\n",
    "\n",
    "def scipy_find_b(barrier, states, f_vec, term_powers, prec=2, linprog_obj=[]):\n",
    "    # Make appropriate conditions using representation\n",
    "    dbdz = FuncVec([diff_fsum(barrier, i) for i in range(states)])\n",
    "    dbdzconj = FuncVec([diff(barrier, i) for i in range(states, 2*states)])\n",
    "    dbdt = (dbdz * f_vec) + (dbdzconj * f_vec.conj())\n",
    "    barr_minus_conj = barrier - barrier.conj()\n",
    "    \n",
    "    # Create linprog matrices and vectors\n",
    "    A_dbdt = [list(term.coeff.imag) for term in dbdt.fterms]\n",
    "    b_dbdt = [0]*len(A_dbdt)\n",
    "    \n",
    "    A_conj = [list(term.coeff) for term in barr_minus_conj.fterms]\n",
    "    b_conj = [0]*len(A_conj)\n",
    "    \n",
    "    A = np.array(A_dbdt + A_conj)\n",
    "    b = np.array(b_dbdt + b_conj)\n",
    "    # Minimize vector (min c^T x subject to ...)\n",
    "    c = np.array([0]*len(term_powers))\n",
    "    for i in linprog_obj:\n",
    "        c[i] = 1\n",
    "    \n",
    "    # Negate A doesn't matter unless used for A_ub\n",
    "    res = linprog(c,\n",
    "                  A_eq=A,\n",
    "                  b_eq=b,\n",
    "                  bounds=(-1,1),\n",
    "                 )\n",
    "    return barrier.get_sym_sum(res.x, prec)"
   ]
  },
  {
   "cell_type": "code",
   "execution_count": 3,
   "id": "f3daed9c-e329-4322-b5dc-f90ad592345c",
   "metadata": {},
   "outputs": [],
   "source": [
    "def scipy_find_constant(barrier_sym, states, init=[], prec=2):\n",
    "    # Create objective function from Sympy barrier\n",
    "    def obj(x):\n",
    "        z = [x[2*i] + 1j*x[2*i + 1] for i in range(states)]\n",
    "        b = barrier_sym\n",
    "        for var_sym in barrier_sym.free_symbols:\n",
    "            sym_num = int(str(var_sym)[1:])\n",
    "            b = b.subs({var_sym: z[sym_num]})\n",
    "        return -float(sym.re(b))\n",
    "\n",
    "    # Bounds and guesses\n",
    "    bounds = Bounds([-1]*2*states, [1]*2*states)\n",
    "    guess = [0]*2*states\n",
    "    \n",
    "    res = minimize(obj,\n",
    "                   guess,\n",
    "                   method='trust-constr',\n",
    "                   constraints=init,\n",
    "                   options={'verbose': 0},\n",
    "                   bounds=bounds,\n",
    "                   hess=lambda x: np.zeros((2*states,))\n",
    "                  )\n",
    "    minimum = round(res.fun, prec)\n",
    "    return minimum"
   ]
  },
  {
   "cell_type": "code",
   "execution_count": 4,
   "id": "9ac74d61-5277-4f90-b6d9-6a8f6bd642c5",
   "metadata": {},
   "outputs": [],
   "source": [
    "def scipy_check_constant(c, barrier_sym, states, unsafe=[], prec=2):\n",
    "    def obj(x):\n",
    "        z = [x[2*i] + 1j*x[2*i + 1] for i in range(states)]\n",
    "        b = barrier_sym\n",
    "        for var_sym in barrier_sym.free_symbols:\n",
    "            sym_num = int(str(var_sym)[1:])\n",
    "            b = b.subs({var_sym: z[sym_num]})\n",
    "        return float(sym.re(b))\n",
    "\n",
    "    # Bounds and guesses\n",
    "    bounds = Bounds([-1]*2*states, [1]*2*states)\n",
    "    guess = [0]*2*states\n",
    "    \n",
    "    res = minimize(obj,\n",
    "                   guess,\n",
    "                   method='trust-constr',\n",
    "                   constraints=unsafe,\n",
    "                   options={'verbose': 0},\n",
    "                   bounds=bounds,\n",
    "                   hess=lambda x: np.zeros((2*states,))\n",
    "                  )\n",
    "    minimum = round(res.fun, prec)\n",
    "    if -minimum >= c : raise Exception(\"Error: barrier has part of unsafe in same contour as initial region\")"
   ]
  },
  {
   "cell_type": "code",
   "execution_count": 5,
   "id": "6382f993-0045-4395-a833-0543a48b00b6",
   "metadata": {},
   "outputs": [],
   "source": [
    "# Setup coefficients as ndarray\n",
    "def scipy_find_k_barrier(k, H, init=[], unsafe=[], linprog_obj = [], prec=2, verbose=False):\n",
    "    z = -1j\n",
    "    n = round(len(H))\n",
    "    term_powers = generate_term_powers(k, n)\n",
    "    coeff_num = len(term_powers)\n",
    "    \n",
    "\n",
    "    if verbose: print(\"Converting dynamical system...\")\n",
    "    sums = []\n",
    "    for i in range(n):\n",
    "        terms = []\n",
    "        for j in range(n):\n",
    "            t = [0]*(2*n)\n",
    "            t[j] = 1\n",
    "            t = tuple(t)\n",
    "            terms.append(FuncTerm(z * H[i][j], t))\n",
    "        sums.append(FuncSum(terms))\n",
    "    f_vec = FuncVec(sums)\n",
    "    if verbose: print(\"Dynamical system converted.\")\n",
    "    \n",
    "    id_coeff = np.identity(coeff_num)\n",
    "    barrier = FuncSum(list([FuncTerm(i, t) for i, t in zip(id_coeff, term_powers)]))\n",
    "    if verbose: print(\"Finding polynomial...\")\n",
    "    warnings.simplefilter(\"ignore\", OptimizeWarning)\n",
    "    b = scipy_find_b(barrier, n, f_vec, term_powers, prec, linprog_obj)\n",
    "    if verbose: print(\"Polynomial found: \", b)\n",
    "    \n",
    "    if verbose: print(\"Finding constant...\")\n",
    "    c = scipy_find_constant(b, n, init=init)\n",
    "    if verbose: print(\"Checking...\")\n",
    "    scipy_check_constant(c, b, n, unsafe=unsafe)\n",
    "    if verbose: print(\"Constant found: \", c)\n",
    "    \n",
    "    return round_sympy_expr(c + b)"
   ]
  },
  {
   "cell_type": "markdown",
   "id": "6668dee2-7486-45ae-b0d2-0ae2381811b9",
   "metadata": {},
   "source": [
    "# Using Scipy"
   ]
  },
  {
   "cell_type": "code",
   "execution_count": 6,
   "id": "518e10d2-7b1a-4064-bd01-ef7f5847d45d",
   "metadata": {},
   "outputs": [],
   "source": [
    "def qubit_simple_constraints(zero_bounds, one_bounds):\n",
    "    def f(x): return [x[0]**2 + x[1]**2,\n",
    "                      x[2]**2 + x[3]**2,\n",
    "                      x[0]**2 + x[1]**2 + x[2]**2 + x[3]**2]\n",
    "    return [NonlinearConstraint(f, [zero_bounds[0], one_bounds[0], 1], [zero_bounds[1], one_bounds[1], 1])]\n",
    "\n",
    "close_to_zero = qubit_simple_constraints((0.9,1),(0,0.1))\n",
    "close_to_one = qubit_simple_constraints((0,0.1),(0.9,1))"
   ]
  },
  {
   "cell_type": "markdown",
   "id": "aab45e99-69ec-4717-911c-058c929456d8",
   "metadata": {
    "jp-MarkdownHeadingCollapsed": true,
    "tags": []
   },
   "source": [
    "## $e^{-i\\hat{H}t} = H$\n",
    "\n",
    "See https://doi.org/10.1088/1361-6455/aa987c"
   ]
  },
  {
   "cell_type": "code",
   "execution_count": 7,
   "id": "1680068b-973e-421d-923c-7f0aab4bdada",
   "metadata": {},
   "outputs": [
    {
     "name": "stdout",
     "output_type": "stream",
     "text": [
      "Converting dynamical system...\n",
      "Dynamical system converted.\n",
      "Finding polynomial...\n",
      "Polynomial found:  -1.0*z0*conjugate(z0) - 0.33*z0*conjugate(z1) - 0.33*z1*conjugate(z0) - 0.33*z1*conjugate(z1)\n",
      "Finding constant...\n",
      "Checking...\n",
      "Constant found:  0.74\n"
     ]
    },
    {
     "data": {
      "text/latex": [
       "$\\displaystyle - 1.0 z_{0} \\overline{z_{0}} - 0.33 z_{0} \\overline{z_{1}} - 0.33 z_{1} \\overline{z_{0}} - 0.33 z_{1} \\overline{z_{1}} + 0.74$"
      ],
      "text/plain": [
       "-1.0*z0*conjugate(z0) - 0.33*z0*conjugate(z1) - 0.33*z1*conjugate(z0) - 0.33*z1*conjugate(z1) + 0.74"
      ]
     },
     "execution_count": 7,
     "metadata": {},
     "output_type": "execute_result"
    }
   ],
   "source": [
    "# Hadamard as a Hamiltonian\n",
    "# H = [[1/2*np.sqrt(2), 1/2*np.sqrt(2)],[1/2*np.sqrt(2), -1/2*np.sqrt(2)]]\n",
    "H = [[1,1],[1,-1]]\n",
    "# For Had-like Hadamard\n",
    "# c[12] = 1\n",
    "\n",
    "init_constraints = close_to_zero\n",
    "unsafe_constraints = qubit_simple_constraints((0,0.1),(0.9,1))\n",
    "\n",
    "\n",
    "barrier = scipy_find_k_barrier(2, H,\n",
    "                               init=init_constraints,\n",
    "                               unsafe=unsafe_constraints,\n",
    "                               linprog_obj=[12],\n",
    "                               verbose=1)\n",
    "barrier"
   ]
  },
  {
   "cell_type": "markdown",
   "id": "0a5ddf6d-db83-4bc2-a413-aac330e31cdb",
   "metadata": {},
   "source": [
    "3 * Barrier $\\approx \\displaystyle - 3.0 z_{0} \\overline{z_{0}} - 1.0 z_{0} \\overline{z_{1}} - 1.0 z_{1} \\overline{z_{0}} - 1.0 z_{1} \\overline{z_{1}} + 2.2$\n",
    "\n",
    "\n",
    "In Bra-ket notation: $ \\displaystyle 2.2 -3\\langle 0| \\phi \\rangle \\langle \\phi| 0\\rangle - \\langle 0| \\phi\\rangle \\langle \\phi|1 \\rangle - \\langle 1|\\phi \\rangle \\langle \\phi|0 \\rangle - \\langle 1|\\phi \\rangle \\langle \\phi| 1\\rangle$"
   ]
  },
  {
   "cell_type": "markdown",
   "id": "647c814c-4f86-487b-a709-887514b251eb",
   "metadata": {
    "tags": []
   },
   "source": [
    "## $e^{-iHt} = S$\n",
    "\n",
    "$S = \\begin{bmatrix} 1 & 0 \\\\ 0 & i \\end{bmatrix} $"
   ]
  },
  {
   "cell_type": "code",
   "execution_count": 8,
   "id": "523e1634-f103-4c30-803c-5a600a809d70",
   "metadata": {},
   "outputs": [
    {
     "name": "stdout",
     "output_type": "stream",
     "text": [
      "0 [0, 0, 0, 0]\n",
      "1 [0, 0, 0, 1]\n",
      "2 [0, 0, 0, 2]\n",
      "3 [0, 0, 1, 0]\n",
      "4 [0, 0, 1, 1]\n",
      "5 [0, 0, 2, 0]\n",
      "6 [0, 1, 0, 0]\n",
      "7 [0, 1, 0, 1]\n",
      "8 [0, 1, 1, 0]\n",
      "9 [0, 2, 0, 0]\n",
      "10 [1, 0, 0, 0]\n",
      "11 [1, 0, 0, 1]\n",
      "12 [1, 0, 1, 0]\n",
      "13 [1, 1, 0, 0]\n",
      "14 [2, 0, 0, 0]\n"
     ]
    }
   ],
   "source": [
    "z = -1j\n",
    "n = 2\n",
    "k = 2\n",
    "term_powers = generate_term_powers(k, n)\n",
    "for i in range(len(term_powers)):\n",
    "    print(i, term_powers[i])"
   ]
  },
  {
   "cell_type": "code",
   "execution_count": 18,
   "id": "30792109-863d-4741-b238-c9f131e30ffb",
   "metadata": {},
   "outputs": [
    {
     "name": "stdout",
     "output_type": "stream",
     "text": [
      "Converting dynamical system...\n",
      "Dynamical system converted.\n",
      "Finding polynomial...\n",
      "Polynomial found:  -1.0*z0*conjugate(z0)\n",
      "Finding constant...\n",
      "Checking...\n",
      "Constant found:  0.9\n"
     ]
    },
    {
     "data": {
      "text/latex": [
       "$\\displaystyle - 1.0 z_{0} \\overline{z_{0}} + 0.9$"
      ],
      "text/plain": [
       "-1.0*z0*conjugate(z0) + 0.9"
      ]
     },
     "execution_count": 18,
     "metadata": {},
     "output_type": "execute_result"
    }
   ],
   "source": [
    "d = np.pi/4\n",
    "d=1\n",
    "H = [[d,0], [0,-d]]\n",
    "init_constraints = close_to_zero\n",
    "unsafe_constraints = qubit_simple_constraints((0,np.sqrt(0.89)),(np.sqrt(0.11),1))\n",
    "\n",
    "barrier = scipy_find_k_barrier(2, H,\n",
    "                               init=init_constraints,\n",
    "                               unsafe=unsafe_constraints,\n",
    "                               linprog_obj=[12],\n",
    "                               verbose=1)\n",
    "barrier"
   ]
  },
  {
   "cell_type": "code",
   "execution_count": 10,
   "id": "78fb5dc7-f868-43a1-bfb2-8cff76abbaca",
   "metadata": {},
   "outputs": [
    {
     "name": "stdout",
     "output_type": "stream",
     "text": [
      "Converting dynamical system...\n",
      "Dynamical system converted.\n",
      "Finding polynomial...\n",
      "Polynomial found:  -1.0*z1*conjugate(z1)\n",
      "Finding constant...\n",
      "Checking...\n",
      "Constant found:  0.9\n"
     ]
    },
    {
     "data": {
      "text/latex": [
       "$\\displaystyle - 1.0 z_{1} \\overline{z_{1}} + 0.9$"
      ],
      "text/plain": [
       "-1.0*z1*conjugate(z1) + 0.9"
      ]
     },
     "execution_count": 10,
     "metadata": {},
     "output_type": "execute_result"
    }
   ],
   "source": [
    "d = np.pi/4\n",
    "d=1\n",
    "H = [[d,0], [0,-d]]\n",
    "init_constraints = close_to_one\n",
    "unsafe_constraints = qubit_simple_constraints((np.sqrt(0.11),1),(0,np.sqrt(0.89)))\n",
    "\n",
    "barrier = scipy_find_k_barrier(2, H,\n",
    "                               init=init_constraints,\n",
    "                               unsafe=unsafe_constraints,\n",
    "                               linprog_obj=[7],\n",
    "                               verbose=1)\n",
    "barrier"
   ]
  },
  {
   "cell_type": "code",
   "execution_count": 24,
   "id": "793bd214-f39c-4f83-837c-59635c2f947f",
   "metadata": {},
   "outputs": [
    {
     "name": "stdout",
     "output_type": "stream",
     "text": [
      "Converting dynamical system...\n",
      "Dynamical system converted.\n",
      "Finding polynomial...\n",
      "Polynomial found:  -0.01*z0*conjugate(z0) + 0.05*z0*conjugate(z1) + 0.05*z1*conjugate(z0) - 1.0*z1*conjugate(z1)\n",
      "Finding constant...\n",
      "Checking...\n",
      "Constant found:  0.87\n"
     ]
    },
    {
     "data": {
      "text/latex": [
       "$\\displaystyle - 0.01 z_{0} \\overline{z_{0}} + 0.05 z_{0} \\overline{z_{1}} + 0.05 z_{1} \\overline{z_{0}} - 1.0 z_{1} \\overline{z_{1}} + 0.87$"
      ],
      "text/plain": [
       "-0.01*z0*conjugate(z0) + 0.05*z0*conjugate(z1) + 0.05*z1*conjugate(z0) - 1.0*z1*conjugate(z1) + 0.87"
      ]
     },
     "execution_count": 24,
     "metadata": {},
     "output_type": "execute_result"
    }
   ],
   "source": [
    "d = np.pi/4\n",
    "d=1\n",
    "H = [[d,0.1], [0.1,-d]]\n",
    "init_constraints = close_to_one\n",
    "unsafe_constraints = qubit_simple_constraints((np.sqrt(0.11),1),(0,np.sqrt(0.89)))\n",
    "\n",
    "barrier = scipy_find_k_barrier(2, H,\n",
    "                               init=init_constraints,\n",
    "                               unsafe=unsafe_constraints,\n",
    "                               linprog_obj=[7],\n",
    "                               verbose=1)\n",
    "barrier"
   ]
  },
  {
   "cell_type": "code",
   "execution_count": 22,
   "id": "4d43b892-e24d-414f-9297-f8350a1c5334",
   "metadata": {},
   "outputs": [
    {
     "name": "stdout",
     "output_type": "stream",
     "text": [
      "Converting dynamical system...\n",
      "Dynamical system converted.\n",
      "Finding polynomial...\n",
      "Polynomial found:  -1.0*z1*conjugate(z1)\n",
      "Finding constant...\n",
      "Checking...\n",
      "Constant found:  0.54\n"
     ]
    },
    {
     "data": {
      "text/latex": [
       "$\\displaystyle - 1.0 z_{1} \\overline{z_{1}} + 0.54$"
      ],
      "text/plain": [
       "-1.0*z1*conjugate(z1) + 0.54"
      ]
     },
     "execution_count": 22,
     "metadata": {},
     "output_type": "execute_result"
    }
   ],
   "source": [
    "d = np.pi/4\n",
    "d=1\n",
    "H = [[d,0], [0,-d]]\n",
    "init_constraints = qubit_simple_constraints((np.sqrt(0.4),np.sqrt(0.6)),(np.sqrt(0.4),np.sqrt(0.6)))\n",
    "unsafe_constraints = qubit_simple_constraints((np.sqrt(0.7),1),(0,np.sqrt(0.3)))\n",
    "\n",
    "barrier = scipy_find_k_barrier(2, H,\n",
    "                               init=init_constraints,\n",
    "                               unsafe=unsafe_constraints,\n",
    "                               linprog_obj=[7],\n",
    "                               verbose=1)\n",
    "barrier"
   ]
  },
  {
   "cell_type": "markdown",
   "id": "a987a079-049a-40c4-bfe3-915a7f43c705",
   "metadata": {
    "tags": []
   },
   "source": [
    "## $e^{-iHt} = CNOT$"
   ]
  },
  {
   "cell_type": "code",
   "execution_count": 11,
   "id": "5734b970-20ab-4f85-962a-709f92d3a858",
   "metadata": {},
   "outputs": [
    {
     "name": "stdout",
     "output_type": "stream",
     "text": [
      "0 [0, 0, 0, 0, 0, 0, 0, 0]\n",
      "1 [0, 0, 0, 0, 0, 0, 0, 1]\n",
      "2 [0, 0, 0, 0, 0, 0, 0, 2]\n",
      "3 [0, 0, 0, 0, 0, 0, 1, 0]\n",
      "4 [0, 0, 0, 0, 0, 0, 1, 1]\n",
      "5 [0, 0, 0, 0, 0, 0, 2, 0]\n",
      "6 [0, 0, 0, 0, 0, 1, 0, 0]\n",
      "7 [0, 0, 0, 0, 0, 1, 0, 1]\n",
      "8 [0, 0, 0, 0, 0, 1, 1, 0]\n",
      "9 [0, 0, 0, 0, 0, 2, 0, 0]\n",
      "10 [0, 0, 0, 0, 1, 0, 0, 0]\n",
      "11 [0, 0, 0, 0, 1, 0, 0, 1]\n",
      "12 [0, 0, 0, 0, 1, 0, 1, 0]\n",
      "13 [0, 0, 0, 0, 1, 1, 0, 0]\n",
      "14 [0, 0, 0, 0, 2, 0, 0, 0]\n",
      "15 [0, 0, 0, 1, 0, 0, 0, 0]\n",
      "16 [0, 0, 0, 1, 0, 0, 0, 1]\n",
      "17 [0, 0, 0, 1, 0, 0, 1, 0]\n",
      "18 [0, 0, 0, 1, 0, 1, 0, 0]\n",
      "19 [0, 0, 0, 1, 1, 0, 0, 0]\n",
      "20 [0, 0, 0, 2, 0, 0, 0, 0]\n",
      "21 [0, 0, 1, 0, 0, 0, 0, 0]\n",
      "22 [0, 0, 1, 0, 0, 0, 0, 1]\n",
      "23 [0, 0, 1, 0, 0, 0, 1, 0]\n",
      "24 [0, 0, 1, 0, 0, 1, 0, 0]\n",
      "25 [0, 0, 1, 0, 1, 0, 0, 0]\n",
      "26 [0, 0, 1, 1, 0, 0, 0, 0]\n",
      "27 [0, 0, 2, 0, 0, 0, 0, 0]\n",
      "28 [0, 1, 0, 0, 0, 0, 0, 0]\n",
      "29 [0, 1, 0, 0, 0, 0, 0, 1]\n",
      "30 [0, 1, 0, 0, 0, 0, 1, 0]\n",
      "31 [0, 1, 0, 0, 0, 1, 0, 0]\n",
      "32 [0, 1, 0, 0, 1, 0, 0, 0]\n",
      "33 [0, 1, 0, 1, 0, 0, 0, 0]\n",
      "34 [0, 1, 1, 0, 0, 0, 0, 0]\n",
      "35 [0, 2, 0, 0, 0, 0, 0, 0]\n",
      "36 [1, 0, 0, 0, 0, 0, 0, 0]\n",
      "37 [1, 0, 0, 0, 0, 0, 0, 1]\n",
      "38 [1, 0, 0, 0, 0, 0, 1, 0]\n",
      "39 [1, 0, 0, 0, 0, 1, 0, 0]\n",
      "40 [1, 0, 0, 0, 1, 0, 0, 0]\n",
      "41 [1, 0, 0, 1, 0, 0, 0, 0]\n",
      "42 [1, 0, 1, 0, 0, 0, 0, 0]\n",
      "43 [1, 1, 0, 0, 0, 0, 0, 0]\n",
      "44 [2, 0, 0, 0, 0, 0, 0, 0]\n"
     ]
    }
   ],
   "source": [
    "z = -1j\n",
    "n = 4\n",
    "k = 2\n",
    "term_powers = generate_term_powers(k, n)\n",
    "for i in range(len(term_powers)):\n",
    "    print(i, term_powers[i])"
   ]
  },
  {
   "cell_type": "code",
   "execution_count": 12,
   "id": "6fc9d4e9-196f-4e52-9f65-177b7f5303fa",
   "metadata": {},
   "outputs": [
    {
     "name": "stdout",
     "output_type": "stream",
     "text": [
      "Converting dynamical system...\n",
      "Dynamical system converted.\n",
      "Finding polynomial...\n",
      "Polynomial found:  -1.0*z0*conjugate(z0) - 1.0*z1*conjugate(z1) - 1.0\n",
      "Finding constant...\n",
      "Checking...\n",
      "Constant found:  1.9\n"
     ]
    },
    {
     "data": {
      "text/latex": [
       "$\\displaystyle - 1.0 z_{0} \\overline{z_{0}} - 1.0 z_{1} \\overline{z_{1}} + 0.9$"
      ],
      "text/plain": [
       "-1.0*z0*conjugate(z0) - 1.0*z1*conjugate(z1) + 0.9"
      ]
     },
     "execution_count": 12,
     "metadata": {},
     "output_type": "execute_result"
    }
   ],
   "source": [
    "H = [[0,0,0,0],[0,0,0,0],[0,0,np.pi/np.sqrt(2),-np.pi/np.sqrt(2)],[0,0,-np.pi/np.sqrt(2),np.pi/np.sqrt(2)]]\n",
    "# H = [[0,0,0,0],[0,0,0,0],[0,0,1,-1],[0,0,-1,1]]\n",
    "# init = near_00_or_01\n",
    "# unsafe = in_1xregion\n",
    "def init(x): return [x[0]**2 + x[1]**2 + x[2]**2 + x[3]**2,\n",
    "                     x[0]**2 + x[1]**2 + x[2]**2 + x[3]**2 + x[4]**2 + x[5]**2 + x[6]**2 + x[7]**2]\n",
    "init_constraints = [NonlinearConstraint(init, [0.9, 1], [1, 1])]\n",
    "\n",
    "def unsafe(x): return [x[4]**2 + x[5]**2 + x[6]**2 + x[7]**2,\n",
    "                     x[0]**2 + x[1]**2 + x[2]**2 + x[3]**2 + x[4]**2 + x[5]**2 + x[6]**2 + x[7]**2]\n",
    "unsafe_constraints= [NonlinearConstraint(unsafe, [.5,1], [1,1])]\n",
    "\n",
    "b_cnot = scipy_find_k_barrier(2, H,\n",
    "                              init=init_constraints,\n",
    "                              unsafe=unsafe_constraints,\n",
    "                              linprog_obj=[0,40,31],\n",
    "                              verbose=1)\n",
    "b_cnot"
   ]
  },
  {
   "cell_type": "code",
   "execution_count": 13,
   "id": "6fc32aed-7db2-4259-ba35-b40d614d4ae8",
   "metadata": {},
   "outputs": [
    {
     "name": "stdout",
     "output_type": "stream",
     "text": [
      "Converting dynamical system...\n",
      "Dynamical system converted.\n",
      "Finding polynomial...\n",
      "Polynomial found:  -1.0*z2*conjugate(z2) - 1.0*z3*conjugate(z3) - 1.0\n",
      "Finding constant...\n",
      "Checking...\n",
      "Constant found:  1.9\n"
     ]
    },
    {
     "data": {
      "text/latex": [
       "$\\displaystyle - 1.0 z_{2} \\overline{z_{2}} - 1.0 z_{3} \\overline{z_{3}} + 0.9$"
      ],
      "text/plain": [
       "-1.0*z2*conjugate(z2) - 1.0*z3*conjugate(z3) + 0.9"
      ]
     },
     "execution_count": 13,
     "metadata": {},
     "output_type": "execute_result"
    }
   ],
   "source": [
    "H = [[0,0,0,0],[0,0,0,0],[0,0,np.pi/np.sqrt(2),-np.pi/np.sqrt(2)],[0,0,-np.pi/np.sqrt(2),np.pi/np.sqrt(2)]]\n",
    "# H = [[0,0,0,0],[0,0,0,0],[0,0,1,-1],[0,0,-1,1]]\n",
    "# For CNOT\n",
    "# c[16] = 1\n",
    "# c[23] = 1\n",
    "# c[-14] = 1\n",
    "# c[-5] = 1\n",
    "\n",
    "# init = near_10\n",
    "# unsafe = in_0region\n",
    "def init(x): return [x[0]**2 + x[1]**2,\n",
    "                     x[2]**2 + x[3]**2,\n",
    "                     x[4]**2 + x[5]**2,\n",
    "                     x[6]**2 + x[7]**2,\n",
    "                     x[0]**2 + x[1]**2 + x[2]**2 + x[3]**2 + x[4]**2 + x[5]**2 + x[6]**2 + x[7]**2]\n",
    "init_constraints = [NonlinearConstraint(init, [0, 0, 0.81, 0, 1], [0.09, 0.01, 1, 0.09, 1])]\n",
    "\n",
    "def unsafe(x): return [x[0]**2 + x[1]**2 + x[2]**2 + x[3]**2,\n",
    "                     x[4]**2 + x[5]**2 + x[6]**2 + x[7]**2,\n",
    "                     x[0]**2 + x[1]**2 + x[2]**2 + x[3]**2 + x[4]**2 + x[5]**2 + x[6]**2 + x[7]**2]\n",
    "unsafe_constraints= [NonlinearConstraint(unsafe, [.5,0,1], [1,.5,1])]\n",
    "\n",
    "b_cnot = scipy_find_k_barrier(2, H,\n",
    "                              init=init_constraints,\n",
    "                              unsafe=unsafe_constraints,\n",
    "                              linprog_obj=[0,16,23],\n",
    "                              verbose=1)\n",
    "b_cnot"
   ]
  },
  {
   "cell_type": "markdown",
   "id": "56f9a578-adcc-449e-837c-931c3464e236",
   "metadata": {},
   "source": [
    "Barrier found:\n",
    "$\n",
    "\\displaystyle - 1.0 z_{2} \\overline{z_{2}} - 1.0 z_{3} \\overline{z_{3}} + 0.9\n",
    "$"
   ]
  },
  {
   "cell_type": "markdown",
   "id": "02615b2d-3d8e-44bb-a5e7-74aa69c12ca6",
   "metadata": {},
   "source": [
    "## Never make a barrier"
   ]
  },
  {
   "cell_type": "code",
   "execution_count": 14,
   "id": "0818d45b-8a97-4c75-8f6b-d096fefe9e84",
   "metadata": {},
   "outputs": [
    {
     "name": "stdout",
     "output_type": "stream",
     "text": [
      "Converting dynamical system...\n",
      "Dynamical system converted.\n",
      "Finding polynomial...\n",
      "Polynomial found:  -1.0*z2*conjugate(z2) - 1.0*z3*conjugate(z3)\n",
      "Finding constant...\n",
      "Checking...\n",
      "Cannot find barrier\n"
     ]
    }
   ],
   "source": [
    "H = [[0,0,0,0],[0,0,0,0],[0,0,np.pi/np.sqrt(2),-np.pi/np.sqrt(2)],[0,0,-np.pi/np.sqrt(2),np.pi/np.sqrt(2)]]\n",
    "\n",
    "# init = near_10\n",
    "# unsafe = near_11\n",
    "def init(x): return [x[0]**2 + x[1]**2,\n",
    "                     x[2]**2 + x[3]**2,\n",
    "                     x[4]**2 + x[5]**2,\n",
    "                     x[6]**2 + x[7]**2,\n",
    "                     x[0]**2 + x[1]**2 + x[2]**2 + x[3]**2 + x[4]**2 + x[5]**2 + x[6]**2 + x[7]**2]\n",
    "init_constraints = [NonlinearConstraint(init, [0, 0, 0.81, 0, 1], [0.09, 0.01, 1, 0.09, 1])]\n",
    "\n",
    "def unsafe(x): return [x[6]**2 + x[7]**2,\n",
    "                     x[0]**2 + x[1]**2 + x[2]**2 + x[3]**2 + x[4]**2 + x[5]**2 + x[6]**2 + x[7]**2]\n",
    "unsafe_constraints= [NonlinearConstraint(unsafe, [0.5,1], [1,1])]\n",
    "\n",
    "try:\n",
    "    b_cnot = scipy_find_k_barrier(2, H,\n",
    "                                  init=init_constraints,\n",
    "                                  unsafe=unsafe_constraints,\n",
    "                                  linprog_obj=[16,23],\n",
    "                                  verbose=1)\n",
    "    print(b_cnot)\n",
    "except:\n",
    "    print(\"Cannot find barrier\")"
   ]
  },
  {
   "cell_type": "markdown",
   "id": "c262a46f-9464-42a1-9983-cafad6682696",
   "metadata": {
    "tags": []
   },
   "source": [
    "## Slightly Disturbed System\n",
    "See https://journals.aps.org/pra/pdf/10.1103/PhysRevA.69.052325"
   ]
  },
  {
   "cell_type": "code",
   "execution_count": 15,
   "id": "97180511-0fa4-4502-8380-600c072343e8",
   "metadata": {},
   "outputs": [
    {
     "name": "stdout",
     "output_type": "stream",
     "text": [
      "Converting dynamical system...\n",
      "Dynamical system converted.\n",
      "Finding polynomial...\n",
      "Polynomial found:  -0.58*z1*conjugate(z1) - 1.0*z2*conjugate(z2) + 0.42*z2*conjugate(z3) + 0.42*z3*conjugate(z2) - 1.0*z3*conjugate(z3)\n",
      "Finding constant...\n"
     ]
    },
    {
     "ename": "KeyboardInterrupt",
     "evalue": "",
     "output_type": "error",
     "traceback": [
      "\u001b[0;31m---------------------------------------------------------------------------\u001b[0m",
      "\u001b[0;31mKeyError\u001b[0m                                  Traceback (most recent call last)",
      "File \u001b[0;32m~/anaconda3/envs/barrier_certs_quantum/lib/python3.10/site-packages/sympy/core/assumptions.py:479\u001b[0m, in \u001b[0;36mmake_property.<locals>.getit\u001b[0;34m(self)\u001b[0m\n\u001b[1;32m    478\u001b[0m \u001b[38;5;28;01mtry\u001b[39;00m:\n\u001b[0;32m--> 479\u001b[0m     \u001b[38;5;28;01mreturn\u001b[39;00m \u001b[38;5;28;43mself\u001b[39;49m\u001b[38;5;241;43m.\u001b[39;49m\u001b[43m_assumptions\u001b[49m\u001b[43m[\u001b[49m\u001b[43mfact\u001b[49m\u001b[43m]\u001b[49m\n\u001b[1;32m    480\u001b[0m \u001b[38;5;28;01mexcept\u001b[39;00m \u001b[38;5;167;01mKeyError\u001b[39;00m:\n",
      "\u001b[0;31mKeyError\u001b[0m: 'extended_real'",
      "\nDuring handling of the above exception, another exception occurred:\n",
      "\u001b[0;31mKeyError\u001b[0m                                  Traceback (most recent call last)",
      "File \u001b[0;32m~/anaconda3/envs/barrier_certs_quantum/lib/python3.10/site-packages/sympy/core/assumptions.py:479\u001b[0m, in \u001b[0;36mmake_property.<locals>.getit\u001b[0;34m(self)\u001b[0m\n\u001b[1;32m    478\u001b[0m \u001b[38;5;28;01mtry\u001b[39;00m:\n\u001b[0;32m--> 479\u001b[0m     \u001b[38;5;28;01mreturn\u001b[39;00m \u001b[38;5;28;43mself\u001b[39;49m\u001b[38;5;241;43m.\u001b[39;49m\u001b[43m_assumptions\u001b[49m\u001b[43m[\u001b[49m\u001b[43mfact\u001b[49m\u001b[43m]\u001b[49m\n\u001b[1;32m    480\u001b[0m \u001b[38;5;28;01mexcept\u001b[39;00m \u001b[38;5;167;01mKeyError\u001b[39;00m:\n",
      "\u001b[0;31mKeyError\u001b[0m: 'extended_real'",
      "\nDuring handling of the above exception, another exception occurred:\n",
      "\u001b[0;31mKeyboardInterrupt\u001b[0m                         Traceback (most recent call last)",
      "Input \u001b[0;32mIn [15]\u001b[0m, in \u001b[0;36m<cell line: 22>\u001b[0;34m()\u001b[0m\n\u001b[1;32m     17\u001b[0m \u001b[38;5;28;01mdef\u001b[39;00m \u001b[38;5;21munsafe\u001b[39m(x): \u001b[38;5;28;01mreturn\u001b[39;00m [x[\u001b[38;5;241m0\u001b[39m]\u001b[38;5;241m*\u001b[39m\u001b[38;5;241m*\u001b[39m\u001b[38;5;241m2\u001b[39m \u001b[38;5;241m+\u001b[39m x[\u001b[38;5;241m1\u001b[39m]\u001b[38;5;241m*\u001b[39m\u001b[38;5;241m*\u001b[39m\u001b[38;5;241m2\u001b[39m \u001b[38;5;241m+\u001b[39m x[\u001b[38;5;241m2\u001b[39m]\u001b[38;5;241m*\u001b[39m\u001b[38;5;241m*\u001b[39m\u001b[38;5;241m2\u001b[39m \u001b[38;5;241m+\u001b[39m x[\u001b[38;5;241m3\u001b[39m]\u001b[38;5;241m*\u001b[39m\u001b[38;5;241m*\u001b[39m\u001b[38;5;241m2\u001b[39m,\n\u001b[1;32m     18\u001b[0m                      x[\u001b[38;5;241m4\u001b[39m]\u001b[38;5;241m*\u001b[39m\u001b[38;5;241m*\u001b[39m\u001b[38;5;241m2\u001b[39m \u001b[38;5;241m+\u001b[39m x[\u001b[38;5;241m5\u001b[39m]\u001b[38;5;241m*\u001b[39m\u001b[38;5;241m*\u001b[39m\u001b[38;5;241m2\u001b[39m \u001b[38;5;241m+\u001b[39m x[\u001b[38;5;241m6\u001b[39m]\u001b[38;5;241m*\u001b[39m\u001b[38;5;241m*\u001b[39m\u001b[38;5;241m2\u001b[39m \u001b[38;5;241m+\u001b[39m x[\u001b[38;5;241m7\u001b[39m]\u001b[38;5;241m*\u001b[39m\u001b[38;5;241m*\u001b[39m\u001b[38;5;241m2\u001b[39m,\n\u001b[1;32m     19\u001b[0m                      x[\u001b[38;5;241m0\u001b[39m]\u001b[38;5;241m*\u001b[39m\u001b[38;5;241m*\u001b[39m\u001b[38;5;241m2\u001b[39m \u001b[38;5;241m+\u001b[39m x[\u001b[38;5;241m1\u001b[39m]\u001b[38;5;241m*\u001b[39m\u001b[38;5;241m*\u001b[39m\u001b[38;5;241m2\u001b[39m \u001b[38;5;241m+\u001b[39m x[\u001b[38;5;241m2\u001b[39m]\u001b[38;5;241m*\u001b[39m\u001b[38;5;241m*\u001b[39m\u001b[38;5;241m2\u001b[39m \u001b[38;5;241m+\u001b[39m x[\u001b[38;5;241m3\u001b[39m]\u001b[38;5;241m*\u001b[39m\u001b[38;5;241m*\u001b[39m\u001b[38;5;241m2\u001b[39m \u001b[38;5;241m+\u001b[39m x[\u001b[38;5;241m4\u001b[39m]\u001b[38;5;241m*\u001b[39m\u001b[38;5;241m*\u001b[39m\u001b[38;5;241m2\u001b[39m \u001b[38;5;241m+\u001b[39m x[\u001b[38;5;241m5\u001b[39m]\u001b[38;5;241m*\u001b[39m\u001b[38;5;241m*\u001b[39m\u001b[38;5;241m2\u001b[39m \u001b[38;5;241m+\u001b[39m x[\u001b[38;5;241m6\u001b[39m]\u001b[38;5;241m*\u001b[39m\u001b[38;5;241m*\u001b[39m\u001b[38;5;241m2\u001b[39m \u001b[38;5;241m+\u001b[39m x[\u001b[38;5;241m7\u001b[39m]\u001b[38;5;241m*\u001b[39m\u001b[38;5;241m*\u001b[39m\u001b[38;5;241m2\u001b[39m]\n\u001b[1;32m     20\u001b[0m unsafe_constraints\u001b[38;5;241m=\u001b[39m [NonlinearConstraint(unsafe, [\u001b[38;5;241m.5\u001b[39m,\u001b[38;5;241m0\u001b[39m,\u001b[38;5;241m1\u001b[39m], [\u001b[38;5;241m1\u001b[39m,\u001b[38;5;241m.5\u001b[39m,\u001b[38;5;241m1\u001b[39m])]\n\u001b[0;32m---> 22\u001b[0m b_ctop \u001b[38;5;241m=\u001b[39m \u001b[43mscipy_find_k_barrier\u001b[49m\u001b[43m(\u001b[49m\u001b[38;5;241;43m2\u001b[39;49m\u001b[43m,\u001b[49m\u001b[43m \u001b[49m\u001b[43mH\u001b[49m\u001b[43m,\u001b[49m\n\u001b[1;32m     23\u001b[0m \u001b[43m                              \u001b[49m\u001b[43minit\u001b[49m\u001b[38;5;241;43m=\u001b[39;49m\u001b[43minit_constraints\u001b[49m\u001b[43m,\u001b[49m\n\u001b[1;32m     24\u001b[0m \u001b[43m                              \u001b[49m\u001b[43munsafe\u001b[49m\u001b[38;5;241;43m=\u001b[39;49m\u001b[43munsafe_constraints\u001b[49m\u001b[43m,\u001b[49m\n\u001b[1;32m     25\u001b[0m \u001b[43m                              \u001b[49m\u001b[43mlinprog_obj\u001b[49m\u001b[38;5;241;43m=\u001b[39;49m\u001b[43m[\u001b[49m\u001b[38;5;241;43m16\u001b[39;49m\u001b[43m,\u001b[49m\u001b[38;5;241;43m23\u001b[39;49m\u001b[43m,\u001b[49m\u001b[38;5;241;43m37\u001b[39;49m\u001b[43m]\u001b[49m\u001b[43m,\u001b[49m\n\u001b[1;32m     26\u001b[0m \u001b[43m                              \u001b[49m\u001b[38;5;66;43;03m# linprog_obj=[71,130],\u001b[39;49;00m\n\u001b[1;32m     27\u001b[0m \u001b[43m                              \u001b[49m\u001b[43mverbose\u001b[49m\u001b[38;5;241;43m=\u001b[39;49m\u001b[38;5;241;43m1\u001b[39;49m\u001b[43m)\u001b[49m\n\u001b[1;32m     28\u001b[0m b_ctop\n",
      "Input \u001b[0;32mIn [5]\u001b[0m, in \u001b[0;36mscipy_find_k_barrier\u001b[0;34m(k, H, init, unsafe, linprog_obj, prec, verbose)\u001b[0m\n\u001b[1;32m     27\u001b[0m \u001b[38;5;28;01mif\u001b[39;00m verbose: \u001b[38;5;28mprint\u001b[39m(\u001b[38;5;124m\"\u001b[39m\u001b[38;5;124mPolynomial found: \u001b[39m\u001b[38;5;124m\"\u001b[39m, b)\n\u001b[1;32m     29\u001b[0m \u001b[38;5;28;01mif\u001b[39;00m verbose: \u001b[38;5;28mprint\u001b[39m(\u001b[38;5;124m\"\u001b[39m\u001b[38;5;124mFinding constant...\u001b[39m\u001b[38;5;124m\"\u001b[39m)\n\u001b[0;32m---> 30\u001b[0m c \u001b[38;5;241m=\u001b[39m \u001b[43mscipy_find_constant\u001b[49m\u001b[43m(\u001b[49m\u001b[43mb\u001b[49m\u001b[43m,\u001b[49m\u001b[43m \u001b[49m\u001b[43mn\u001b[49m\u001b[43m,\u001b[49m\u001b[43m \u001b[49m\u001b[43minit\u001b[49m\u001b[38;5;241;43m=\u001b[39;49m\u001b[43minit\u001b[49m\u001b[43m)\u001b[49m\n\u001b[1;32m     31\u001b[0m \u001b[38;5;28;01mif\u001b[39;00m verbose: \u001b[38;5;28mprint\u001b[39m(\u001b[38;5;124m\"\u001b[39m\u001b[38;5;124mChecking...\u001b[39m\u001b[38;5;124m\"\u001b[39m)\n\u001b[1;32m     32\u001b[0m scipy_check_constant(c, b, n, unsafe\u001b[38;5;241m=\u001b[39munsafe)\n",
      "Input \u001b[0;32mIn [3]\u001b[0m, in \u001b[0;36mscipy_find_constant\u001b[0;34m(barrier_sym, states, init, prec)\u001b[0m\n\u001b[1;32m     12\u001b[0m bounds \u001b[38;5;241m=\u001b[39m Bounds([\u001b[38;5;241m-\u001b[39m\u001b[38;5;241m1\u001b[39m]\u001b[38;5;241m*\u001b[39m\u001b[38;5;241m2\u001b[39m\u001b[38;5;241m*\u001b[39mstates, [\u001b[38;5;241m1\u001b[39m]\u001b[38;5;241m*\u001b[39m\u001b[38;5;241m2\u001b[39m\u001b[38;5;241m*\u001b[39mstates)\n\u001b[1;32m     13\u001b[0m guess \u001b[38;5;241m=\u001b[39m [\u001b[38;5;241m0\u001b[39m]\u001b[38;5;241m*\u001b[39m\u001b[38;5;241m2\u001b[39m\u001b[38;5;241m*\u001b[39mstates\n\u001b[0;32m---> 15\u001b[0m res \u001b[38;5;241m=\u001b[39m \u001b[43mminimize\u001b[49m\u001b[43m(\u001b[49m\u001b[43mobj\u001b[49m\u001b[43m,\u001b[49m\n\u001b[1;32m     16\u001b[0m \u001b[43m               \u001b[49m\u001b[43mguess\u001b[49m\u001b[43m,\u001b[49m\n\u001b[1;32m     17\u001b[0m \u001b[43m               \u001b[49m\u001b[43mmethod\u001b[49m\u001b[38;5;241;43m=\u001b[39;49m\u001b[38;5;124;43m'\u001b[39;49m\u001b[38;5;124;43mtrust-constr\u001b[39;49m\u001b[38;5;124;43m'\u001b[39;49m\u001b[43m,\u001b[49m\n\u001b[1;32m     18\u001b[0m \u001b[43m               \u001b[49m\u001b[43mconstraints\u001b[49m\u001b[38;5;241;43m=\u001b[39;49m\u001b[43minit\u001b[49m\u001b[43m,\u001b[49m\n\u001b[1;32m     19\u001b[0m \u001b[43m               \u001b[49m\u001b[43moptions\u001b[49m\u001b[38;5;241;43m=\u001b[39;49m\u001b[43m{\u001b[49m\u001b[38;5;124;43m'\u001b[39;49m\u001b[38;5;124;43mverbose\u001b[39;49m\u001b[38;5;124;43m'\u001b[39;49m\u001b[43m:\u001b[49m\u001b[43m \u001b[49m\u001b[38;5;241;43m0\u001b[39;49m\u001b[43m}\u001b[49m\u001b[43m,\u001b[49m\n\u001b[1;32m     20\u001b[0m \u001b[43m               \u001b[49m\u001b[43mbounds\u001b[49m\u001b[38;5;241;43m=\u001b[39;49m\u001b[43mbounds\u001b[49m\u001b[43m,\u001b[49m\n\u001b[1;32m     21\u001b[0m \u001b[43m               \u001b[49m\u001b[43mhess\u001b[49m\u001b[38;5;241;43m=\u001b[39;49m\u001b[38;5;28;43;01mlambda\u001b[39;49;00m\u001b[43m \u001b[49m\u001b[43mx\u001b[49m\u001b[43m:\u001b[49m\u001b[43m \u001b[49m\u001b[43mnp\u001b[49m\u001b[38;5;241;43m.\u001b[39;49m\u001b[43mzeros\u001b[49m\u001b[43m(\u001b[49m\u001b[43m(\u001b[49m\u001b[38;5;241;43m2\u001b[39;49m\u001b[38;5;241;43m*\u001b[39;49m\u001b[43mstates\u001b[49m\u001b[43m,\u001b[49m\u001b[43m)\u001b[49m\u001b[43m)\u001b[49m\n\u001b[1;32m     22\u001b[0m \u001b[43m              \u001b[49m\u001b[43m)\u001b[49m\n\u001b[1;32m     23\u001b[0m minimum \u001b[38;5;241m=\u001b[39m \u001b[38;5;28mround\u001b[39m(res\u001b[38;5;241m.\u001b[39mfun, prec)\n\u001b[1;32m     24\u001b[0m \u001b[38;5;28;01mreturn\u001b[39;00m minimum\n",
      "File \u001b[0;32m~/anaconda3/envs/barrier_certs_quantum/lib/python3.10/site-packages/scipy/optimize/_minimize.py:704\u001b[0m, in \u001b[0;36mminimize\u001b[0;34m(fun, x0, args, method, jac, hess, hessp, bounds, constraints, tol, callback, options)\u001b[0m\n\u001b[1;32m    701\u001b[0m     res \u001b[38;5;241m=\u001b[39m _minimize_slsqp(fun, x0, args, jac, bounds,\n\u001b[1;32m    702\u001b[0m                           constraints, callback\u001b[38;5;241m=\u001b[39mcallback, \u001b[38;5;241m*\u001b[39m\u001b[38;5;241m*\u001b[39moptions)\n\u001b[1;32m    703\u001b[0m \u001b[38;5;28;01melif\u001b[39;00m meth \u001b[38;5;241m==\u001b[39m \u001b[38;5;124m'\u001b[39m\u001b[38;5;124mtrust-constr\u001b[39m\u001b[38;5;124m'\u001b[39m:\n\u001b[0;32m--> 704\u001b[0m     res \u001b[38;5;241m=\u001b[39m \u001b[43m_minimize_trustregion_constr\u001b[49m\u001b[43m(\u001b[49m\u001b[43mfun\u001b[49m\u001b[43m,\u001b[49m\u001b[43m \u001b[49m\u001b[43mx0\u001b[49m\u001b[43m,\u001b[49m\u001b[43m \u001b[49m\u001b[43margs\u001b[49m\u001b[43m,\u001b[49m\u001b[43m \u001b[49m\u001b[43mjac\u001b[49m\u001b[43m,\u001b[49m\u001b[43m \u001b[49m\u001b[43mhess\u001b[49m\u001b[43m,\u001b[49m\u001b[43m \u001b[49m\u001b[43mhessp\u001b[49m\u001b[43m,\u001b[49m\n\u001b[1;32m    705\u001b[0m \u001b[43m                                       \u001b[49m\u001b[43mbounds\u001b[49m\u001b[43m,\u001b[49m\u001b[43m \u001b[49m\u001b[43mconstraints\u001b[49m\u001b[43m,\u001b[49m\n\u001b[1;32m    706\u001b[0m \u001b[43m                                       \u001b[49m\u001b[43mcallback\u001b[49m\u001b[38;5;241;43m=\u001b[39;49m\u001b[43mcallback\u001b[49m\u001b[43m,\u001b[49m\u001b[43m \u001b[49m\u001b[38;5;241;43m*\u001b[39;49m\u001b[38;5;241;43m*\u001b[39;49m\u001b[43moptions\u001b[49m\u001b[43m)\u001b[49m\n\u001b[1;32m    707\u001b[0m \u001b[38;5;28;01melif\u001b[39;00m meth \u001b[38;5;241m==\u001b[39m \u001b[38;5;124m'\u001b[39m\u001b[38;5;124mdogleg\u001b[39m\u001b[38;5;124m'\u001b[39m:\n\u001b[1;32m    708\u001b[0m     res \u001b[38;5;241m=\u001b[39m _minimize_dogleg(fun, x0, args, jac, hess,\n\u001b[1;32m    709\u001b[0m                            callback\u001b[38;5;241m=\u001b[39mcallback, \u001b[38;5;241m*\u001b[39m\u001b[38;5;241m*\u001b[39moptions)\n",
      "File \u001b[0;32m~/anaconda3/envs/barrier_certs_quantum/lib/python3.10/site-packages/scipy/optimize/_trustregion_constr/minimize_trustregion_constr.py:509\u001b[0m, in \u001b[0;36m_minimize_trustregion_constr\u001b[0;34m(fun, x0, args, grad, hess, hessp, bounds, constraints, xtol, gtol, barrier_tol, sparse_jacobian, callback, maxiter, verbose, finite_diff_rel_step, initial_constr_penalty, initial_tr_radius, initial_barrier_parameter, initial_barrier_tolerance, factorization_method, disp)\u001b[0m\n\u001b[1;32m    500\u001b[0m     _, result \u001b[38;5;241m=\u001b[39m equality_constrained_sqp(\n\u001b[1;32m    501\u001b[0m         fun_and_constr, grad_and_jac, lagrangian_hess,\n\u001b[1;32m    502\u001b[0m         x0, objective\u001b[38;5;241m.\u001b[39mf, objective\u001b[38;5;241m.\u001b[39mg,\n\u001b[0;32m   (...)\u001b[0m\n\u001b[1;32m    505\u001b[0m         initial_constr_penalty, initial_tr_radius,\n\u001b[1;32m    506\u001b[0m         factorization_method)\n\u001b[1;32m    508\u001b[0m \u001b[38;5;28;01melif\u001b[39;00m method \u001b[38;5;241m==\u001b[39m \u001b[38;5;124m'\u001b[39m\u001b[38;5;124mtr_interior_point\u001b[39m\u001b[38;5;124m'\u001b[39m:\n\u001b[0;32m--> 509\u001b[0m     _, result \u001b[38;5;241m=\u001b[39m \u001b[43mtr_interior_point\u001b[49m\u001b[43m(\u001b[49m\n\u001b[1;32m    510\u001b[0m \u001b[43m        \u001b[49m\u001b[43mobjective\u001b[49m\u001b[38;5;241;43m.\u001b[39;49m\u001b[43mfun\u001b[49m\u001b[43m,\u001b[49m\u001b[43m \u001b[49m\u001b[43mobjective\u001b[49m\u001b[38;5;241;43m.\u001b[39;49m\u001b[43mgrad\u001b[49m\u001b[43m,\u001b[49m\u001b[43m \u001b[49m\u001b[43mlagrangian_hess\u001b[49m\u001b[43m,\u001b[49m\n\u001b[1;32m    511\u001b[0m \u001b[43m        \u001b[49m\u001b[43mn_vars\u001b[49m\u001b[43m,\u001b[49m\u001b[43m \u001b[49m\u001b[43mcanonical\u001b[49m\u001b[38;5;241;43m.\u001b[39;49m\u001b[43mn_ineq\u001b[49m\u001b[43m,\u001b[49m\u001b[43m \u001b[49m\u001b[43mcanonical\u001b[49m\u001b[38;5;241;43m.\u001b[39;49m\u001b[43mn_eq\u001b[49m\u001b[43m,\u001b[49m\n\u001b[1;32m    512\u001b[0m \u001b[43m        \u001b[49m\u001b[43mcanonical\u001b[49m\u001b[38;5;241;43m.\u001b[39;49m\u001b[43mfun\u001b[49m\u001b[43m,\u001b[49m\u001b[43m \u001b[49m\u001b[43mcanonical\u001b[49m\u001b[38;5;241;43m.\u001b[39;49m\u001b[43mjac\u001b[49m\u001b[43m,\u001b[49m\n\u001b[1;32m    513\u001b[0m \u001b[43m        \u001b[49m\u001b[43mx0\u001b[49m\u001b[43m,\u001b[49m\u001b[43m \u001b[49m\u001b[43mobjective\u001b[49m\u001b[38;5;241;43m.\u001b[39;49m\u001b[43mf\u001b[49m\u001b[43m,\u001b[49m\u001b[43m \u001b[49m\u001b[43mobjective\u001b[49m\u001b[38;5;241;43m.\u001b[39;49m\u001b[43mg\u001b[49m\u001b[43m,\u001b[49m\n\u001b[1;32m    514\u001b[0m \u001b[43m        \u001b[49m\u001b[43mc_ineq0\u001b[49m\u001b[43m,\u001b[49m\u001b[43m \u001b[49m\u001b[43mJ_ineq0\u001b[49m\u001b[43m,\u001b[49m\u001b[43m \u001b[49m\u001b[43mc_eq0\u001b[49m\u001b[43m,\u001b[49m\u001b[43m \u001b[49m\u001b[43mJ_eq0\u001b[49m\u001b[43m,\u001b[49m\n\u001b[1;32m    515\u001b[0m \u001b[43m        \u001b[49m\u001b[43mstop_criteria\u001b[49m\u001b[43m,\u001b[49m\n\u001b[1;32m    516\u001b[0m \u001b[43m        \u001b[49m\u001b[43mcanonical\u001b[49m\u001b[38;5;241;43m.\u001b[39;49m\u001b[43mkeep_feasible\u001b[49m\u001b[43m,\u001b[49m\n\u001b[1;32m    517\u001b[0m \u001b[43m        \u001b[49m\u001b[43mxtol\u001b[49m\u001b[43m,\u001b[49m\u001b[43m \u001b[49m\u001b[43mstate\u001b[49m\u001b[43m,\u001b[49m\u001b[43m \u001b[49m\u001b[43minitial_barrier_parameter\u001b[49m\u001b[43m,\u001b[49m\n\u001b[1;32m    518\u001b[0m \u001b[43m        \u001b[49m\u001b[43minitial_barrier_tolerance\u001b[49m\u001b[43m,\u001b[49m\n\u001b[1;32m    519\u001b[0m \u001b[43m        \u001b[49m\u001b[43minitial_constr_penalty\u001b[49m\u001b[43m,\u001b[49m\u001b[43m \u001b[49m\u001b[43minitial_tr_radius\u001b[49m\u001b[43m,\u001b[49m\n\u001b[1;32m    520\u001b[0m \u001b[43m        \u001b[49m\u001b[43mfactorization_method\u001b[49m\u001b[43m)\u001b[49m\n\u001b[1;32m    522\u001b[0m \u001b[38;5;66;03m# Status 3 occurs when the callback function requests termination,\u001b[39;00m\n\u001b[1;32m    523\u001b[0m \u001b[38;5;66;03m# this is assumed to not be a success.\u001b[39;00m\n\u001b[1;32m    524\u001b[0m result\u001b[38;5;241m.\u001b[39msuccess \u001b[38;5;241m=\u001b[39m \u001b[38;5;28;01mTrue\u001b[39;00m \u001b[38;5;28;01mif\u001b[39;00m result\u001b[38;5;241m.\u001b[39mstatus \u001b[38;5;129;01min\u001b[39;00m (\u001b[38;5;241m1\u001b[39m, \u001b[38;5;241m2\u001b[39m) \u001b[38;5;28;01melse\u001b[39;00m \u001b[38;5;28;01mFalse\u001b[39;00m\n",
      "File \u001b[0;32m~/anaconda3/envs/barrier_certs_quantum/lib/python3.10/site-packages/scipy/optimize/_trustregion_constr/tr_interior_point.py:321\u001b[0m, in \u001b[0;36mtr_interior_point\u001b[0;34m(fun, grad, lagr_hess, n_vars, n_ineq, n_eq, constr, jac, x0, fun0, grad0, constr_ineq0, jac_ineq0, constr_eq0, jac_eq0, stop_criteria, enforce_feasibility, xtol, state, initial_barrier_parameter, initial_tolerance, initial_penalty, initial_trust_radius, factorization_method)\u001b[0m\n\u001b[1;32m    318\u001b[0m \u001b[38;5;66;03m# Solves a sequence of barrier problems\u001b[39;00m\n\u001b[1;32m    319\u001b[0m \u001b[38;5;28;01mwhile\u001b[39;00m \u001b[38;5;28;01mTrue\u001b[39;00m:\n\u001b[1;32m    320\u001b[0m     \u001b[38;5;66;03m# Solve SQP subproblem\u001b[39;00m\n\u001b[0;32m--> 321\u001b[0m     z, state \u001b[38;5;241m=\u001b[39m \u001b[43mequality_constrained_sqp\u001b[49m\u001b[43m(\u001b[49m\n\u001b[1;32m    322\u001b[0m \u001b[43m        \u001b[49m\u001b[43msubprob\u001b[49m\u001b[38;5;241;43m.\u001b[39;49m\u001b[43mfunction_and_constraints\u001b[49m\u001b[43m,\u001b[49m\n\u001b[1;32m    323\u001b[0m \u001b[43m        \u001b[49m\u001b[43msubprob\u001b[49m\u001b[38;5;241;43m.\u001b[39;49m\u001b[43mgradient_and_jacobian\u001b[49m\u001b[43m,\u001b[49m\n\u001b[1;32m    324\u001b[0m \u001b[43m        \u001b[49m\u001b[43msubprob\u001b[49m\u001b[38;5;241;43m.\u001b[39;49m\u001b[43mlagrangian_hessian\u001b[49m\u001b[43m,\u001b[49m\n\u001b[1;32m    325\u001b[0m \u001b[43m        \u001b[49m\u001b[43mz\u001b[49m\u001b[43m,\u001b[49m\u001b[43m \u001b[49m\u001b[43mfun0_subprob\u001b[49m\u001b[43m,\u001b[49m\u001b[43m \u001b[49m\u001b[43mgrad0_subprob\u001b[49m\u001b[43m,\u001b[49m\n\u001b[1;32m    326\u001b[0m \u001b[43m        \u001b[49m\u001b[43mconstr0_subprob\u001b[49m\u001b[43m,\u001b[49m\u001b[43m \u001b[49m\u001b[43mjac0_subprob\u001b[49m\u001b[43m,\u001b[49m\u001b[43m \u001b[49m\u001b[43msubprob\u001b[49m\u001b[38;5;241;43m.\u001b[39;49m\u001b[43mstop_criteria\u001b[49m\u001b[43m,\u001b[49m\n\u001b[1;32m    327\u001b[0m \u001b[43m        \u001b[49m\u001b[43mstate\u001b[49m\u001b[43m,\u001b[49m\u001b[43m \u001b[49m\u001b[43minitial_penalty\u001b[49m\u001b[43m,\u001b[49m\u001b[43m \u001b[49m\u001b[43mtrust_radius\u001b[49m\u001b[43m,\u001b[49m\n\u001b[1;32m    328\u001b[0m \u001b[43m        \u001b[49m\u001b[43mfactorization_method\u001b[49m\u001b[43m,\u001b[49m\u001b[43m \u001b[49m\u001b[43mtrust_lb\u001b[49m\u001b[43m,\u001b[49m\u001b[43m \u001b[49m\u001b[43mtrust_ub\u001b[49m\u001b[43m,\u001b[49m\u001b[43m \u001b[49m\u001b[43msubprob\u001b[49m\u001b[38;5;241;43m.\u001b[39;49m\u001b[43mscaling\u001b[49m\u001b[43m)\u001b[49m\n\u001b[1;32m    329\u001b[0m     \u001b[38;5;28;01mif\u001b[39;00m subprob\u001b[38;5;241m.\u001b[39mterminate:\n\u001b[1;32m    330\u001b[0m         \u001b[38;5;28;01mbreak\u001b[39;00m\n",
      "File \u001b[0;32m~/anaconda3/envs/barrier_certs_quantum/lib/python3.10/site-packages/scipy/optimize/_trustregion_constr/equality_constrained_sqp.py:200\u001b[0m, in \u001b[0;36mequality_constrained_sqp\u001b[0;34m(fun_and_constr, grad_and_jac, lagr_hess, x0, fun0, grad0, constr0, jac0, stop_criteria, state, initial_penalty, initial_trust_radius, factorization_method, trust_lb, trust_ub, scaling)\u001b[0m\n\u001b[1;32m    198\u001b[0m x \u001b[38;5;241m=\u001b[39m x_next\n\u001b[1;32m    199\u001b[0m f, b \u001b[38;5;241m=\u001b[39m f_next, b_next\n\u001b[0;32m--> 200\u001b[0m c, A \u001b[38;5;241m=\u001b[39m \u001b[43mgrad_and_jac\u001b[49m\u001b[43m(\u001b[49m\u001b[43mx\u001b[49m\u001b[43m)\u001b[49m\n\u001b[1;32m    201\u001b[0m S \u001b[38;5;241m=\u001b[39m scaling(x)\n\u001b[1;32m    202\u001b[0m \u001b[38;5;66;03m# Get projections\u001b[39;00m\n",
      "File \u001b[0;32m~/anaconda3/envs/barrier_certs_quantum/lib/python3.10/site-packages/scipy/optimize/_trustregion_constr/tr_interior_point.py:132\u001b[0m, in \u001b[0;36mBarrierSubproblem.gradient_and_jacobian\u001b[0;34m(self, z)\u001b[0m\n\u001b[1;32m    130\u001b[0m s \u001b[38;5;241m=\u001b[39m \u001b[38;5;28mself\u001b[39m\u001b[38;5;241m.\u001b[39mget_slack(z)\n\u001b[1;32m    131\u001b[0m \u001b[38;5;66;03m# Compute first derivatives\u001b[39;00m\n\u001b[0;32m--> 132\u001b[0m g \u001b[38;5;241m=\u001b[39m \u001b[38;5;28;43mself\u001b[39;49m\u001b[38;5;241;43m.\u001b[39;49m\u001b[43mgrad\u001b[49m\u001b[43m(\u001b[49m\u001b[43mx\u001b[49m\u001b[43m)\u001b[49m\n\u001b[1;32m    133\u001b[0m J_eq, J_ineq \u001b[38;5;241m=\u001b[39m \u001b[38;5;28mself\u001b[39m\u001b[38;5;241m.\u001b[39mjac(x)\n\u001b[1;32m    134\u001b[0m \u001b[38;5;66;03m# Return gradient and Jacobian\u001b[39;00m\n",
      "File \u001b[0;32m~/anaconda3/envs/barrier_certs_quantum/lib/python3.10/site-packages/scipy/optimize/_differentiable_functions.py:273\u001b[0m, in \u001b[0;36mScalarFunction.grad\u001b[0;34m(self, x)\u001b[0m\n\u001b[1;32m    271\u001b[0m \u001b[38;5;28;01mif\u001b[39;00m \u001b[38;5;129;01mnot\u001b[39;00m np\u001b[38;5;241m.\u001b[39marray_equal(x, \u001b[38;5;28mself\u001b[39m\u001b[38;5;241m.\u001b[39mx):\n\u001b[1;32m    272\u001b[0m     \u001b[38;5;28mself\u001b[39m\u001b[38;5;241m.\u001b[39m_update_x_impl(x)\n\u001b[0;32m--> 273\u001b[0m \u001b[38;5;28;43mself\u001b[39;49m\u001b[38;5;241;43m.\u001b[39;49m\u001b[43m_update_grad\u001b[49m\u001b[43m(\u001b[49m\u001b[43m)\u001b[49m\n\u001b[1;32m    274\u001b[0m \u001b[38;5;28;01mreturn\u001b[39;00m \u001b[38;5;28mself\u001b[39m\u001b[38;5;241m.\u001b[39mg\n",
      "File \u001b[0;32m~/anaconda3/envs/barrier_certs_quantum/lib/python3.10/site-packages/scipy/optimize/_differentiable_functions.py:256\u001b[0m, in \u001b[0;36mScalarFunction._update_grad\u001b[0;34m(self)\u001b[0m\n\u001b[1;32m    254\u001b[0m \u001b[38;5;28;01mdef\u001b[39;00m \u001b[38;5;21m_update_grad\u001b[39m(\u001b[38;5;28mself\u001b[39m):\n\u001b[1;32m    255\u001b[0m     \u001b[38;5;28;01mif\u001b[39;00m \u001b[38;5;129;01mnot\u001b[39;00m \u001b[38;5;28mself\u001b[39m\u001b[38;5;241m.\u001b[39mg_updated:\n\u001b[0;32m--> 256\u001b[0m         \u001b[38;5;28;43mself\u001b[39;49m\u001b[38;5;241;43m.\u001b[39;49m\u001b[43m_update_grad_impl\u001b[49m\u001b[43m(\u001b[49m\u001b[43m)\u001b[49m\n\u001b[1;32m    257\u001b[0m         \u001b[38;5;28mself\u001b[39m\u001b[38;5;241m.\u001b[39mg_updated \u001b[38;5;241m=\u001b[39m \u001b[38;5;28;01mTrue\u001b[39;00m\n",
      "File \u001b[0;32m~/anaconda3/envs/barrier_certs_quantum/lib/python3.10/site-packages/scipy/optimize/_differentiable_functions.py:173\u001b[0m, in \u001b[0;36mScalarFunction.__init__.<locals>.update_grad\u001b[0;34m()\u001b[0m\n\u001b[1;32m    171\u001b[0m \u001b[38;5;28mself\u001b[39m\u001b[38;5;241m.\u001b[39m_update_fun()\n\u001b[1;32m    172\u001b[0m \u001b[38;5;28mself\u001b[39m\u001b[38;5;241m.\u001b[39mngev \u001b[38;5;241m+\u001b[39m\u001b[38;5;241m=\u001b[39m \u001b[38;5;241m1\u001b[39m\n\u001b[0;32m--> 173\u001b[0m \u001b[38;5;28mself\u001b[39m\u001b[38;5;241m.\u001b[39mg \u001b[38;5;241m=\u001b[39m \u001b[43mapprox_derivative\u001b[49m\u001b[43m(\u001b[49m\u001b[43mfun_wrapped\u001b[49m\u001b[43m,\u001b[49m\u001b[43m \u001b[49m\u001b[38;5;28;43mself\u001b[39;49m\u001b[38;5;241;43m.\u001b[39;49m\u001b[43mx\u001b[49m\u001b[43m,\u001b[49m\u001b[43m \u001b[49m\u001b[43mf0\u001b[49m\u001b[38;5;241;43m=\u001b[39;49m\u001b[38;5;28;43mself\u001b[39;49m\u001b[38;5;241;43m.\u001b[39;49m\u001b[43mf\u001b[49m\u001b[43m,\u001b[49m\n\u001b[1;32m    174\u001b[0m \u001b[43m                           \u001b[49m\u001b[38;5;241;43m*\u001b[39;49m\u001b[38;5;241;43m*\u001b[39;49m\u001b[43mfinite_diff_options\u001b[49m\u001b[43m)\u001b[49m\n",
      "File \u001b[0;32m~/anaconda3/envs/barrier_certs_quantum/lib/python3.10/site-packages/scipy/optimize/_numdiff.py:505\u001b[0m, in \u001b[0;36mapprox_derivative\u001b[0;34m(fun, x0, method, rel_step, abs_step, f0, bounds, sparsity, as_linear_operator, args, kwargs)\u001b[0m\n\u001b[1;32m    502\u001b[0m     use_one_sided \u001b[38;5;241m=\u001b[39m \u001b[38;5;28;01mFalse\u001b[39;00m\n\u001b[1;32m    504\u001b[0m \u001b[38;5;28;01mif\u001b[39;00m sparsity \u001b[38;5;129;01mis\u001b[39;00m \u001b[38;5;28;01mNone\u001b[39;00m:\n\u001b[0;32m--> 505\u001b[0m     \u001b[38;5;28;01mreturn\u001b[39;00m \u001b[43m_dense_difference\u001b[49m\u001b[43m(\u001b[49m\u001b[43mfun_wrapped\u001b[49m\u001b[43m,\u001b[49m\u001b[43m \u001b[49m\u001b[43mx0\u001b[49m\u001b[43m,\u001b[49m\u001b[43m \u001b[49m\u001b[43mf0\u001b[49m\u001b[43m,\u001b[49m\u001b[43m \u001b[49m\u001b[43mh\u001b[49m\u001b[43m,\u001b[49m\n\u001b[1;32m    506\u001b[0m \u001b[43m                             \u001b[49m\u001b[43muse_one_sided\u001b[49m\u001b[43m,\u001b[49m\u001b[43m \u001b[49m\u001b[43mmethod\u001b[49m\u001b[43m)\u001b[49m\n\u001b[1;32m    507\u001b[0m \u001b[38;5;28;01melse\u001b[39;00m:\n\u001b[1;32m    508\u001b[0m     \u001b[38;5;28;01mif\u001b[39;00m \u001b[38;5;129;01mnot\u001b[39;00m issparse(sparsity) \u001b[38;5;129;01mand\u001b[39;00m \u001b[38;5;28mlen\u001b[39m(sparsity) \u001b[38;5;241m==\u001b[39m \u001b[38;5;241m2\u001b[39m:\n",
      "File \u001b[0;32m~/anaconda3/envs/barrier_certs_quantum/lib/python3.10/site-packages/scipy/optimize/_numdiff.py:576\u001b[0m, in \u001b[0;36m_dense_difference\u001b[0;34m(fun, x0, f0, h, use_one_sided, method)\u001b[0m\n\u001b[1;32m    574\u001b[0m     x \u001b[38;5;241m=\u001b[39m x0 \u001b[38;5;241m+\u001b[39m h_vecs[i]\n\u001b[1;32m    575\u001b[0m     dx \u001b[38;5;241m=\u001b[39m x[i] \u001b[38;5;241m-\u001b[39m x0[i]  \u001b[38;5;66;03m# Recompute dx as exactly representable number.\u001b[39;00m\n\u001b[0;32m--> 576\u001b[0m     df \u001b[38;5;241m=\u001b[39m \u001b[43mfun\u001b[49m\u001b[43m(\u001b[49m\u001b[43mx\u001b[49m\u001b[43m)\u001b[49m \u001b[38;5;241m-\u001b[39m f0\n\u001b[1;32m    577\u001b[0m \u001b[38;5;28;01melif\u001b[39;00m method \u001b[38;5;241m==\u001b[39m \u001b[38;5;124m'\u001b[39m\u001b[38;5;124m3-point\u001b[39m\u001b[38;5;124m'\u001b[39m \u001b[38;5;129;01mand\u001b[39;00m use_one_sided[i]:\n\u001b[1;32m    578\u001b[0m     x1 \u001b[38;5;241m=\u001b[39m x0 \u001b[38;5;241m+\u001b[39m h_vecs[i]\n",
      "File \u001b[0;32m~/anaconda3/envs/barrier_certs_quantum/lib/python3.10/site-packages/scipy/optimize/_numdiff.py:456\u001b[0m, in \u001b[0;36mapprox_derivative.<locals>.fun_wrapped\u001b[0;34m(x)\u001b[0m\n\u001b[1;32m    455\u001b[0m \u001b[38;5;28;01mdef\u001b[39;00m \u001b[38;5;21mfun_wrapped\u001b[39m(x):\n\u001b[0;32m--> 456\u001b[0m     f \u001b[38;5;241m=\u001b[39m np\u001b[38;5;241m.\u001b[39matleast_1d(\u001b[43mfun\u001b[49m\u001b[43m(\u001b[49m\u001b[43mx\u001b[49m\u001b[43m,\u001b[49m\u001b[43m \u001b[49m\u001b[38;5;241;43m*\u001b[39;49m\u001b[43margs\u001b[49m\u001b[43m,\u001b[49m\u001b[43m \u001b[49m\u001b[38;5;241;43m*\u001b[39;49m\u001b[38;5;241;43m*\u001b[39;49m\u001b[43mkwargs\u001b[49m\u001b[43m)\u001b[49m)\n\u001b[1;32m    457\u001b[0m     \u001b[38;5;28;01mif\u001b[39;00m f\u001b[38;5;241m.\u001b[39mndim \u001b[38;5;241m>\u001b[39m \u001b[38;5;241m1\u001b[39m:\n\u001b[1;32m    458\u001b[0m         \u001b[38;5;28;01mraise\u001b[39;00m \u001b[38;5;167;01mRuntimeError\u001b[39;00m(\u001b[38;5;124m\"\u001b[39m\u001b[38;5;124m`fun` return value has \u001b[39m\u001b[38;5;124m\"\u001b[39m\n\u001b[1;32m    459\u001b[0m                            \u001b[38;5;124m\"\u001b[39m\u001b[38;5;124mmore than 1 dimension.\u001b[39m\u001b[38;5;124m\"\u001b[39m)\n",
      "File \u001b[0;32m~/anaconda3/envs/barrier_certs_quantum/lib/python3.10/site-packages/scipy/optimize/_differentiable_functions.py:137\u001b[0m, in \u001b[0;36mScalarFunction.__init__.<locals>.fun_wrapped\u001b[0;34m(x)\u001b[0m\n\u001b[1;32m    133\u001b[0m \u001b[38;5;28mself\u001b[39m\u001b[38;5;241m.\u001b[39mnfev \u001b[38;5;241m+\u001b[39m\u001b[38;5;241m=\u001b[39m \u001b[38;5;241m1\u001b[39m\n\u001b[1;32m    134\u001b[0m \u001b[38;5;66;03m# Send a copy because the user may overwrite it.\u001b[39;00m\n\u001b[1;32m    135\u001b[0m \u001b[38;5;66;03m# Overwriting results in undefined behaviour because\u001b[39;00m\n\u001b[1;32m    136\u001b[0m \u001b[38;5;66;03m# fun(self.x) will change self.x, with the two no longer linked.\u001b[39;00m\n\u001b[0;32m--> 137\u001b[0m fx \u001b[38;5;241m=\u001b[39m \u001b[43mfun\u001b[49m\u001b[43m(\u001b[49m\u001b[43mnp\u001b[49m\u001b[38;5;241;43m.\u001b[39;49m\u001b[43mcopy\u001b[49m\u001b[43m(\u001b[49m\u001b[43mx\u001b[49m\u001b[43m)\u001b[49m\u001b[43m,\u001b[49m\u001b[43m \u001b[49m\u001b[38;5;241;43m*\u001b[39;49m\u001b[43margs\u001b[49m\u001b[43m)\u001b[49m\n\u001b[1;32m    138\u001b[0m \u001b[38;5;66;03m# Make sure the function returns a true scalar\u001b[39;00m\n\u001b[1;32m    139\u001b[0m \u001b[38;5;28;01mif\u001b[39;00m \u001b[38;5;129;01mnot\u001b[39;00m np\u001b[38;5;241m.\u001b[39misscalar(fx):\n",
      "Input \u001b[0;32mIn [3]\u001b[0m, in \u001b[0;36mscipy_find_constant.<locals>.obj\u001b[0;34m(x)\u001b[0m\n\u001b[1;32m      7\u001b[0m     sym_num \u001b[38;5;241m=\u001b[39m \u001b[38;5;28mint\u001b[39m(\u001b[38;5;28mstr\u001b[39m(var_sym)[\u001b[38;5;241m1\u001b[39m:])\n\u001b[1;32m      8\u001b[0m     b \u001b[38;5;241m=\u001b[39m b\u001b[38;5;241m.\u001b[39msubs({var_sym: z[sym_num]})\n\u001b[0;32m----> 9\u001b[0m \u001b[38;5;28;01mreturn\u001b[39;00m \u001b[38;5;241m-\u001b[39m\u001b[38;5;28mfloat\u001b[39m(\u001b[43msym\u001b[49m\u001b[38;5;241;43m.\u001b[39;49m\u001b[43mre\u001b[49m\u001b[43m(\u001b[49m\u001b[43mb\u001b[49m\u001b[43m)\u001b[49m)\n",
      "File \u001b[0;32m~/anaconda3/envs/barrier_certs_quantum/lib/python3.10/site-packages/sympy/core/cache.py:70\u001b[0m, in \u001b[0;36m__cacheit.<locals>.func_wrapper.<locals>.wrapper\u001b[0;34m(*args, **kwargs)\u001b[0m\n\u001b[1;32m     67\u001b[0m \u001b[38;5;129m@wraps\u001b[39m(func)\n\u001b[1;32m     68\u001b[0m \u001b[38;5;28;01mdef\u001b[39;00m \u001b[38;5;21mwrapper\u001b[39m(\u001b[38;5;241m*\u001b[39margs, \u001b[38;5;241m*\u001b[39m\u001b[38;5;241m*\u001b[39mkwargs):\n\u001b[1;32m     69\u001b[0m     \u001b[38;5;28;01mtry\u001b[39;00m:\n\u001b[0;32m---> 70\u001b[0m         retval \u001b[38;5;241m=\u001b[39m \u001b[43mcfunc\u001b[49m\u001b[43m(\u001b[49m\u001b[38;5;241;43m*\u001b[39;49m\u001b[43margs\u001b[49m\u001b[43m,\u001b[49m\u001b[43m \u001b[49m\u001b[38;5;241;43m*\u001b[39;49m\u001b[38;5;241;43m*\u001b[39;49m\u001b[43mkwargs\u001b[49m\u001b[43m)\u001b[49m\n\u001b[1;32m     71\u001b[0m     \u001b[38;5;28;01mexcept\u001b[39;00m \u001b[38;5;167;01mTypeError\u001b[39;00m \u001b[38;5;28;01mas\u001b[39;00m e:\n\u001b[1;32m     72\u001b[0m         \u001b[38;5;28;01mif\u001b[39;00m \u001b[38;5;129;01mnot\u001b[39;00m e\u001b[38;5;241m.\u001b[39margs \u001b[38;5;129;01mor\u001b[39;00m \u001b[38;5;129;01mnot\u001b[39;00m e\u001b[38;5;241m.\u001b[39margs[\u001b[38;5;241m0\u001b[39m]\u001b[38;5;241m.\u001b[39mstartswith(\u001b[38;5;124m'\u001b[39m\u001b[38;5;124munhashable type:\u001b[39m\u001b[38;5;124m'\u001b[39m):\n",
      "File \u001b[0;32m~/anaconda3/envs/barrier_certs_quantum/lib/python3.10/site-packages/sympy/core/function.py:476\u001b[0m, in \u001b[0;36mFunction.__new__\u001b[0;34m(cls, *args, **options)\u001b[0m\n\u001b[1;32m    468\u001b[0m     \u001b[38;5;28;01mraise\u001b[39;00m \u001b[38;5;167;01mTypeError\u001b[39;00m(temp \u001b[38;5;241m%\u001b[39m {\n\u001b[1;32m    469\u001b[0m         \u001b[38;5;124m'\u001b[39m\u001b[38;5;124mname\u001b[39m\u001b[38;5;124m'\u001b[39m: \u001b[38;5;28mcls\u001b[39m,\n\u001b[1;32m    470\u001b[0m         \u001b[38;5;124m'\u001b[39m\u001b[38;5;124mqual\u001b[39m\u001b[38;5;124m'\u001b[39m: \u001b[38;5;124m'\u001b[39m\u001b[38;5;124mexactly\u001b[39m\u001b[38;5;124m'\u001b[39m \u001b[38;5;28;01mif\u001b[39;00m \u001b[38;5;28mlen\u001b[39m(\u001b[38;5;28mcls\u001b[39m\u001b[38;5;241m.\u001b[39mnargs) \u001b[38;5;241m==\u001b[39m \u001b[38;5;241m1\u001b[39m \u001b[38;5;28;01melse\u001b[39;00m \u001b[38;5;124m'\u001b[39m\u001b[38;5;124mat least\u001b[39m\u001b[38;5;124m'\u001b[39m,\n\u001b[1;32m    471\u001b[0m         \u001b[38;5;124m'\u001b[39m\u001b[38;5;124margs\u001b[39m\u001b[38;5;124m'\u001b[39m: \u001b[38;5;28mmin\u001b[39m(\u001b[38;5;28mcls\u001b[39m\u001b[38;5;241m.\u001b[39mnargs),\n\u001b[1;32m    472\u001b[0m         \u001b[38;5;124m'\u001b[39m\u001b[38;5;124mplural\u001b[39m\u001b[38;5;124m'\u001b[39m: \u001b[38;5;124m'\u001b[39m\u001b[38;5;124ms\u001b[39m\u001b[38;5;124m'\u001b[39m\u001b[38;5;241m*\u001b[39m(\u001b[38;5;28mmin\u001b[39m(\u001b[38;5;28mcls\u001b[39m\u001b[38;5;241m.\u001b[39mnargs) \u001b[38;5;241m!=\u001b[39m \u001b[38;5;241m1\u001b[39m),\n\u001b[1;32m    473\u001b[0m         \u001b[38;5;124m'\u001b[39m\u001b[38;5;124mgiven\u001b[39m\u001b[38;5;124m'\u001b[39m: n})\n\u001b[1;32m    475\u001b[0m evaluate \u001b[38;5;241m=\u001b[39m options\u001b[38;5;241m.\u001b[39mget(\u001b[38;5;124m'\u001b[39m\u001b[38;5;124mevaluate\u001b[39m\u001b[38;5;124m'\u001b[39m, global_parameters\u001b[38;5;241m.\u001b[39mevaluate)\n\u001b[0;32m--> 476\u001b[0m result \u001b[38;5;241m=\u001b[39m \u001b[38;5;28;43msuper\u001b[39;49m\u001b[43m(\u001b[49m\u001b[43m)\u001b[49m\u001b[38;5;241;43m.\u001b[39;49m\u001b[38;5;21;43m__new__\u001b[39;49m\u001b[43m(\u001b[49m\u001b[38;5;28;43mcls\u001b[39;49m\u001b[43m,\u001b[49m\u001b[43m \u001b[49m\u001b[38;5;241;43m*\u001b[39;49m\u001b[43margs\u001b[49m\u001b[43m,\u001b[49m\u001b[43m \u001b[49m\u001b[38;5;241;43m*\u001b[39;49m\u001b[38;5;241;43m*\u001b[39;49m\u001b[43moptions\u001b[49m\u001b[43m)\u001b[49m\n\u001b[1;32m    477\u001b[0m \u001b[38;5;28;01mif\u001b[39;00m evaluate \u001b[38;5;129;01mand\u001b[39;00m \u001b[38;5;28misinstance\u001b[39m(result, \u001b[38;5;28mcls\u001b[39m) \u001b[38;5;129;01mand\u001b[39;00m result\u001b[38;5;241m.\u001b[39margs:\n\u001b[1;32m    478\u001b[0m     pr2 \u001b[38;5;241m=\u001b[39m \u001b[38;5;28mmin\u001b[39m(\u001b[38;5;28mcls\u001b[39m\u001b[38;5;241m.\u001b[39m_should_evalf(a) \u001b[38;5;28;01mfor\u001b[39;00m a \u001b[38;5;129;01min\u001b[39;00m result\u001b[38;5;241m.\u001b[39margs)\n",
      "File \u001b[0;32m~/anaconda3/envs/barrier_certs_quantum/lib/python3.10/site-packages/sympy/core/cache.py:70\u001b[0m, in \u001b[0;36m__cacheit.<locals>.func_wrapper.<locals>.wrapper\u001b[0;34m(*args, **kwargs)\u001b[0m\n\u001b[1;32m     67\u001b[0m \u001b[38;5;129m@wraps\u001b[39m(func)\n\u001b[1;32m     68\u001b[0m \u001b[38;5;28;01mdef\u001b[39;00m \u001b[38;5;21mwrapper\u001b[39m(\u001b[38;5;241m*\u001b[39margs, \u001b[38;5;241m*\u001b[39m\u001b[38;5;241m*\u001b[39mkwargs):\n\u001b[1;32m     69\u001b[0m     \u001b[38;5;28;01mtry\u001b[39;00m:\n\u001b[0;32m---> 70\u001b[0m         retval \u001b[38;5;241m=\u001b[39m \u001b[43mcfunc\u001b[49m\u001b[43m(\u001b[49m\u001b[38;5;241;43m*\u001b[39;49m\u001b[43margs\u001b[49m\u001b[43m,\u001b[49m\u001b[43m \u001b[49m\u001b[38;5;241;43m*\u001b[39;49m\u001b[38;5;241;43m*\u001b[39;49m\u001b[43mkwargs\u001b[49m\u001b[43m)\u001b[49m\n\u001b[1;32m     71\u001b[0m     \u001b[38;5;28;01mexcept\u001b[39;00m \u001b[38;5;167;01mTypeError\u001b[39;00m \u001b[38;5;28;01mas\u001b[39;00m e:\n\u001b[1;32m     72\u001b[0m         \u001b[38;5;28;01mif\u001b[39;00m \u001b[38;5;129;01mnot\u001b[39;00m e\u001b[38;5;241m.\u001b[39margs \u001b[38;5;129;01mor\u001b[39;00m \u001b[38;5;129;01mnot\u001b[39;00m e\u001b[38;5;241m.\u001b[39margs[\u001b[38;5;241m0\u001b[39m]\u001b[38;5;241m.\u001b[39mstartswith(\u001b[38;5;124m'\u001b[39m\u001b[38;5;124munhashable type:\u001b[39m\u001b[38;5;124m'\u001b[39m):\n",
      "File \u001b[0;32m~/anaconda3/envs/barrier_certs_quantum/lib/python3.10/site-packages/sympy/core/function.py:288\u001b[0m, in \u001b[0;36mApplication.__new__\u001b[0;34m(cls, *args, **options)\u001b[0m\n\u001b[1;32m    285\u001b[0m     \u001b[38;5;28;01mraise\u001b[39;00m \u001b[38;5;167;01mValueError\u001b[39;00m(\u001b[38;5;124m\"\u001b[39m\u001b[38;5;124mUnknown options: \u001b[39m\u001b[38;5;132;01m%s\u001b[39;00m\u001b[38;5;124m\"\u001b[39m \u001b[38;5;241m%\u001b[39m options)\n\u001b[1;32m    287\u001b[0m \u001b[38;5;28;01mif\u001b[39;00m evaluate:\n\u001b[0;32m--> 288\u001b[0m     evaluated \u001b[38;5;241m=\u001b[39m \u001b[38;5;28;43mcls\u001b[39;49m\u001b[38;5;241;43m.\u001b[39;49m\u001b[43meval\u001b[49m\u001b[43m(\u001b[49m\u001b[38;5;241;43m*\u001b[39;49m\u001b[43margs\u001b[49m\u001b[43m)\u001b[49m\n\u001b[1;32m    289\u001b[0m     \u001b[38;5;28;01mif\u001b[39;00m evaluated \u001b[38;5;129;01mis\u001b[39;00m \u001b[38;5;129;01mnot\u001b[39;00m \u001b[38;5;28;01mNone\u001b[39;00m:\n\u001b[1;32m    290\u001b[0m         \u001b[38;5;28;01mreturn\u001b[39;00m evaluated\n",
      "File \u001b[0;32m~/anaconda3/envs/barrier_certs_quantum/lib/python3.10/site-packages/sympy/functions/elementary/complexes.py:77\u001b[0m, in \u001b[0;36mre.eval\u001b[0;34m(cls, arg)\u001b[0m\n\u001b[1;32m     75\u001b[0m \u001b[38;5;28;01melif\u001b[39;00m arg \u001b[38;5;129;01mis\u001b[39;00m S\u001b[38;5;241m.\u001b[39mComplexInfinity:\n\u001b[1;32m     76\u001b[0m     \u001b[38;5;28;01mreturn\u001b[39;00m S\u001b[38;5;241m.\u001b[39mNaN\n\u001b[0;32m---> 77\u001b[0m \u001b[38;5;28;01melif\u001b[39;00m \u001b[43marg\u001b[49m\u001b[38;5;241;43m.\u001b[39;49m\u001b[43mis_extended_real\u001b[49m:\n\u001b[1;32m     78\u001b[0m     \u001b[38;5;28;01mreturn\u001b[39;00m arg\n\u001b[1;32m     79\u001b[0m \u001b[38;5;28;01melif\u001b[39;00m arg\u001b[38;5;241m.\u001b[39mis_imaginary \u001b[38;5;129;01mor\u001b[39;00m (S\u001b[38;5;241m.\u001b[39mImaginaryUnit\u001b[38;5;241m*\u001b[39marg)\u001b[38;5;241m.\u001b[39mis_extended_real:\n",
      "File \u001b[0;32m~/anaconda3/envs/barrier_certs_quantum/lib/python3.10/site-packages/sympy/core/assumptions.py:483\u001b[0m, in \u001b[0;36mmake_property.<locals>.getit\u001b[0;34m(self)\u001b[0m\n\u001b[1;32m    481\u001b[0m \u001b[38;5;28;01mif\u001b[39;00m \u001b[38;5;28mself\u001b[39m\u001b[38;5;241m.\u001b[39m_assumptions \u001b[38;5;129;01mis\u001b[39;00m \u001b[38;5;28mself\u001b[39m\u001b[38;5;241m.\u001b[39mdefault_assumptions:\n\u001b[1;32m    482\u001b[0m     \u001b[38;5;28mself\u001b[39m\u001b[38;5;241m.\u001b[39m_assumptions \u001b[38;5;241m=\u001b[39m \u001b[38;5;28mself\u001b[39m\u001b[38;5;241m.\u001b[39mdefault_assumptions\u001b[38;5;241m.\u001b[39mcopy()\n\u001b[0;32m--> 483\u001b[0m \u001b[38;5;28;01mreturn\u001b[39;00m \u001b[43m_ask\u001b[49m\u001b[43m(\u001b[49m\u001b[43mfact\u001b[49m\u001b[43m,\u001b[49m\u001b[43m \u001b[49m\u001b[38;5;28;43mself\u001b[39;49m\u001b[43m)\u001b[49m\n",
      "File \u001b[0;32m~/anaconda3/envs/barrier_certs_quantum/lib/python3.10/site-packages/sympy/core/assumptions.py:544\u001b[0m, in \u001b[0;36m_ask\u001b[0;34m(fact, obj)\u001b[0m\n\u001b[1;32m    542\u001b[0m     \u001b[38;5;28;01mpass\u001b[39;00m\n\u001b[1;32m    543\u001b[0m \u001b[38;5;28;01melse\u001b[39;00m:\n\u001b[0;32m--> 544\u001b[0m     a \u001b[38;5;241m=\u001b[39m \u001b[43mevaluate\u001b[49m\u001b[43m(\u001b[49m\u001b[43mobj\u001b[49m\u001b[43m)\u001b[49m\n\u001b[1;32m    545\u001b[0m     \u001b[38;5;28;01mif\u001b[39;00m a \u001b[38;5;129;01mis\u001b[39;00m \u001b[38;5;129;01mnot\u001b[39;00m \u001b[38;5;28;01mNone\u001b[39;00m:\n\u001b[1;32m    546\u001b[0m         assumptions\u001b[38;5;241m.\u001b[39mdeduce_all_facts(((fact, a),))\n",
      "File \u001b[0;32m~/anaconda3/envs/barrier_certs_quantum/lib/python3.10/site-packages/sympy/core/add.py:668\u001b[0m, in \u001b[0;36mAdd.<lambda>\u001b[0;34m(self)\u001b[0m\n\u001b[1;32m    665\u001b[0m \u001b[38;5;66;03m# assumption methods\u001b[39;00m\n\u001b[1;32m    666\u001b[0m _eval_is_real \u001b[38;5;241m=\u001b[39m \u001b[38;5;28;01mlambda\u001b[39;00m \u001b[38;5;28mself\u001b[39m: _fuzzy_group(\n\u001b[1;32m    667\u001b[0m     (a\u001b[38;5;241m.\u001b[39mis_real \u001b[38;5;28;01mfor\u001b[39;00m a \u001b[38;5;129;01min\u001b[39;00m \u001b[38;5;28mself\u001b[39m\u001b[38;5;241m.\u001b[39margs), quick_exit\u001b[38;5;241m=\u001b[39m\u001b[38;5;28;01mTrue\u001b[39;00m)\n\u001b[0;32m--> 668\u001b[0m _eval_is_extended_real \u001b[38;5;241m=\u001b[39m \u001b[38;5;28;01mlambda\u001b[39;00m \u001b[38;5;28mself\u001b[39m: \u001b[43m_fuzzy_group\u001b[49m\u001b[43m(\u001b[49m\n\u001b[1;32m    669\u001b[0m \u001b[43m    \u001b[49m\u001b[43m(\u001b[49m\u001b[43ma\u001b[49m\u001b[38;5;241;43m.\u001b[39;49m\u001b[43mis_extended_real\u001b[49m\u001b[43m \u001b[49m\u001b[38;5;28;43;01mfor\u001b[39;49;00m\u001b[43m \u001b[49m\u001b[43ma\u001b[49m\u001b[43m \u001b[49m\u001b[38;5;129;43;01min\u001b[39;49;00m\u001b[43m \u001b[49m\u001b[38;5;28;43mself\u001b[39;49m\u001b[38;5;241;43m.\u001b[39;49m\u001b[43margs\u001b[49m\u001b[43m)\u001b[49m\u001b[43m,\u001b[49m\u001b[43m \u001b[49m\u001b[43mquick_exit\u001b[49m\u001b[38;5;241;43m=\u001b[39;49m\u001b[38;5;28;43;01mTrue\u001b[39;49;00m\u001b[43m)\u001b[49m\n\u001b[1;32m    670\u001b[0m _eval_is_complex \u001b[38;5;241m=\u001b[39m \u001b[38;5;28;01mlambda\u001b[39;00m \u001b[38;5;28mself\u001b[39m: _fuzzy_group(\n\u001b[1;32m    671\u001b[0m     (a\u001b[38;5;241m.\u001b[39mis_complex \u001b[38;5;28;01mfor\u001b[39;00m a \u001b[38;5;129;01min\u001b[39;00m \u001b[38;5;28mself\u001b[39m\u001b[38;5;241m.\u001b[39margs), quick_exit\u001b[38;5;241m=\u001b[39m\u001b[38;5;28;01mTrue\u001b[39;00m)\n\u001b[1;32m    672\u001b[0m _eval_is_antihermitian \u001b[38;5;241m=\u001b[39m \u001b[38;5;28;01mlambda\u001b[39;00m \u001b[38;5;28mself\u001b[39m: _fuzzy_group(\n\u001b[1;32m    673\u001b[0m     (a\u001b[38;5;241m.\u001b[39mis_antihermitian \u001b[38;5;28;01mfor\u001b[39;00m a \u001b[38;5;129;01min\u001b[39;00m \u001b[38;5;28mself\u001b[39m\u001b[38;5;241m.\u001b[39margs), quick_exit\u001b[38;5;241m=\u001b[39m\u001b[38;5;28;01mTrue\u001b[39;00m)\n",
      "File \u001b[0;32m~/anaconda3/envs/barrier_certs_quantum/lib/python3.10/site-packages/sympy/core/logic.py:81\u001b[0m, in \u001b[0;36m_fuzzy_group\u001b[0;34m(args, quick_exit)\u001b[0m\n\u001b[1;32m     44\u001b[0m \u001b[38;5;124;03m\"\"\"Return True if all args are True, None if there is any None else False\u001b[39;00m\n\u001b[1;32m     45\u001b[0m \u001b[38;5;124;03munless ``quick_exit`` is True (then return None as soon as a second False\u001b[39;00m\n\u001b[1;32m     46\u001b[0m \u001b[38;5;124;03mis seen.\u001b[39;00m\n\u001b[0;32m   (...)\u001b[0m\n\u001b[1;32m     78\u001b[0m \n\u001b[1;32m     79\u001b[0m \u001b[38;5;124;03m\"\"\"\u001b[39;00m\n\u001b[1;32m     80\u001b[0m saw_other \u001b[38;5;241m=\u001b[39m \u001b[38;5;28;01mFalse\u001b[39;00m\n\u001b[0;32m---> 81\u001b[0m \u001b[38;5;28;01mfor\u001b[39;00m a \u001b[38;5;129;01min\u001b[39;00m args:\n\u001b[1;32m     82\u001b[0m     \u001b[38;5;28;01mif\u001b[39;00m a \u001b[38;5;129;01mis\u001b[39;00m \u001b[38;5;28;01mTrue\u001b[39;00m:\n\u001b[1;32m     83\u001b[0m         \u001b[38;5;28;01mcontinue\u001b[39;00m\n",
      "File \u001b[0;32m~/anaconda3/envs/barrier_certs_quantum/lib/python3.10/site-packages/sympy/core/add.py:669\u001b[0m, in \u001b[0;36m<genexpr>\u001b[0;34m(.0)\u001b[0m\n\u001b[1;32m    665\u001b[0m \u001b[38;5;66;03m# assumption methods\u001b[39;00m\n\u001b[1;32m    666\u001b[0m _eval_is_real \u001b[38;5;241m=\u001b[39m \u001b[38;5;28;01mlambda\u001b[39;00m \u001b[38;5;28mself\u001b[39m: _fuzzy_group(\n\u001b[1;32m    667\u001b[0m     (a\u001b[38;5;241m.\u001b[39mis_real \u001b[38;5;28;01mfor\u001b[39;00m a \u001b[38;5;129;01min\u001b[39;00m \u001b[38;5;28mself\u001b[39m\u001b[38;5;241m.\u001b[39margs), quick_exit\u001b[38;5;241m=\u001b[39m\u001b[38;5;28;01mTrue\u001b[39;00m)\n\u001b[1;32m    668\u001b[0m _eval_is_extended_real \u001b[38;5;241m=\u001b[39m \u001b[38;5;28;01mlambda\u001b[39;00m \u001b[38;5;28mself\u001b[39m: _fuzzy_group(\n\u001b[0;32m--> 669\u001b[0m     (\u001b[43ma\u001b[49m\u001b[38;5;241;43m.\u001b[39;49m\u001b[43mis_extended_real\u001b[49m \u001b[38;5;28;01mfor\u001b[39;00m a \u001b[38;5;129;01min\u001b[39;00m \u001b[38;5;28mself\u001b[39m\u001b[38;5;241m.\u001b[39margs), quick_exit\u001b[38;5;241m=\u001b[39m\u001b[38;5;28;01mTrue\u001b[39;00m)\n\u001b[1;32m    670\u001b[0m _eval_is_complex \u001b[38;5;241m=\u001b[39m \u001b[38;5;28;01mlambda\u001b[39;00m \u001b[38;5;28mself\u001b[39m: _fuzzy_group(\n\u001b[1;32m    671\u001b[0m     (a\u001b[38;5;241m.\u001b[39mis_complex \u001b[38;5;28;01mfor\u001b[39;00m a \u001b[38;5;129;01min\u001b[39;00m \u001b[38;5;28mself\u001b[39m\u001b[38;5;241m.\u001b[39margs), quick_exit\u001b[38;5;241m=\u001b[39m\u001b[38;5;28;01mTrue\u001b[39;00m)\n\u001b[1;32m    672\u001b[0m _eval_is_antihermitian \u001b[38;5;241m=\u001b[39m \u001b[38;5;28;01mlambda\u001b[39;00m \u001b[38;5;28mself\u001b[39m: _fuzzy_group(\n\u001b[1;32m    673\u001b[0m     (a\u001b[38;5;241m.\u001b[39mis_antihermitian \u001b[38;5;28;01mfor\u001b[39;00m a \u001b[38;5;129;01min\u001b[39;00m \u001b[38;5;28mself\u001b[39m\u001b[38;5;241m.\u001b[39margs), quick_exit\u001b[38;5;241m=\u001b[39m\u001b[38;5;28;01mTrue\u001b[39;00m)\n",
      "File \u001b[0;32m~/anaconda3/envs/barrier_certs_quantum/lib/python3.10/site-packages/sympy/core/assumptions.py:483\u001b[0m, in \u001b[0;36mmake_property.<locals>.getit\u001b[0;34m(self)\u001b[0m\n\u001b[1;32m    481\u001b[0m \u001b[38;5;28;01mif\u001b[39;00m \u001b[38;5;28mself\u001b[39m\u001b[38;5;241m.\u001b[39m_assumptions \u001b[38;5;129;01mis\u001b[39;00m \u001b[38;5;28mself\u001b[39m\u001b[38;5;241m.\u001b[39mdefault_assumptions:\n\u001b[1;32m    482\u001b[0m     \u001b[38;5;28mself\u001b[39m\u001b[38;5;241m.\u001b[39m_assumptions \u001b[38;5;241m=\u001b[39m \u001b[38;5;28mself\u001b[39m\u001b[38;5;241m.\u001b[39mdefault_assumptions\u001b[38;5;241m.\u001b[39mcopy()\n\u001b[0;32m--> 483\u001b[0m \u001b[38;5;28;01mreturn\u001b[39;00m \u001b[43m_ask\u001b[49m\u001b[43m(\u001b[49m\u001b[43mfact\u001b[49m\u001b[43m,\u001b[49m\u001b[43m \u001b[49m\u001b[38;5;28;43mself\u001b[39;49m\u001b[43m)\u001b[49m\n",
      "File \u001b[0;32m~/anaconda3/envs/barrier_certs_quantum/lib/python3.10/site-packages/sympy/core/assumptions.py:556\u001b[0m, in \u001b[0;36m_ask\u001b[0;34m(fact, obj)\u001b[0m\n\u001b[1;32m    554\u001b[0m     \u001b[38;5;28;01mcontinue\u001b[39;00m\n\u001b[1;32m    555\u001b[0m \u001b[38;5;28;01mif\u001b[39;00m pk \u001b[38;5;129;01min\u001b[39;00m handler_map:\n\u001b[0;32m--> 556\u001b[0m     \u001b[43m_ask\u001b[49m\u001b[43m(\u001b[49m\u001b[43mpk\u001b[49m\u001b[43m,\u001b[49m\u001b[43m \u001b[49m\u001b[43mobj\u001b[49m\u001b[43m)\u001b[49m\n\u001b[1;32m    558\u001b[0m     \u001b[38;5;66;03m# we might have found the value of fact\u001b[39;00m\n\u001b[1;32m    559\u001b[0m     ret_val \u001b[38;5;241m=\u001b[39m assumptions\u001b[38;5;241m.\u001b[39mget(fact)\n",
      "File \u001b[0;32m~/anaconda3/envs/barrier_certs_quantum/lib/python3.10/site-packages/sympy/core/assumptions.py:546\u001b[0m, in \u001b[0;36m_ask\u001b[0;34m(fact, obj)\u001b[0m\n\u001b[1;32m    544\u001b[0m     a \u001b[38;5;241m=\u001b[39m evaluate(obj)\n\u001b[1;32m    545\u001b[0m     \u001b[38;5;28;01mif\u001b[39;00m a \u001b[38;5;129;01mis\u001b[39;00m \u001b[38;5;129;01mnot\u001b[39;00m \u001b[38;5;28;01mNone\u001b[39;00m:\n\u001b[0;32m--> 546\u001b[0m         \u001b[43massumptions\u001b[49m\u001b[38;5;241;43m.\u001b[39;49m\u001b[43mdeduce_all_facts\u001b[49m\u001b[43m(\u001b[49m\u001b[43m(\u001b[49m\u001b[43m(\u001b[49m\u001b[43mfact\u001b[49m\u001b[43m,\u001b[49m\u001b[43m \u001b[49m\u001b[43ma\u001b[49m\u001b[43m)\u001b[49m\u001b[43m,\u001b[49m\u001b[43m)\u001b[49m\u001b[43m)\u001b[49m\n\u001b[1;32m    547\u001b[0m         \u001b[38;5;28;01mreturn\u001b[39;00m a\n\u001b[1;32m    549\u001b[0m \u001b[38;5;66;03m# Try assumption's prerequisites\u001b[39;00m\n",
      "File \u001b[0;32m~/anaconda3/envs/barrier_certs_quantum/lib/python3.10/site-packages/sympy/core/facts.py:533\u001b[0m, in \u001b[0;36mFactKB.deduce_all_facts\u001b[0;34m(self, facts)\u001b[0m\n\u001b[1;32m    531\u001b[0m \u001b[38;5;28;01mfor\u001b[39;00m bidx \u001b[38;5;129;01min\u001b[39;00m beta_maytrigger:\n\u001b[1;32m    532\u001b[0m     bcond, bimpl \u001b[38;5;241m=\u001b[39m beta_rules[bidx]\n\u001b[0;32m--> 533\u001b[0m     \u001b[38;5;28;01mif\u001b[39;00m \u001b[38;5;28;43mall\u001b[39;49m\u001b[43m(\u001b[49m\u001b[38;5;28;43mself\u001b[39;49m\u001b[38;5;241;43m.\u001b[39;49m\u001b[43mget\u001b[49m\u001b[43m(\u001b[49m\u001b[43mk\u001b[49m\u001b[43m)\u001b[49m\u001b[43m \u001b[49m\u001b[38;5;129;43;01mis\u001b[39;49;00m\u001b[43m \u001b[49m\u001b[43mv\u001b[49m\u001b[43m \u001b[49m\u001b[38;5;28;43;01mfor\u001b[39;49;00m\u001b[43m \u001b[49m\u001b[43mk\u001b[49m\u001b[43m,\u001b[49m\u001b[43m \u001b[49m\u001b[43mv\u001b[49m\u001b[43m \u001b[49m\u001b[38;5;129;43;01min\u001b[39;49;00m\u001b[43m \u001b[49m\u001b[43mbcond\u001b[49m\u001b[43m)\u001b[49m:\n\u001b[1;32m    534\u001b[0m         facts\u001b[38;5;241m.\u001b[39mappend(bimpl)\n",
      "\u001b[0;31mKeyboardInterrupt\u001b[0m: "
     ]
    }
   ],
   "source": [
    "d = 0.01\n",
    "H = [[0,0,0,0],\n",
    "     [0,0,0,d],\n",
    "     [0,0,1,-1],\n",
    "     [0,d,-1,1]]\n",
    "\n",
    "\n",
    "# init = near_10\n",
    "# unsafe = in_0region\n",
    "def init(x): return [x[0]**2 + x[1]**2,\n",
    "                     x[2]**2 + x[3]**2,\n",
    "                     x[4]**2 + x[5]**2,\n",
    "                     x[6]**2 + x[7]**2,\n",
    "                     x[0]**2 + x[1]**2 + x[2]**2 + x[3]**2 + x[4]**2 + x[5]**2 + x[6]**2 + x[7]**2]\n",
    "init_constraints = [NonlinearConstraint(init, [0, 0, 0.81, 0, 1], [0.09, 0.01, 1, 0.09, 1])]\n",
    "\n",
    "def unsafe(x): return [x[0]**2 + x[1]**2 + x[2]**2 + x[3]**2,\n",
    "                     x[4]**2 + x[5]**2 + x[6]**2 + x[7]**2,\n",
    "                     x[0]**2 + x[1]**2 + x[2]**2 + x[3]**2 + x[4]**2 + x[5]**2 + x[6]**2 + x[7]**2]\n",
    "unsafe_constraints= [NonlinearConstraint(unsafe, [.5,0,1], [1,.5,1])]\n",
    "\n",
    "b_ctop = scipy_find_k_barrier(2, H,\n",
    "                              init=init_constraints,\n",
    "                              unsafe=unsafe_constraints,\n",
    "                              linprog_obj=[16,23,37],\n",
    "                              # linprog_obj=[71,130],\n",
    "                              verbose=1)\n",
    "b_ctop"
   ]
  },
  {
   "cell_type": "markdown",
   "id": "bc3c28ca-d91d-4820-9be5-9e3b3bc174a6",
   "metadata": {
    "jp-MarkdownHeadingCollapsed": true,
    "tags": []
   },
   "source": [
    "## $e^{-iHt} = X$\n",
    "\n",
    "See https://doi.org/10.1142/S0217979297001143"
   ]
  },
  {
   "cell_type": "code",
   "execution_count": null,
   "id": "793357c2-11f6-4ced-b91a-283669179cb3",
   "metadata": {},
   "outputs": [],
   "source": [
    "H = [[.5,-.5],[-.5,.5]]\n",
    "# Need suitable init and unsafe regions\n",
    "def init(x): return [x[0]**2,\n",
    "                     x[1]**2,\n",
    "                     x[0]**2 + x[1]**2 + x[2]**2 + x[3]**2]\n",
    "init_constraints = [NonlinearConstraint(init, [.9, 0, 1], [1, 0, 1])]\n",
    "\n",
    "def unsafe(x): return [x[1],\n",
    "                       x[0]**2 + x[1]**2 + x[2]**2 + x[3]**2]\n",
    "unsafe_constraints = [NonlinearConstraint(unsafe, [.6, 1], [1, 1])]\n",
    "\n",
    "try:\n",
    "    barrier = scipy_find_k_barrier(2, H,\n",
    "                                   init=init_constraints,\n",
    "                                   unsafe=unsafe_constraints,\n",
    "                                   linprog_obj=[0,1],\n",
    "                                   # linprog_obj=list(range(14)),\n",
    "                                   verbose=1)\n",
    "    print(barrier)\n",
    "except:\n",
    "    print(\"Barrier was in unsafe region\")"
   ]
  },
  {
   "cell_type": "code",
   "execution_count": null,
   "id": "402ff619-0717-424a-855b-172da63fc874",
   "metadata": {},
   "outputs": [],
   "source": []
  },
  {
   "cell_type": "markdown",
   "id": "d63f8b20-c463-46ec-adad-3c55b541e2d1",
   "metadata": {
    "jp-MarkdownHeadingCollapsed": true,
    "tags": []
   },
   "source": [
    "## $e^{-iHt} = Y$"
   ]
  },
  {
   "cell_type": "code",
   "execution_count": null,
   "id": "be837e6e-cf3d-4f80-8a4e-641832c65949",
   "metadata": {},
   "outputs": [],
   "source": [
    "H = [[.5, .5j],[-.5j,.5]]\n",
    "init_constraints = close_to_zero\n",
    "unsafe_constraints = qubit_simple_constraints((_,_),(_,_))"
   ]
  },
  {
   "cell_type": "code",
   "execution_count": null,
   "id": "297d214b-470d-4171-8306-c856afb032de",
   "metadata": {},
   "outputs": [],
   "source": []
  },
  {
   "cell_type": "markdown",
   "id": "520eff85-0190-458a-a80a-608e4f3969a8",
   "metadata": {
    "tags": []
   },
   "source": [
    "## $e^{-iHt} = Z$"
   ]
  },
  {
   "cell_type": "code",
   "execution_count": null,
   "id": "68f3d83c-54bd-423a-92fc-b69e3619b546",
   "metadata": {},
   "outputs": [],
   "source": [
    "H = [[2,0],[0,1]]\n",
    "init_constraints = close_to_zero\n",
    "unsafe_constraints = qubit_simple_constraints((0,0.89),(0.11,1))\n",
    "\n",
    "barrier = scipy_find_k_barrier(2, H,\n",
    "                               init=init_constraints,\n",
    "                               unsafe=unsafe_constraints,\n",
    "                               linprog_obj=[0,12],\n",
    "                               verbose=1)\n",
    "barrier"
   ]
  },
  {
   "cell_type": "code",
   "execution_count": null,
   "id": "71cdb2d2-5edb-48f6-9fab-a80a977804f3",
   "metadata": {},
   "outputs": [],
   "source": []
  },
  {
   "cell_type": "code",
   "execution_count": null,
   "id": "93a92529-bf71-49e8-b375-c8517a948565",
   "metadata": {},
   "outputs": [],
   "source": [
    "H = [[2,0],[0,1]]\n",
    "init_constraints = close_to_one\n",
    "unsafe_constraints = qubit_simple_constraints((0.11,1),(0,0.89))\n",
    "\n",
    "barrier = scipy_find_k_barrier(2, H,\n",
    "                               init=init_constraints,\n",
    "                               unsafe=unsafe_constraints,\n",
    "                               linprog_obj=[0,7],\n",
    "                               verbose=1)\n",
    "barrier"
   ]
  },
  {
   "cell_type": "code",
   "execution_count": null,
   "id": "c456f900-750b-4dcc-9b30-902ad584fdf3",
   "metadata": {},
   "outputs": [],
   "source": []
  }
 ],
 "metadata": {
  "kernelspec": {
   "display_name": "Python 3 (ipykernel)",
   "language": "python",
   "name": "python3"
  },
  "language_info": {
   "codemirror_mode": {
    "name": "ipython",
    "version": 3
   },
   "file_extension": ".py",
   "mimetype": "text/x-python",
   "name": "python",
   "nbconvert_exporter": "python",
   "pygments_lexer": "ipython3",
   "version": "3.10.4"
  }
 },
 "nbformat": 4,
 "nbformat_minor": 5
}
